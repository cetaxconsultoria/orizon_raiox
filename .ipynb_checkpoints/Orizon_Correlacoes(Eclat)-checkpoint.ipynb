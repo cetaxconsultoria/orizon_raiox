{
 "cells": [
  {
   "cell_type": "markdown",
   "metadata": {},
   "source": [
    "# Orizon: Correlações entre Exames"
   ]
  },
  {
   "cell_type": "markdown",
   "metadata": {},
   "source": [
    "Vamos entender como os serviços se relacionam entre si computando a frequencia relativa à cada um deles por ID conta. Por exemplo, para um serviço X, selecionamos todos os id_contas em que ele aparece, e então computamos a frequencia em que os outros serivços aparecem junto deste serviço. "
   ]
  },
  {
   "cell_type": "code",
   "execution_count": 28,
   "metadata": {
    "collapsed": true
   },
   "outputs": [],
   "source": [
    "import pandas as pd\n",
    "import numpy as np\n",
    "from itertools import combinations\n",
    "from IPython.display import display\n",
    "import seaborn as sns\n",
    "import matplotlib.pyplot as plt\n"
   ]
  },
  {
   "cell_type": "markdown",
   "metadata": {},
   "source": [
    "Lendo os dados para a dataframe:"
   ]
  },
  {
   "cell_type": "code",
   "execution_count": 2,
   "metadata": {
    "collapsed": false
   },
   "outputs": [
    {
     "name": "stderr",
     "output_type": "stream",
     "text": [
      "/home/glucas/anaconda3/lib/python3.6/site-packages/IPython/core/interactiveshell.py:2717: DtypeWarning: Columns (49,50) have mixed types. Specify dtype option on import or set low_memory=False.\n",
      "  interactivity=interactivity, compiler=compiler, result=result)\n"
     ]
    }
   ],
   "source": [
    "df = pd.read_csv(\"../data_30726034.csv\", encoding = \"ISO-8859-1\")\n",
    "master = \"'30726034'\""
   ]
  },
  {
   "cell_type": "code",
   "execution_count": 3,
   "metadata": {
    "collapsed": false
   },
   "outputs": [
    {
     "data": {
      "text/html": [
       "<div>\n",
       "<table border=\"1\" class=\"dataframe\">\n",
       "  <thead>\n",
       "    <tr style=\"text-align: right;\">\n",
       "      <th></th>\n",
       "      <th>'categoria'</th>\n",
       "      <th>'id_cliente'</th>\n",
       "      <th>'cliente'</th>\n",
       "      <th>'id_lote'</th>\n",
       "      <th>'id_conta'</th>\n",
       "      <th>'guia_prestador'</th>\n",
       "      <th>'id_item'</th>\n",
       "      <th>'id_prestador'</th>\n",
       "      <th>'prestador'</th>\n",
       "      <th>'cnpj'</th>\n",
       "      <th>...</th>\n",
       "      <th>'qtde'</th>\n",
       "      <th>'valor'</th>\n",
       "      <th>'origem'</th>\n",
       "      <th>'cnpj_cpf_codnaoperadora_executante'</th>\n",
       "      <th>'data'</th>\n",
       "      <th>'ano_mes'</th>\n",
       "      <th>Unnamed: 47</th>\n",
       "      <th>Unnamed: 48</th>\n",
       "      <th>Unnamed: 49</th>\n",
       "      <th>Unnamed: 50</th>\n",
       "    </tr>\n",
       "  </thead>\n",
       "  <tbody>\n",
       "    <tr>\n",
       "      <th>0</th>\n",
       "      <td>'Seguradora Especializada em Saude'</td>\n",
       "      <td>'48'</td>\n",
       "      <td>'BRADESCO SAÃDE'</td>\n",
       "      <td>'42704626'</td>\n",
       "      <td>'1135485394'</td>\n",
       "      <td>'3280780'</td>\n",
       "      <td>'486879189'</td>\n",
       "      <td>'46069'</td>\n",
       "      <td>'CLINICA ORTOPEDICA PAULISTA LTDA'</td>\n",
       "      <td>'03140417000148'</td>\n",
       "      <td>...</td>\n",
       "      <td>'ARTROPLASTIA TOTAL DE JOELHO COM IMPLANTES - ...</td>\n",
       "      <td>'1.0'</td>\n",
       "      <td>'2000.68'</td>\n",
       "      <td>'0000282693'</td>\n",
       "      <td>'0000282693'</td>\n",
       "      <td>'2016-01-02'</td>\n",
       "      <td>NaN</td>\n",
       "      <td>NaN</td>\n",
       "      <td>NaN</td>\n",
       "      <td>NaN</td>\n",
       "    </tr>\n",
       "    <tr>\n",
       "      <th>1</th>\n",
       "      <td>'Seguradora Especializada em Saude'</td>\n",
       "      <td>'48'</td>\n",
       "      <td>'BRADESCO SAÃDE'</td>\n",
       "      <td>'42704626'</td>\n",
       "      <td>'1135485394'</td>\n",
       "      <td>'3280780'</td>\n",
       "      <td>'486879189'</td>\n",
       "      <td>'46069'</td>\n",
       "      <td>'CLINICA ORTOPEDICA PAULISTA LTDA'</td>\n",
       "      <td>'03140417000148'</td>\n",
       "      <td>...</td>\n",
       "      <td>'ARTROPLASTIA TOTAL DE JOELHO COM IMPLANTES - ...</td>\n",
       "      <td>'1.0'</td>\n",
       "      <td>'2000.68'</td>\n",
       "      <td>'0000282693'</td>\n",
       "      <td>'0000282693'</td>\n",
       "      <td>'2016-01-02'</td>\n",
       "      <td>NaN</td>\n",
       "      <td>NaN</td>\n",
       "      <td>NaN</td>\n",
       "      <td>NaN</td>\n",
       "    </tr>\n",
       "    <tr>\n",
       "      <th>2</th>\n",
       "      <td>'Seguradora Especializada em Saude'</td>\n",
       "      <td>'48'</td>\n",
       "      <td>'BRADESCO SAÃDE'</td>\n",
       "      <td>'42704626'</td>\n",
       "      <td>'1135485394'</td>\n",
       "      <td>'3280780'</td>\n",
       "      <td>'486879189'</td>\n",
       "      <td>'46069'</td>\n",
       "      <td>'CLINICA ORTOPEDICA PAULISTA LTDA'</td>\n",
       "      <td>'03140417000148'</td>\n",
       "      <td>...</td>\n",
       "      <td>'ARTROPLASTIA TOTAL DE JOELHO COM IMPLANTES - ...</td>\n",
       "      <td>'1.0'</td>\n",
       "      <td>'2000.68'</td>\n",
       "      <td>'0000282693'</td>\n",
       "      <td>'0000282693'</td>\n",
       "      <td>'2016-01-02'</td>\n",
       "      <td>NaN</td>\n",
       "      <td>NaN</td>\n",
       "      <td>NaN</td>\n",
       "      <td>NaN</td>\n",
       "    </tr>\n",
       "    <tr>\n",
       "      <th>3</th>\n",
       "      <td>'Seguradora Especializada em Saude'</td>\n",
       "      <td>'48'</td>\n",
       "      <td>'BRADESCO SAÃDE'</td>\n",
       "      <td>'42704626'</td>\n",
       "      <td>'1135485394'</td>\n",
       "      <td>'3280780'</td>\n",
       "      <td>'486879191'</td>\n",
       "      <td>'46069'</td>\n",
       "      <td>'CLINICA ORTOPEDICA PAULISTA LTDA'</td>\n",
       "      <td>'03140417000148'</td>\n",
       "      <td>...</td>\n",
       "      <td>'ARTROPLASTIA TOTAL DE JOELHO COM IMPLANTES - ...</td>\n",
       "      <td>'1.0'</td>\n",
       "      <td>'400.14'</td>\n",
       "      <td>'0000282693'</td>\n",
       "      <td>'0000282693'</td>\n",
       "      <td>'2016-01-02'</td>\n",
       "      <td>NaN</td>\n",
       "      <td>NaN</td>\n",
       "      <td>NaN</td>\n",
       "      <td>NaN</td>\n",
       "    </tr>\n",
       "    <tr>\n",
       "      <th>4</th>\n",
       "      <td>'Seguradora Especializada em Saude'</td>\n",
       "      <td>'48'</td>\n",
       "      <td>'BRADESCO SAÃDE'</td>\n",
       "      <td>'42704626'</td>\n",
       "      <td>'1135485394'</td>\n",
       "      <td>'3280780'</td>\n",
       "      <td>'486879191'</td>\n",
       "      <td>'46069'</td>\n",
       "      <td>'CLINICA ORTOPEDICA PAULISTA LTDA'</td>\n",
       "      <td>'03140417000148'</td>\n",
       "      <td>...</td>\n",
       "      <td>'ARTROPLASTIA TOTAL DE JOELHO COM IMPLANTES - ...</td>\n",
       "      <td>'1.0'</td>\n",
       "      <td>'400.14'</td>\n",
       "      <td>'0000282693'</td>\n",
       "      <td>'0000282693'</td>\n",
       "      <td>'2016-01-02'</td>\n",
       "      <td>NaN</td>\n",
       "      <td>NaN</td>\n",
       "      <td>NaN</td>\n",
       "      <td>NaN</td>\n",
       "    </tr>\n",
       "  </tbody>\n",
       "</table>\n",
       "<p>5 rows × 51 columns</p>\n",
       "</div>"
      ],
      "text/plain": [
       "                           'categoria' 'id_cliente'          'cliente'  \\\n",
       "0  'Seguradora Especializada em Saude'         '48'  'BRADESCO SAÃDE'   \n",
       "1  'Seguradora Especializada em Saude'         '48'  'BRADESCO SAÃDE'   \n",
       "2  'Seguradora Especializada em Saude'         '48'  'BRADESCO SAÃDE'   \n",
       "3  'Seguradora Especializada em Saude'         '48'  'BRADESCO SAÃDE'   \n",
       "4  'Seguradora Especializada em Saude'         '48'  'BRADESCO SAÃDE'   \n",
       "\n",
       "    'id_lote'    'id_conta' 'guia_prestador'    'id_item' 'id_prestador'  \\\n",
       "0  '42704626'  '1135485394'        '3280780'  '486879189'        '46069'   \n",
       "1  '42704626'  '1135485394'        '3280780'  '486879189'        '46069'   \n",
       "2  '42704626'  '1135485394'        '3280780'  '486879189'        '46069'   \n",
       "3  '42704626'  '1135485394'        '3280780'  '486879191'        '46069'   \n",
       "4  '42704626'  '1135485394'        '3280780'  '486879191'        '46069'   \n",
       "\n",
       "                          'prestador'            'cnpj'     ...      \\\n",
       "0  'CLINICA ORTOPEDICA PAULISTA LTDA'  '03140417000148'     ...       \n",
       "1  'CLINICA ORTOPEDICA PAULISTA LTDA'  '03140417000148'     ...       \n",
       "2  'CLINICA ORTOPEDICA PAULISTA LTDA'  '03140417000148'     ...       \n",
       "3  'CLINICA ORTOPEDICA PAULISTA LTDA'  '03140417000148'     ...       \n",
       "4  'CLINICA ORTOPEDICA PAULISTA LTDA'  '03140417000148'     ...       \n",
       "\n",
       "                                              'qtde' 'valor'   'origem'  \\\n",
       "0  'ARTROPLASTIA TOTAL DE JOELHO COM IMPLANTES - ...   '1.0'  '2000.68'   \n",
       "1  'ARTROPLASTIA TOTAL DE JOELHO COM IMPLANTES - ...   '1.0'  '2000.68'   \n",
       "2  'ARTROPLASTIA TOTAL DE JOELHO COM IMPLANTES - ...   '1.0'  '2000.68'   \n",
       "3  'ARTROPLASTIA TOTAL DE JOELHO COM IMPLANTES - ...   '1.0'   '400.14'   \n",
       "4  'ARTROPLASTIA TOTAL DE JOELHO COM IMPLANTES - ...   '1.0'   '400.14'   \n",
       "\n",
       "  'cnpj_cpf_codnaoperadora_executante'        'data'     'ano_mes'  \\\n",
       "0                         '0000282693'  '0000282693'  '2016-01-02'   \n",
       "1                         '0000282693'  '0000282693'  '2016-01-02'   \n",
       "2                         '0000282693'  '0000282693'  '2016-01-02'   \n",
       "3                         '0000282693'  '0000282693'  '2016-01-02'   \n",
       "4                         '0000282693'  '0000282693'  '2016-01-02'   \n",
       "\n",
       "  Unnamed: 47 Unnamed: 48 Unnamed: 49 Unnamed: 50  \n",
       "0         NaN         NaN         NaN         NaN  \n",
       "1         NaN         NaN         NaN         NaN  \n",
       "2         NaN         NaN         NaN         NaN  \n",
       "3         NaN         NaN         NaN         NaN  \n",
       "4         NaN         NaN         NaN         NaN  \n",
       "\n",
       "[5 rows x 51 columns]"
      ]
     },
     "execution_count": 3,
     "metadata": {},
     "output_type": "execute_result"
    }
   ],
   "source": [
    "df.head()"
   ]
  },
  {
   "cell_type": "code",
   "execution_count": 4,
   "metadata": {
    "collapsed": true
   },
   "outputs": [],
   "source": [
    "df['\\'data\\''].loc[df['\\'servico\\''].str.contains(r'^.{4}(?!\\d+).*')] = 'Deslocado'\n",
    "df['\\'tipo_item\\''].loc[df['\\'data\\''] == 'Deslocado'] = df['\\'desc_tipoalta\\''].loc[df['\\'data\\''] == 'Deslocado']\n",
    "df['\\'servico\\''].loc[df['\\'data\\''] == 'Deslocado'] = df['\\'descricao_despesa\\''].loc[df['\\'data\\''] == 'Deslocado']\n",
    "df['\\'descricao_despesa\\''].loc[df['\\'data\\''] == 'Deslocado'] = df['\\'qtde\\''].loc[df['\\'data\\''] == 'Deslocado']\n",
    "df['\\'qtde\\''].loc[df['\\'data\\''] == 'Deslocado'] = df['\\'valor\\''].loc[df['\\'data\\''] == 'Deslocado']\n",
    "df['\\'valor\\''].loc[df['\\'data\\''] == 'Deslocado'] = df['\\'origem\\''].loc[df['\\'data\\''] == 'Deslocado']"
   ]
  },
  {
   "cell_type": "markdown",
   "metadata": {},
   "source": [
    "Selecionando apenas os campos relevantes para esta análise:"
   ]
  },
  {
   "cell_type": "code",
   "execution_count": 5,
   "metadata": {
    "collapsed": true
   },
   "outputs": [],
   "source": [
    "selected_df = pd.concat([df[\"'id_conta'\"], df[\"'servico'\"], df[\"'descricao_despesa'\"], df[\"'tipo_item'\"]], axis=1)"
   ]
  },
  {
   "cell_type": "markdown",
   "metadata": {},
   "source": [
    "Removendo as aspas das labels para facilitar o trabalho:"
   ]
  },
  {
   "cell_type": "code",
   "execution_count": 6,
   "metadata": {
    "collapsed": true
   },
   "outputs": [],
   "source": [
    "selected_df.columns = [\"id_conta\", \"servico\", \"descricao\", \"tipo_item\"]"
   ]
  },
  {
   "cell_type": "markdown",
   "metadata": {},
   "source": [
    "Vamos trabalhar apenas com os id_conta atrelados à mais de um serviço:"
   ]
  },
  {
   "cell_type": "code",
   "execution_count": 7,
   "metadata": {
    "collapsed": true
   },
   "outputs": [],
   "source": [
    "count_df = selected_df.groupby(\"id_conta\").count()"
   ]
  },
  {
   "cell_type": "code",
   "execution_count": 8,
   "metadata": {
    "collapsed": true
   },
   "outputs": [],
   "source": [
    "def get_count(acc_id):\n",
    "    return count_df.lookup([acc_id], [\"servico\"])[0]"
   ]
  },
  {
   "cell_type": "code",
   "execution_count": 9,
   "metadata": {
    "collapsed": true
   },
   "outputs": [],
   "source": [
    "selected_df[\"count\"] = selected_df[\"id_conta\"].map(get_count)"
   ]
  },
  {
   "cell_type": "code",
   "execution_count": 10,
   "metadata": {
    "collapsed": true
   },
   "outputs": [],
   "source": [
    "selected_df = selected_df[selected_df[\"count\"] > 1].drop(\"count\", axis=1)"
   ]
  },
  {
   "cell_type": "markdown",
   "metadata": {},
   "source": [
    "Algumas observações possuem apenas \" no campo serviço, vamos filtra-las também:"
   ]
  },
  {
   "cell_type": "code",
   "execution_count": 11,
   "metadata": {
    "collapsed": true
   },
   "outputs": [],
   "source": [
    "selected_df = selected_df[selected_df[\"servico\"] != '\"']\n",
    "selected_df = selected_df[selected_df[\"servico\"] != \"''\"]"
   ]
  },
  {
   "cell_type": "code",
   "execution_count": 12,
   "metadata": {
    "collapsed": false
   },
   "outputs": [
    {
     "data": {
      "text/html": [
       "<div>\n",
       "<table border=\"1\" class=\"dataframe\">\n",
       "  <thead>\n",
       "    <tr style=\"text-align: right;\">\n",
       "      <th></th>\n",
       "      <th>id_conta</th>\n",
       "      <th>servico</th>\n",
       "      <th>descricao</th>\n",
       "      <th>tipo_item</th>\n",
       "    </tr>\n",
       "  </thead>\n",
       "  <tbody>\n",
       "    <tr>\n",
       "      <th>19</th>\n",
       "      <td>'1135853444'</td>\n",
       "      <td>'30726239'</td>\n",
       "      <td>'Realinhamentos do aparelho extensor - tratame...</td>\n",
       "      <td>'PROCEDIMENTO'</td>\n",
       "    </tr>\n",
       "    <tr>\n",
       "      <th>20</th>\n",
       "      <td>'1135853444'</td>\n",
       "      <td>'30726034'</td>\n",
       "      <td>'Artroplastia total de joelho com implantes - ...</td>\n",
       "      <td>'PROCEDIMENTO'</td>\n",
       "    </tr>\n",
       "    <tr>\n",
       "      <th>21</th>\n",
       "      <td>'1135853444'</td>\n",
       "      <td>'30726042'</td>\n",
       "      <td>'Artrotomia - tratamento cirÃºrgico'</td>\n",
       "      <td>'PROCEDIMENTO'</td>\n",
       "    </tr>\n",
       "    <tr>\n",
       "      <th>22</th>\n",
       "      <td>'1135853446'</td>\n",
       "      <td>'30726042'</td>\n",
       "      <td>'Artrotomia - tratamento cirÃºrgico'</td>\n",
       "      <td>'PROCEDIMENTO'</td>\n",
       "    </tr>\n",
       "    <tr>\n",
       "      <th>23</th>\n",
       "      <td>'1135853446'</td>\n",
       "      <td>'30726239'</td>\n",
       "      <td>'Realinhamentos do aparelho extensor - tratame...</td>\n",
       "      <td>'PROCEDIMENTO'</td>\n",
       "    </tr>\n",
       "  </tbody>\n",
       "</table>\n",
       "</div>"
      ],
      "text/plain": [
       "        id_conta     servico  \\\n",
       "19  '1135853444'  '30726239'   \n",
       "20  '1135853444'  '30726034'   \n",
       "21  '1135853444'  '30726042'   \n",
       "22  '1135853446'  '30726042'   \n",
       "23  '1135853446'  '30726239'   \n",
       "\n",
       "                                            descricao       tipo_item  \n",
       "19  'Realinhamentos do aparelho extensor - tratame...  'PROCEDIMENTO'  \n",
       "20  'Artroplastia total de joelho com implantes - ...  'PROCEDIMENTO'  \n",
       "21               'Artrotomia - tratamento cirÃºrgico'  'PROCEDIMENTO'  \n",
       "22               'Artrotomia - tratamento cirÃºrgico'  'PROCEDIMENTO'  \n",
       "23  'Realinhamentos do aparelho extensor - tratame...  'PROCEDIMENTO'  "
      ]
     },
     "execution_count": 12,
     "metadata": {},
     "output_type": "execute_result"
    }
   ],
   "source": [
    "selected_df.head()"
   ]
  },
  {
   "cell_type": "markdown",
   "metadata": {},
   "source": [
    "O resultado que estamos buscando é uma tabela que mostre, para cada serviço, os serviços que aparecem com mais frequencia junto dele. Para isso, começamos definindo uma função para selecionar apenas os id_conta que contem um dado serviço:"
   ]
  },
  {
   "cell_type": "code",
   "execution_count": 13,
   "metadata": {
    "collapsed": true
   },
   "outputs": [],
   "source": [
    "def select_ids_containing_service(service):\n",
    "    acc_ids = selected_df[selected_df[\"servico\"] == service][\"id_conta\"].values\n",
    "    return selected_df.loc[selected_df[\"id_conta\"].isin(acc_ids)]"
   ]
  },
  {
   "cell_type": "markdown",
   "metadata": {},
   "source": [
    "Agora, definimos uma função para computar as frequencias de cada serviço dentro das dataframes selecionadas pela função acima:"
   ]
  },
  {
   "cell_type": "code",
   "execution_count": 15,
   "metadata": {
    "collapsed": true
   },
   "outputs": [],
   "source": [
    "def get_percentage(service, service_df):\n",
    "    unique_acc_ids = len(service_df[\"id_conta\"].unique())\n",
    "    count_num = len(service_df[service_df[\"servico\"] == service][\"id_conta\"].unique())\n",
    "    return (float(count_num) / unique_acc_ids) * 100.0"
   ]
  },
  {
   "cell_type": "markdown",
   "metadata": {},
   "source": [
    "O mesmo conceito do select_ids_containing_service, só que essa função também funciona para um conjunto de serviços, retornando o número total de contas que o grupo aparece:"
   ]
  },
  {
   "cell_type": "code",
   "execution_count": 16,
   "metadata": {
    "collapsed": true
   },
   "outputs": [],
   "source": [
    "def support(service):\n",
    "    acc_ids = selected_df[selected_df[\"servico\"] == service[0]][\"id_conta\"].values\n",
    "    for i in range(1,len(service)):\n",
    "        acc_ids = selected_df[(selected_df[\"servico\"] == service[i]) & (selected_df[\"id_conta\"].isin(acc_ids))][\"id_conta\"].values\n",
    "    return selected_df.loc[selected_df[\"id_conta\"].isin(acc_ids)][\"id_conta\"].unique().shape[0]"
   ]
  },
  {
   "cell_type": "markdown",
   "metadata": {},
   "source": [
    "Essa função servirá para o algoritmo de associação do eclat, ele elimina os grupos de serviços que contém todos os serviços de um lista de elementos."
   ]
  },
  {
   "cell_type": "code",
   "execution_count": 17,
   "metadata": {
    "collapsed": true
   },
   "outputs": [],
   "source": [
    "def drop_comb(elements,grupo):\n",
    "    return len(list(filter(lambda x: x in elements, grupo))) != len(elements)"
   ]
  },
  {
   "cell_type": "markdown",
   "metadata": {},
   "source": [
    "Função que retorna uma lista com todas as combinações possíveis dados os elemeentos de uma lista e o total de elementos por grupo, ela também só retornará apenas os grupos que não estão contidos em uma lista de elementos, utilizando a função drop_comb:"
   ]
  },
  {
   "cell_type": "code",
   "execution_count": 18,
   "metadata": {
    "collapsed": true
   },
   "outputs": [],
   "source": [
    "def combinations_test(iterable, r,drops):\n",
    "    # combinations('ABCD', 2) --> AB AC AD BC BD CD\n",
    "    # combinations(range(4), 3) --> 012 013 023 123\n",
    "    pool = tuple(iterable)\n",
    "    n = len(pool)\n",
    "    if r > n:\n",
    "        return\n",
    "    indices = list(range(r))\n",
    "    comb = tuple(pool[i] for i in indices)\n",
    "    i=0\n",
    "    for drop in drops:\n",
    "        if drop_comb(drop,comb)==False:\n",
    "            break;\n",
    "        i=i+1\n",
    "        if i==len(drops):\n",
    "            yield comb\n",
    "    while True:\n",
    "        for i in reversed(range(r)):\n",
    "            if indices[i] != i + n - r:\n",
    "                break\n",
    "        else:\n",
    "            return\n",
    "        indices[i] += 1\n",
    "        for j in range(i+1, r):\n",
    "            indices[j] = indices[j-1] + 1\n",
    "        comb = tuple(pool[i] for i in indices)\n",
    "        i=0\n",
    "        for drop in drops:\n",
    "            if drop_comb(drop,comb)==False:\n",
    "                break;\n",
    "            i=i+1\n",
    "            if i==len(drops):\n",
    "                yield comb"
   ]
  },
  {
   "cell_type": "markdown",
   "metadata": {},
   "source": [
    "Função com base no algoritmo eclat, que agrupará os serviços de acordo com o seu suporte(vezes que aparece na conta):"
   ]
  },
  {
   "cell_type": "code",
   "execution_count": 19,
   "metadata": {
    "collapsed": true,
    "scrolled": true
   },
   "outputs": [],
   "source": [
    "def eclat(lista,i=1,ids_drop=[],min_sup=10):\n",
    "    serv_list=[]\n",
    "    ids = []\n",
    "    new_ids_drop = []\n",
    "    if(i==1):\n",
    "        for service in lista:\n",
    "            supp = support([service])\n",
    "            if(supp>min_sup):\n",
    "                serv_list.append(supp)\n",
    "                ids.append(service)\n",
    "        return ids,serv_list,ids_drop\n",
    "    else:\n",
    "        if len(ids_drop)>0:\n",
    "            ids_2 = list(combinations_test(lista,i,ids_drop))\n",
    "        else:\n",
    "            ids_2 = list(combinations(lista,i))\n",
    "        \n",
    "#         if len(ids_drop)>0:\n",
    "#             for drops in ids_drop:\n",
    "#                 ids_2 = list(filter(lambda x: drop_comb(elements=drops,lista=x),ids_2))\n",
    "        for service in ids_2:\n",
    "            supp = support(service)\n",
    "            if(supp>min_sup):\n",
    "                serv_list.append(supp)\n",
    "                ids.append(service)\n",
    "            else:\n",
    "                new_ids_drop.append(service)\n",
    "        return ids,serv_list,new_ids_drop\n",
    "    "
   ]
  },
  {
   "cell_type": "markdown",
   "metadata": {},
   "source": [
    "Retornando o número de contas equivalentes a 30% do total de contas, para utilizar como mínimo suporte"
   ]
  },
  {
   "cell_type": "code",
   "execution_count": 20,
   "metadata": {
    "collapsed": false
   },
   "outputs": [],
   "source": [
    "min_sup = int(0.3*support([master]))"
   ]
  },
  {
   "cell_type": "markdown",
   "metadata": {},
   "source": [
    "Iteração final:"
   ]
  },
  {
   "cell_type": "code",
   "execution_count": 21,
   "metadata": {
    "collapsed": false
   },
   "outputs": [
    {
     "name": "stdout",
     "output_type": "stream",
     "text": [
      "2\n",
      "3\n",
      "4\n",
      "5\n",
      "6\n",
      "7\n",
      "8\n"
     ]
    }
   ],
   "source": [
    "lista = selected_df['servico'].unique()\n",
    "ids, serv_list, ids_drop = eclat(lista,min_sup=min_sup)\n",
    "i=2\n",
    "final_id = ids\n",
    "final_serv = serv_list\n",
    "new_serv = [1,1]\n",
    "while True:\n",
    "    if(len(new_serv)<2):\n",
    "        break\n",
    "    else:\n",
    "        print(i)\n",
    "        new_ids, new_serv, ids_drop = eclat(lista=ids,ids_drop=ids_drop,i=i,min_sup=min_sup)\n",
    "        final_id = final_id + new_ids\n",
    "        final_serv = final_serv + new_serv\n",
    "        i = i + 1\n",
    "        ids = []\n",
    "        for x in new_ids:\n",
    "            for y in x:\n",
    "                if y not in ids:\n",
    "                    ids.append(y)\n",
    "\n",
    "\n",
    "    "
   ]
  },
  {
   "cell_type": "markdown",
   "metadata": {},
   "source": [
    "Passando o resultado para um DataFrame e na ordem do maior para o menor:"
   ]
  },
  {
   "cell_type": "code",
   "execution_count": 71,
   "metadata": {
    "collapsed": false
   },
   "outputs": [
    {
     "data": {
      "text/html": [
       "<div>\n",
       "<table border=\"1\" class=\"dataframe\">\n",
       "  <thead>\n",
       "    <tr style=\"text-align: right;\">\n",
       "      <th></th>\n",
       "      <th>Suporte</th>\n",
       "    </tr>\n",
       "  </thead>\n",
       "  <tbody>\n",
       "    <tr>\n",
       "      <th>'30726034'</th>\n",
       "      <td>100.000000</td>\n",
       "    </tr>\n",
       "    <tr>\n",
       "      <th>'40304361'</th>\n",
       "      <td>52.998909</td>\n",
       "    </tr>\n",
       "    <tr>\n",
       "      <th>('30726034', '40304361')</th>\n",
       "      <td>52.998909</td>\n",
       "    </tr>\n",
       "    <tr>\n",
       "      <th>'90196031'</th>\n",
       "      <td>49.509269</td>\n",
       "    </tr>\n",
       "    <tr>\n",
       "      <th>('30726034', '90196031')</th>\n",
       "      <td>49.509269</td>\n",
       "    </tr>\n",
       "    <tr>\n",
       "      <th>'40301630'</th>\n",
       "      <td>48.200654</td>\n",
       "    </tr>\n",
       "    <tr>\n",
       "      <th>('30726034', '40301630')</th>\n",
       "      <td>48.200654</td>\n",
       "    </tr>\n",
       "    <tr>\n",
       "      <th>('40304361', '40301630')</th>\n",
       "      <td>47.873501</td>\n",
       "    </tr>\n",
       "    <tr>\n",
       "      <th>('30726034', '40304361', '40301630')</th>\n",
       "      <td>47.873501</td>\n",
       "    </tr>\n",
       "    <tr>\n",
       "      <th>('30726034', '40302580')</th>\n",
       "      <td>47.328244</td>\n",
       "    </tr>\n",
       "    <tr>\n",
       "      <th>'40302580'</th>\n",
       "      <td>47.328244</td>\n",
       "    </tr>\n",
       "    <tr>\n",
       "      <th>('30726034', '40304361', '40302580')</th>\n",
       "      <td>47.110142</td>\n",
       "    </tr>\n",
       "    <tr>\n",
       "      <th>('40304361', '40302580')</th>\n",
       "      <td>47.110142</td>\n",
       "    </tr>\n",
       "    <tr>\n",
       "      <th>('30726034', '40302580', '40301630')</th>\n",
       "      <td>47.110142</td>\n",
       "    </tr>\n",
       "    <tr>\n",
       "      <th>('40302580', '40301630')</th>\n",
       "      <td>47.110142</td>\n",
       "    </tr>\n",
       "    <tr>\n",
       "      <th>('30726034', '40302318')</th>\n",
       "      <td>46.892039</td>\n",
       "    </tr>\n",
       "    <tr>\n",
       "      <th>('40304361', '40302580', '40301630')</th>\n",
       "      <td>46.892039</td>\n",
       "    </tr>\n",
       "    <tr>\n",
       "      <th>'40302318'</th>\n",
       "      <td>46.892039</td>\n",
       "    </tr>\n",
       "    <tr>\n",
       "      <th>('30726034', '40304361', '40302580', '40301630')</th>\n",
       "      <td>46.892039</td>\n",
       "    </tr>\n",
       "    <tr>\n",
       "      <th>('30726034', '40302423')</th>\n",
       "      <td>46.782988</td>\n",
       "    </tr>\n",
       "    <tr>\n",
       "      <th>'40302423'</th>\n",
       "      <td>46.782988</td>\n",
       "    </tr>\n",
       "    <tr>\n",
       "      <th>('30726034', '40304361', '40302318')</th>\n",
       "      <td>46.673937</td>\n",
       "    </tr>\n",
       "    <tr>\n",
       "      <th>('40304361', '40302318')</th>\n",
       "      <td>46.673937</td>\n",
       "    </tr>\n",
       "    <tr>\n",
       "      <th>('30726034', '40302423', '40301630')</th>\n",
       "      <td>46.564885</td>\n",
       "    </tr>\n",
       "    <tr>\n",
       "      <th>('40302318', '40301630')</th>\n",
       "      <td>46.564885</td>\n",
       "    </tr>\n",
       "    <tr>\n",
       "      <th>('40304361', '40302423')</th>\n",
       "      <td>46.564885</td>\n",
       "    </tr>\n",
       "    <tr>\n",
       "      <th>('30726034', '40304361', '40302423')</th>\n",
       "      <td>46.564885</td>\n",
       "    </tr>\n",
       "    <tr>\n",
       "      <th>('30726034', '40302318', '40301630')</th>\n",
       "      <td>46.564885</td>\n",
       "    </tr>\n",
       "    <tr>\n",
       "      <th>('40302423', '40301630')</th>\n",
       "      <td>46.564885</td>\n",
       "    </tr>\n",
       "    <tr>\n",
       "      <th>('30726034', '40302318', '40302423')</th>\n",
       "      <td>46.455834</td>\n",
       "    </tr>\n",
       "    <tr>\n",
       "      <th>...</th>\n",
       "      <td>...</td>\n",
       "    </tr>\n",
       "    <tr>\n",
       "      <th>('30726034', '40304361', '40302318', '40302423', '40302580', '40301630', '40304590')</th>\n",
       "      <td>30.970556</td>\n",
       "    </tr>\n",
       "    <tr>\n",
       "      <th>('40304361', '40302318', '40302423', '40302580', '40304590')</th>\n",
       "      <td>30.970556</td>\n",
       "    </tr>\n",
       "    <tr>\n",
       "      <th>('40304361', '40302423', '40302580', '40302040')</th>\n",
       "      <td>30.861505</td>\n",
       "    </tr>\n",
       "    <tr>\n",
       "      <th>('40302423', '40302580', '40302040')</th>\n",
       "      <td>30.861505</td>\n",
       "    </tr>\n",
       "    <tr>\n",
       "      <th>('30726034', '40304361', '40302423', '40302580', '40302040')</th>\n",
       "      <td>30.861505</td>\n",
       "    </tr>\n",
       "    <tr>\n",
       "      <th>('30726034', '40302423', '40302580', '40302040')</th>\n",
       "      <td>30.861505</td>\n",
       "    </tr>\n",
       "    <tr>\n",
       "      <th>('40302318', '40302580', '40302040')</th>\n",
       "      <td>30.752454</td>\n",
       "    </tr>\n",
       "    <tr>\n",
       "      <th>('40304361', '40302318', '40302580', '40302040')</th>\n",
       "      <td>30.752454</td>\n",
       "    </tr>\n",
       "    <tr>\n",
       "      <th>('40304361', '40302423', '40302580', '40301630', '40302040')</th>\n",
       "      <td>30.752454</td>\n",
       "    </tr>\n",
       "    <tr>\n",
       "      <th>('40302423', '40302580', '40301630', '40302040')</th>\n",
       "      <td>30.752454</td>\n",
       "    </tr>\n",
       "    <tr>\n",
       "      <th>('30726034', '40403408')</th>\n",
       "      <td>30.752454</td>\n",
       "    </tr>\n",
       "    <tr>\n",
       "      <th>('30726034', '40304361', '40302423', '40302580', '40301630', '40302040')</th>\n",
       "      <td>30.752454</td>\n",
       "    </tr>\n",
       "    <tr>\n",
       "      <th>('30726034', '40304361', '40302318', '40302580', '40302040')</th>\n",
       "      <td>30.752454</td>\n",
       "    </tr>\n",
       "    <tr>\n",
       "      <th>('30726034', '40302423', '40302580', '40301630', '40302040')</th>\n",
       "      <td>30.752454</td>\n",
       "    </tr>\n",
       "    <tr>\n",
       "      <th>('30726034', '40302318', '40302580', '40302040')</th>\n",
       "      <td>30.752454</td>\n",
       "    </tr>\n",
       "    <tr>\n",
       "      <th>'40403408'</th>\n",
       "      <td>30.752454</td>\n",
       "    </tr>\n",
       "    <tr>\n",
       "      <th>('30726034', '40304361', '40302318', '40302580', '40301630', '40302040')</th>\n",
       "      <td>30.643402</td>\n",
       "    </tr>\n",
       "    <tr>\n",
       "      <th>('40302318', '40302423', '40302580', '40302040')</th>\n",
       "      <td>30.643402</td>\n",
       "    </tr>\n",
       "    <tr>\n",
       "      <th>('40304361', '40302318', '40302580', '40301630', '40302040')</th>\n",
       "      <td>30.643402</td>\n",
       "    </tr>\n",
       "    <tr>\n",
       "      <th>('30726034', '40304361', '40302318', '40302423', '40302580', '40302040')</th>\n",
       "      <td>30.643402</td>\n",
       "    </tr>\n",
       "    <tr>\n",
       "      <th>('40302318', '40302580', '40301630', '40302040')</th>\n",
       "      <td>30.643402</td>\n",
       "    </tr>\n",
       "    <tr>\n",
       "      <th>('30726034', '40302318', '40302423', '40302580', '40302040')</th>\n",
       "      <td>30.643402</td>\n",
       "    </tr>\n",
       "    <tr>\n",
       "      <th>('30726034', '40302318', '40302580', '40301630', '40302040')</th>\n",
       "      <td>30.643402</td>\n",
       "    </tr>\n",
       "    <tr>\n",
       "      <th>('40304361', '40302318', '40302423', '40302580', '40302040')</th>\n",
       "      <td>30.643402</td>\n",
       "    </tr>\n",
       "    <tr>\n",
       "      <th>('30726034', '40304361', '40302318', '40302423', '40302580', '40301630', '40302040')</th>\n",
       "      <td>30.534351</td>\n",
       "    </tr>\n",
       "    <tr>\n",
       "      <th>('40302318', '40302423', '40302580', '40301630', '40302040')</th>\n",
       "      <td>30.534351</td>\n",
       "    </tr>\n",
       "    <tr>\n",
       "      <th>('40304361', '40302318', '40302423', '40302580', '40301630', '40302040')</th>\n",
       "      <td>30.534351</td>\n",
       "    </tr>\n",
       "    <tr>\n",
       "      <th>('30726034', '40302318', '40302423', '40302580', '40301630', '40302040')</th>\n",
       "      <td>30.534351</td>\n",
       "    </tr>\n",
       "    <tr>\n",
       "      <th>('30726034', '60033533')</th>\n",
       "      <td>30.316249</td>\n",
       "    </tr>\n",
       "    <tr>\n",
       "      <th>'60033533'</th>\n",
       "      <td>30.316249</td>\n",
       "    </tr>\n",
       "  </tbody>\n",
       "</table>\n",
       "<p>341 rows × 1 columns</p>\n",
       "</div>"
      ],
      "text/plain": [
       "                                                       Suporte\n",
       "'30726034'                                          100.000000\n",
       "'40304361'                                           52.998909\n",
       "('30726034', '40304361')                             52.998909\n",
       "'90196031'                                           49.509269\n",
       "('30726034', '90196031')                             49.509269\n",
       "'40301630'                                           48.200654\n",
       "('30726034', '40301630')                             48.200654\n",
       "('40304361', '40301630')                             47.873501\n",
       "('30726034', '40304361', '40301630')                 47.873501\n",
       "('30726034', '40302580')                             47.328244\n",
       "'40302580'                                           47.328244\n",
       "('30726034', '40304361', '40302580')                 47.110142\n",
       "('40304361', '40302580')                             47.110142\n",
       "('30726034', '40302580', '40301630')                 47.110142\n",
       "('40302580', '40301630')                             47.110142\n",
       "('30726034', '40302318')                             46.892039\n",
       "('40304361', '40302580', '40301630')                 46.892039\n",
       "'40302318'                                           46.892039\n",
       "('30726034', '40304361', '40302580', '40301630')     46.892039\n",
       "('30726034', '40302423')                             46.782988\n",
       "'40302423'                                           46.782988\n",
       "('30726034', '40304361', '40302318')                 46.673937\n",
       "('40304361', '40302318')                             46.673937\n",
       "('30726034', '40302423', '40301630')                 46.564885\n",
       "('40302318', '40301630')                             46.564885\n",
       "('40304361', '40302423')                             46.564885\n",
       "('30726034', '40304361', '40302423')                 46.564885\n",
       "('30726034', '40302318', '40301630')                 46.564885\n",
       "('40302423', '40301630')                             46.564885\n",
       "('30726034', '40302318', '40302423')                 46.455834\n",
       "...                                                        ...\n",
       "('30726034', '40304361', '40302318', '40302423'...   30.970556\n",
       "('40304361', '40302318', '40302423', '40302580'...   30.970556\n",
       "('40304361', '40302423', '40302580', '40302040')     30.861505\n",
       "('40302423', '40302580', '40302040')                 30.861505\n",
       "('30726034', '40304361', '40302423', '40302580'...   30.861505\n",
       "('30726034', '40302423', '40302580', '40302040')     30.861505\n",
       "('40302318', '40302580', '40302040')                 30.752454\n",
       "('40304361', '40302318', '40302580', '40302040')     30.752454\n",
       "('40304361', '40302423', '40302580', '40301630'...   30.752454\n",
       "('40302423', '40302580', '40301630', '40302040')     30.752454\n",
       "('30726034', '40403408')                             30.752454\n",
       "('30726034', '40304361', '40302423', '40302580'...   30.752454\n",
       "('30726034', '40304361', '40302318', '40302580'...   30.752454\n",
       "('30726034', '40302423', '40302580', '40301630'...   30.752454\n",
       "('30726034', '40302318', '40302580', '40302040')     30.752454\n",
       "'40403408'                                           30.752454\n",
       "('30726034', '40304361', '40302318', '40302580'...   30.643402\n",
       "('40302318', '40302423', '40302580', '40302040')     30.643402\n",
       "('40304361', '40302318', '40302580', '40301630'...   30.643402\n",
       "('30726034', '40304361', '40302318', '40302423'...   30.643402\n",
       "('40302318', '40302580', '40301630', '40302040')     30.643402\n",
       "('30726034', '40302318', '40302423', '40302580'...   30.643402\n",
       "('30726034', '40302318', '40302580', '40301630'...   30.643402\n",
       "('40304361', '40302318', '40302423', '40302580'...   30.643402\n",
       "('30726034', '40304361', '40302318', '40302423'...   30.534351\n",
       "('40302318', '40302423', '40302580', '40301630'...   30.534351\n",
       "('40304361', '40302318', '40302423', '40302580'...   30.534351\n",
       "('30726034', '40302318', '40302423', '40302580'...   30.534351\n",
       "('30726034', '60033533')                             30.316249\n",
       "'60033533'                                           30.316249\n",
       "\n",
       "[341 rows x 1 columns]"
      ]
     },
     "execution_count": 71,
     "metadata": {},
     "output_type": "execute_result"
    }
   ],
   "source": [
    "final_result = pd.DataFrame(index=final_id,data=final_serv,columns=['Suporte']).sort_values('Suporte',ascending=False)\n",
    "final_result.Suporte = final_result.Suporte * (100.0/917)\n",
    "final_result\n"
   ]
  },
  {
   "cell_type": "code",
   "execution_count": 84,
   "metadata": {
    "collapsed": false
   },
   "outputs": [
    {
     "data": {
      "image/png": "[encoded data removed]",
      "text/plain": [
       "<matplotlib.figure.Figure at 0x7ffb198c1d30>"
      ]
     },
     "metadata": {},
     "output_type": "display_data"
    }
   ],
   "source": [
    "graph_result = final_result.reset_index().rename(columns={'index': 'Servico'})\n",
    "graph_result['Servico'] = graph_result['Servico'].apply(lambda x: ','.join(x) if type(x) == tuple else x)\n",
    "\n",
    "graph = sns.barplot(y='Suporte',x='Servico',data=graph_result.head(10))\n",
    "graph.set_xticklabels(graph.get_xticklabels(),rotation=-75)\n",
    "plt.ylabel('Suporte')\n",
    "plt.title(\"Gráfico do Market Basket\")\n",
    "plt.ylim(0, 100)\n",
    "plt.show()"
   ]
  },
  {
   "cell_type": "markdown",
   "metadata": {},
   "source": [
    "Vamos definir como raio X o grupo que possuir a maior quantidade de serviços que, em conjunto, possuem maior suporte:"
   ]
  },
  {
   "cell_type": "code",
   "execution_count": 42,
   "metadata": {
    "collapsed": false
   },
   "outputs": [],
   "source": [
    "def get_len(x):\n",
    "    if type(x) == tuple:\n",
    "        return len(x)\n",
    "    return 1\n",
    "\n",
    "max_len = max([get_len(x) for x in list(final_result.index)]) # acha o tamanho dos maiores grupos\n",
    "max_len_groups = [x for x in list(final_result.index) if get_len(x) == max_len] # pega grupos com esse tamanho\n",
    "xray = list(final_result.loc[max_len_groups].sort_values('Suporte', ascending=False).head(1).index[0]) # pega o com maximo suporte"
   ]
  },
  {
   "cell_type": "code",
   "execution_count": 43,
   "metadata": {
    "collapsed": false
   },
   "outputs": [
    {
     "data": {
      "text/plain": [
       "[\"'30726034'\",\n",
       " \"'40304361'\",\n",
       " \"'40302237'\",\n",
       " \"'40302318'\",\n",
       " \"'40302423'\",\n",
       " \"'40302580'\",\n",
       " \"'40301630'\"]"
      ]
     },
     "execution_count": 43,
     "metadata": {},
     "output_type": "execute_result"
    }
   ],
   "source": [
    "xray"
   ]
  },
  {
   "cell_type": "markdown",
   "metadata": {},
   "source": [
    "Agora, com o raio x definido, construimos a dataframe final, com colunas servico, descricao, tipo de item, valor medio e quantidade media."
   ]
  },
  {
   "cell_type": "code",
   "execution_count": 44,
   "metadata": {
    "collapsed": false
   },
   "outputs": [],
   "source": [
    "def get_mean_value(service):\n",
    "    values = []\n",
    "    for item in df[df[\"'servico'\"] == service][\"'valor'\"].values:\n",
    "        try:\n",
    "            values.append(float(item[1:-1]))\n",
    "        except ValueError: # some values are wrong, ignore them\n",
    "            pass\n",
    "    return sum(values) / len(values)"
   ]
  },
  {
   "cell_type": "code",
   "execution_count": 45,
   "metadata": {
    "collapsed": true
   },
   "outputs": [],
   "source": [
    "def get_mean_quantity(service):\n",
    "    values = []\n",
    "    for item in df[df[\"'servico'\"] == service][\"'qtde'\"].values:\n",
    "        try:\n",
    "            values.append(float(item[1:-1]))\n",
    "        except ValueError: # some values are wrong, ignore them\n",
    "            pass\n",
    "    return sum(values) / len(values)"
   ]
  },
  {
   "cell_type": "code",
   "execution_count": 46,
   "metadata": {
    "collapsed": true
   },
   "outputs": [],
   "source": [
    "def get_description(service):\n",
    "    return df[df[\"'servico'\"] == service][\"'descricao_despesa'\"].values[0]"
   ]
  },
  {
   "cell_type": "code",
   "execution_count": 47,
   "metadata": {
    "collapsed": false
   },
   "outputs": [],
   "source": [
    "def get_item_type(service):\n",
    "    return df[df[\"'servico'\"] == service][\"'tipo_item'\"].values[0]"
   ]
  },
  {
   "cell_type": "code",
   "execution_count": 48,
   "metadata": {
    "collapsed": true
   },
   "outputs": [],
   "source": [
    "def get_individual_support(service):\n",
    "    return final_result.loc[service].values[0]"
   ]
  },
  {
   "cell_type": "code",
   "execution_count": 49,
   "metadata": {
    "collapsed": false
   },
   "outputs": [],
   "source": [
    "mean_vals = [get_mean_value(service) for service in xray]\n",
    "mean_qtt = [get_mean_quantity(service) for service in xray]\n",
    "item_types = [get_item_type(service) for service in xray]\n",
    "descriptions = [get_description(service) for service in xray]\n",
    "support_vals = [get_individual_support(service) for service in xray]\n",
    "xray_dict = {\"Servico\": xray, \"Descricao\":descriptions, \"Tipo de Item\":item_types, \"Quantidade média\": mean_qtt, \n",
    "             \"Valor médio\": mean_vals, \"Suporte\":support_vals}\n",
    "xray_df = pd.DataFrame(xray_dict)"
   ]
  },
  {
   "cell_type": "code",
   "execution_count": 57,
   "metadata": {
    "collapsed": false
   },
   "outputs": [
    {
     "data": {
      "text/html": [
       "<div>\n",
       "<table border=\"1\" class=\"dataframe\">\n",
       "  <thead>\n",
       "    <tr style=\"text-align: right;\">\n",
       "      <th></th>\n",
       "      <th>Descricao</th>\n",
       "      <th>Quantidade média</th>\n",
       "      <th>Servico</th>\n",
       "      <th>Suporte</th>\n",
       "      <th>Tipo de Item</th>\n",
       "      <th>Valor médio</th>\n",
       "    </tr>\n",
       "  </thead>\n",
       "  <tbody>\n",
       "    <tr>\n",
       "      <th>0</th>\n",
       "      <td>'ARTROPLASTIA TOTAL DE JOELHO COM IMPLANTES TR...</td>\n",
       "      <td>1.004676</td>\n",
       "      <td>'30726034'</td>\n",
       "      <td>100.000000</td>\n",
       "      <td>'PROCEDIMENTO'</td>\n",
       "      <td>644.608995</td>\n",
       "    </tr>\n",
       "    <tr>\n",
       "      <th>1</th>\n",
       "      <td>'HEMOGRAMA COM CONTAGEM DE PLAQUETAS OU FRAES ...</td>\n",
       "      <td>1.074984</td>\n",
       "      <td>'40304361'</td>\n",
       "      <td>52.998909</td>\n",
       "      <td>'PROCEDIMENTO'</td>\n",
       "      <td>5.859845</td>\n",
       "    </tr>\n",
       "    <tr>\n",
       "      <th>2</th>\n",
       "      <td>'MAGNSIO'</td>\n",
       "      <td>1.082990</td>\n",
       "      <td>'40302237'</td>\n",
       "      <td>35.768811</td>\n",
       "      <td>'PROCEDIMENTO'</td>\n",
       "      <td>5.389965</td>\n",
       "    </tr>\n",
       "    <tr>\n",
       "      <th>3</th>\n",
       "      <td>'POTSSIO'</td>\n",
       "      <td>1.105403</td>\n",
       "      <td>'40302318'</td>\n",
       "      <td>46.892039</td>\n",
       "      <td>'PROCEDIMENTO'</td>\n",
       "      <td>4.930065</td>\n",
       "    </tr>\n",
       "    <tr>\n",
       "      <th>4</th>\n",
       "      <td>'SDIO'</td>\n",
       "      <td>1.099345</td>\n",
       "      <td>'40302423'</td>\n",
       "      <td>46.782988</td>\n",
       "      <td>'PROCEDIMENTO'</td>\n",
       "      <td>4.882831</td>\n",
       "    </tr>\n",
       "    <tr>\n",
       "      <th>5</th>\n",
       "      <td>'URIA'</td>\n",
       "      <td>1.096811</td>\n",
       "      <td>'40302580'</td>\n",
       "      <td>47.328244</td>\n",
       "      <td>'PROCEDIMENTO'</td>\n",
       "      <td>4.887392</td>\n",
       "    </tr>\n",
       "    <tr>\n",
       "      <th>6</th>\n",
       "      <td>'CREATININA'</td>\n",
       "      <td>1.094479</td>\n",
       "      <td>'40301630'</td>\n",
       "      <td>48.200654</td>\n",
       "      <td>'PROCEDIMENTO'</td>\n",
       "      <td>5.039064</td>\n",
       "    </tr>\n",
       "  </tbody>\n",
       "</table>\n",
       "</div>"
      ],
      "text/plain": [
       "                                           Descricao  Quantidade média  \\\n",
       "0  'ARTROPLASTIA TOTAL DE JOELHO COM IMPLANTES TR...          1.004676   \n",
       "1  'HEMOGRAMA COM CONTAGEM DE PLAQUETAS OU FRAES ...          1.074984   \n",
       "2                                          'MAGNSIO'          1.082990   \n",
       "3                                          'POTSSIO'          1.105403   \n",
       "4                                             'SDIO'          1.099345   \n",
       "5                                             'URIA'          1.096811   \n",
       "6                                       'CREATININA'          1.094479   \n",
       "\n",
       "      Servico     Suporte    Tipo de Item  Valor médio  \n",
       "0  '30726034'  100.000000  'PROCEDIMENTO'   644.608995  \n",
       "1  '40304361'   52.998909  'PROCEDIMENTO'     5.859845  \n",
       "2  '40302237'   35.768811  'PROCEDIMENTO'     5.389965  \n",
       "3  '40302318'   46.892039  'PROCEDIMENTO'     4.930065  \n",
       "4  '40302423'   46.782988  'PROCEDIMENTO'     4.882831  \n",
       "5  '40302580'   47.328244  'PROCEDIMENTO'     4.887392  \n",
       "6  '40301630'   48.200654  'PROCEDIMENTO'     5.039064  "
      ]
     },
     "execution_count": 57,
     "metadata": {},
     "output_type": "execute_result"
    }
   ],
   "source": [
    "xray_df"
   ]
  },
  {
   "cell_type": "code",
   "execution_count": 56,
   "metadata": {
    "collapsed": false
   },
   "outputs": [
    {
     "data": {
      "image/png": "[encoded data removed]",
      "text/plain": [
       "<matplotlib.figure.Figure at 0x7ffb1a6eda58>"
      ]
     },
     "metadata": {},
     "output_type": "display_data"
    }
   ],
   "source": [
    "graph = sns.barplot(y='Suporte',x='Servico',data=xray_df)\n",
    "graph.set_xticklabels(graph.get_xticklabels(),rotation=-45)\n",
    "plt.ylabel('Suporte')\n",
    "plt.title(\"Gráfico do Market Basket\")\n",
    "plt.ylim(0, 100)\n",
    "plt.show()\n"
   ]
  }
 ],
 "metadata": {
  "anaconda-cloud": {},
  "kernelspec": {
   "display_name": "Python 3",
   "language": "python",
   "name": "python3"
  },
  "language_info": {
   "codemirror_mode": {
    "name": "ipython",
    "version": 3
   },
   "file_extension": ".py",
   "mimetype": "text/x-python",
   "name": "python",
   "nbconvert_exporter": "python",
   "pygments_lexer": "ipython3",
   "version": "3.6.0"
  }
 },
 "nbformat": 4,
 "nbformat_minor": 1
}
