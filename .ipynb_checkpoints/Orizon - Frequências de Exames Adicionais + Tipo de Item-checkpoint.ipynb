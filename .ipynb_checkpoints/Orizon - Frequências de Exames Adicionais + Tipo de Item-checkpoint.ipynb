{
 "cells": [
  {
   "cell_type": "markdown",
   "metadata": {},
   "source": [
    "# Orizon: Frequência de Exames Adicionais"
   ]
  },
  {
   "cell_type": "code",
   "execution_count": 44,
   "metadata": {
    "collapsed": true
   },
   "outputs": [],
   "source": [
    "import pandas as pd\n",
    "import seaborn as sb\n",
    "import numpy as np\n",
    "from matplotlib import pyplot as plt"
   ]
  },
  {
   "cell_type": "markdown",
   "metadata": {},
   "source": [
    "Configurando sessão:"
   ]
  },
  {
   "cell_type": "code",
   "execution_count": 24,
   "metadata": {
    "collapsed": true
   },
   "outputs": [],
   "source": [
    "df = pd.read_csv(\"../full_extracts/data_30726034.csv\", encoding = \"ISO-8859-1\")"
   ]
  },
  {
   "cell_type": "markdown",
   "metadata": {},
   "source": [
    "Carregando dados do TUSS relativo à displasia coxo-femural (código 30724058)"
   ]
  },
  {
   "cell_type": "code",
   "execution_count": 25,
   "metadata": {
    "collapsed": true
   },
   "outputs": [],
   "source": [
    "selected_df = pd.concat([df[\"'id_conta'\"], df[\"'servico'\"], df[\"'descricao_despesa'\"], df[\"'tipo_item'\"]], axis=1)"
   ]
  },
  {
   "cell_type": "markdown",
   "metadata": {},
   "source": [
    "Verificando se os tipos foram inferidos corretamente:"
   ]
  },
  {
   "cell_type": "code",
   "execution_count": 26,
   "metadata": {
    "collapsed": true
   },
   "outputs": [],
   "source": [
    "selected_df.columns = [\"id_conta\", \"servico\", \"descricao\", \"tipo_item\"]"
   ]
  },
  {
   "cell_type": "markdown",
   "metadata": {},
   "source": [
    "Utilizaremos apenas os campos \"id_conta\", \"servico\", \"descricao_despesa\" e \"tipo_item\". Vamos também tirar as aspas dos nomes das labels para facilitar a análise:"
   ]
  },
  {
   "cell_type": "code",
   "execution_count": 27,
   "metadata": {
    "collapsed": true
   },
   "outputs": [],
   "source": [
    "count_df = selected_df.groupby(\"id_conta\").count()"
   ]
  },
  {
   "cell_type": "markdown",
   "metadata": {},
   "source": [
    "Vamos trabalhar apenas com os id_conta atrelados à mais de um serviço:"
   ]
  },
  {
   "cell_type": "code",
   "execution_count": 28,
   "metadata": {
    "collapsed": true
   },
   "outputs": [],
   "source": [
    "def get_count(acc_id):\n",
    "    return count_df.lookup([acc_id], [\"servico\"])[0]"
   ]
  },
  {
   "cell_type": "code",
   "execution_count": 29,
   "metadata": {},
   "outputs": [],
   "source": [
    "selected_df[\"count\"] = selected_df[\"id_conta\"].map(get_count)"
   ]
  },
  {
   "cell_type": "code",
   "execution_count": 30,
   "metadata": {
    "collapsed": true
   },
   "outputs": [],
   "source": [
    "selected_df = selected_df[selected_df[\"count\"] > 1].drop(\"count\", axis=1)"
   ]
  },
  {
   "cell_type": "markdown",
   "metadata": {},
   "source": [
    "Antes de prosseguir, vamos limpar as aspas do campo \"servico\" para facilitar a analise"
   ]
  },
  {
   "cell_type": "markdown",
   "metadata": {},
   "source": [
    "Algumas observações possuem apenas \" no campo serviço, vamos filtra-las também:"
   ]
  },
  {
   "cell_type": "code",
   "execution_count": 31,
   "metadata": {
    "collapsed": true
   },
   "outputs": [],
   "source": [
    "selected_df = selected_df[selected_df[\"servico\"] != '\"']\n",
    "selected_df = selected_df[selected_df[\"servico\"] != \"''\"]"
   ]
  },
  {
   "cell_type": "markdown",
   "metadata": {
    "collapsed": true
   },
   "source": [
    "Agora agrupamos o dataset pelos servicos, nos permitindo verificar, para cada servico, em quantos id_conta ele aparece."
   ]
  },
  {
   "cell_type": "code",
   "execution_count": 32,
   "metadata": {
    "collapsed": true
   },
   "outputs": [],
   "source": [
    "id_count_groups = selected_df.groupby(\"servico\").count()[\"id_conta\"]"
   ]
  },
  {
   "cell_type": "markdown",
   "metadata": {},
   "source": [
    "Agora que temos as informações necessarias, montaremos nossa tabela principal: ela terá uma coluna para cada serviço disponível no dataset, uma coluna para a porcentagem de id_conta's em que aquele serviço aparece, outra coluna para o tipo de item daquele serviço e outra para sua descrição."
   ]
  },
  {
   "cell_type": "markdown",
   "metadata": {},
   "source": [
    "Primeiro, vamos definir uma função para computar a porcentagem dos id_conta em que cada serviço aparece a partir de seu count:"
   ]
  },
  {
   "cell_type": "code",
   "execution_count": 33,
   "metadata": {
    "collapsed": true
   },
   "outputs": [],
   "source": [
    "unique_acc_ids = len(selected_df[\"id_conta\"].unique())\n",
    "def get_percentage(service):\n",
    "    count_num = len(selected_df[selected_df[\"servico\"] == service][\"id_conta\"].unique())\n",
    "    return (float(count_num) / unique_acc_ids) * 100.0"
   ]
  },
  {
   "cell_type": "markdown",
   "metadata": {},
   "source": [
    "Agora, uma função para pegar uma descrição qualquer para cada serviço:"
   ]
  },
  {
   "cell_type": "code",
   "execution_count": 34,
   "metadata": {
    "collapsed": true
   },
   "outputs": [],
   "source": [
    "def get_description(service):\n",
    "    return selected_df[selected_df[\"servico\"] == service][\"descricao\"].iloc[0]"
   ]
  },
  {
   "cell_type": "markdown",
   "metadata": {},
   "source": [
    "E uma função para pegar o tipo de item para cada serviço:"
   ]
  },
  {
   "cell_type": "code",
   "execution_count": 35,
   "metadata": {
    "collapsed": true
   },
   "outputs": [],
   "source": [
    "def get_item_type(service):\n",
    "    return selected_df[selected_df[\"servico\"] == service][\"tipo_item\"].iloc[0]"
   ]
  },
  {
   "cell_type": "markdown",
   "metadata": {},
   "source": [
    "Agora que todas as funções estão prontas, podemos montar a dataframe:"
   ]
  },
  {
   "cell_type": "code",
   "execution_count": 36,
   "metadata": {},
   "outputs": [],
   "source": [
    "all_services = selected_df[\"servico\"].unique()\n",
    "percentages = [get_percentage(service) for service in all_services]\n",
    "descriptions = [get_description(service) for service in all_services]\n",
    "item_types = [get_item_type(service) for service in all_services]\n",
    "df_dict = {'servico': all_services, '%': percentages, \"descricao\": descriptions, \"tipo de item\": item_types}\n",
    "final_df = pd.DataFrame(df_dict)"
   ]
  },
  {
   "cell_type": "markdown",
   "metadata": {},
   "source": [
    "Agora, vamos ver os serviços em que aparecem em mais de 20% dos id_conta:"
   ]
  },
  {
   "cell_type": "code",
   "execution_count": 37,
   "metadata": {},
   "outputs": [
    {
     "data": {
      "text/html": [
       "<div>\n",
       "<style scoped>\n",
       "    .dataframe tbody tr th:only-of-type {\n",
       "        vertical-align: middle;\n",
       "    }\n",
       "\n",
       "    .dataframe tbody tr th {\n",
       "        vertical-align: top;\n",
       "    }\n",
       "\n",
       "    .dataframe thead th {\n",
       "        text-align: right;\n",
       "    }\n",
       "</style>\n",
       "<table border=\"1\" class=\"dataframe\">\n",
       "  <thead>\n",
       "    <tr style=\"text-align: right;\">\n",
       "      <th></th>\n",
       "      <th>%</th>\n",
       "      <th>descricao</th>\n",
       "      <th>servico</th>\n",
       "      <th>tipo de item</th>\n",
       "    </tr>\n",
       "  </thead>\n",
       "  <tbody>\n",
       "    <tr>\n",
       "      <th>11</th>\n",
       "      <td>60.0</td>\n",
       "      <td>'40302423'</td>\n",
       "      <td>'Alta Melhorado'</td>\n",
       "      <td>odonto e demais Ã¡reas de saÃºde)'</td>\n",
       "    </tr>\n",
       "    <tr>\n",
       "      <th>19</th>\n",
       "      <td>44.0</td>\n",
       "      <td>'DIPIRONA 1G AMPOLA 2ML'</td>\n",
       "      <td>'90196031'</td>\n",
       "      <td>'MEDICAMENTOS'</td>\n",
       "    </tr>\n",
       "    <tr>\n",
       "      <th>44</th>\n",
       "      <td>38.0</td>\n",
       "      <td>'CEFAZOLINA 1G FRASCO'</td>\n",
       "      <td>'90008332'</td>\n",
       "      <td>'MEDICAMENTOS'</td>\n",
       "    </tr>\n",
       "    <tr>\n",
       "      <th>126</th>\n",
       "      <td>30.0</td>\n",
       "      <td>'SERINGA SEM AG.05ML LUER-LOK 990175'</td>\n",
       "      <td>'70705313'</td>\n",
       "      <td>'MATERIAIS'</td>\n",
       "    </tr>\n",
       "    <tr>\n",
       "      <th>434</th>\n",
       "      <td>30.0</td>\n",
       "      <td>'SERINGA SEM AG.10ML LUER-LOK PLASTIPAK 990172'</td>\n",
       "      <td>'70705330'</td>\n",
       "      <td>'MATERIAIS'</td>\n",
       "    </tr>\n",
       "    <tr>\n",
       "      <th>162</th>\n",
       "      <td>30.0</td>\n",
       "      <td>'SORO RINGER LACTATO - 500ML'</td>\n",
       "      <td>'90019717'</td>\n",
       "      <td>'MEDICAMENTOS'</td>\n",
       "    </tr>\n",
       "    <tr>\n",
       "      <th>49</th>\n",
       "      <td>30.0</td>\n",
       "      <td>'SORO FISIOLOGICO 0</td>\n",
       "      <td>'90019822'</td>\n",
       "      <td>'MEDICAMENTOS'</td>\n",
       "    </tr>\n",
       "    <tr>\n",
       "      <th>153</th>\n",
       "      <td>30.0</td>\n",
       "      <td>'AGULHA DESC. 40 X 12 (BD)'</td>\n",
       "      <td>'70014370'</td>\n",
       "      <td>'MATERIAIS'</td>\n",
       "    </tr>\n",
       "    <tr>\n",
       "      <th>9</th>\n",
       "      <td>30.0</td>\n",
       "      <td>'DEXAMETASONA 4MG/ML FRASCO 2</td>\n",
       "      <td>'90003551'</td>\n",
       "      <td>'MEDICAMENTOS'</td>\n",
       "    </tr>\n",
       "    <tr>\n",
       "      <th>107</th>\n",
       "      <td>28.0</td>\n",
       "      <td>'CATETER NASAL OXIGENIO TP.OCULOS 140CM 2807P'</td>\n",
       "      <td>'0002340147'</td>\n",
       "      <td>'MATERIAIS'</td>\n",
       "    </tr>\n",
       "    <tr>\n",
       "      <th>67</th>\n",
       "      <td>28.0</td>\n",
       "      <td>'SULFATO DE EFEDRINA 50MG AMP'</td>\n",
       "      <td>'90045980'</td>\n",
       "      <td>'MEDICAMENTOS'</td>\n",
       "    </tr>\n",
       "    <tr>\n",
       "      <th>143</th>\n",
       "      <td>28.0</td>\n",
       "      <td>'SERINGA SEM AG.20ML LUER SLIP PLASTIPAK 990173'</td>\n",
       "      <td>'70705348'</td>\n",
       "      <td>'MATERIAIS'</td>\n",
       "    </tr>\n",
       "    <tr>\n",
       "      <th>200</th>\n",
       "      <td>26.0</td>\n",
       "      <td>'NEOCAINA 0</td>\n",
       "      <td>'90047257'</td>\n",
       "      <td>'MEDICAMENTOS'</td>\n",
       "    </tr>\n",
       "    <tr>\n",
       "      <th>478</th>\n",
       "      <td>26.0</td>\n",
       "      <td>'CLEXANE 40MG/0</td>\n",
       "      <td>'90194500'</td>\n",
       "      <td>'MEDICAMENTOS'</td>\n",
       "    </tr>\n",
       "    <tr>\n",
       "      <th>113</th>\n",
       "      <td>26.0</td>\n",
       "      <td>'NEOCAINA ISOBARICA'</td>\n",
       "      <td>'90047249'</td>\n",
       "      <td>'MEDICAMENTOS'</td>\n",
       "    </tr>\n",
       "    <tr>\n",
       "      <th>27</th>\n",
       "      <td>26.0</td>\n",
       "      <td>'MORFINA 0</td>\n",
       "      <td>'90045769'</td>\n",
       "      <td>'MEDICAMENTOS'</td>\n",
       "    </tr>\n",
       "    <tr>\n",
       "      <th>20</th>\n",
       "      <td>26.0</td>\n",
       "      <td>'MIDAZOLAM 5MG AMP. 5ML'</td>\n",
       "      <td>'90184378'</td>\n",
       "      <td>'MEDICAMENTOS'</td>\n",
       "    </tr>\n",
       "    <tr>\n",
       "      <th>138</th>\n",
       "      <td>24.0</td>\n",
       "      <td>'DORMONID'</td>\n",
       "      <td>'90184360'</td>\n",
       "      <td>'MEDICAMENTOS'</td>\n",
       "    </tr>\n",
       "    <tr>\n",
       "      <th>393</th>\n",
       "      <td>24.0</td>\n",
       "      <td>'TRANSAMIN 5 PCC SOL INJ CT 5 AMP X 5 ML'</td>\n",
       "      <td>'90185625'</td>\n",
       "      <td>'MEDICAMENTOS'</td>\n",
       "    </tr>\n",
       "    <tr>\n",
       "      <th>3</th>\n",
       "      <td>24.0</td>\n",
       "      <td>'FIO CIRURGICO MONONYLON 3.0 1171T'</td>\n",
       "      <td>'70259496'</td>\n",
       "      <td>'MATERIAIS'</td>\n",
       "    </tr>\n",
       "    <tr>\n",
       "      <th>70</th>\n",
       "      <td>22.0</td>\n",
       "      <td>'SOLUCAO FISIOLOGICA 0</td>\n",
       "      <td>'90094654'</td>\n",
       "      <td>'MEDICAMENTOS'</td>\n",
       "    </tr>\n",
       "    <tr>\n",
       "      <th>47</th>\n",
       "      <td>22.0</td>\n",
       "      <td>'ONDANSETRONA 4MG AMP.'</td>\n",
       "      <td>'90090861'</td>\n",
       "      <td>'MEDICAMENTOS'</td>\n",
       "    </tr>\n",
       "  </tbody>\n",
       "</table>\n",
       "</div>"
      ],
      "text/plain": [
       "        %                                         descricao           servico  \\\n",
       "11   60.0                                        '40302423'  'Alta Melhorado'   \n",
       "19   44.0                          'DIPIRONA 1G AMPOLA 2ML'        '90196031'   \n",
       "44   38.0                            'CEFAZOLINA 1G FRASCO'        '90008332'   \n",
       "126  30.0             'SERINGA SEM AG.05ML LUER-LOK 990175'        '70705313'   \n",
       "434  30.0   'SERINGA SEM AG.10ML LUER-LOK PLASTIPAK 990172'        '70705330'   \n",
       "162  30.0                     'SORO RINGER LACTATO - 500ML'        '90019717'   \n",
       "49   30.0                               'SORO FISIOLOGICO 0        '90019822'   \n",
       "153  30.0                       'AGULHA DESC. 40 X 12 (BD)'        '70014370'   \n",
       "9    30.0                     'DEXAMETASONA 4MG/ML FRASCO 2        '90003551'   \n",
       "107  28.0    'CATETER NASAL OXIGENIO TP.OCULOS 140CM 2807P'      '0002340147'   \n",
       "67   28.0                    'SULFATO DE EFEDRINA 50MG AMP'        '90045980'   \n",
       "143  28.0  'SERINGA SEM AG.20ML LUER SLIP PLASTIPAK 990173'        '70705348'   \n",
       "200  26.0                                       'NEOCAINA 0        '90047257'   \n",
       "478  26.0                                   'CLEXANE 40MG/0        '90194500'   \n",
       "113  26.0                              'NEOCAINA ISOBARICA'        '90047249'   \n",
       "27   26.0                                        'MORFINA 0        '90045769'   \n",
       "20   26.0                          'MIDAZOLAM 5MG AMP. 5ML'        '90184378'   \n",
       "138  24.0                                        'DORMONID'        '90184360'   \n",
       "393  24.0         'TRANSAMIN 5 PCC SOL INJ CT 5 AMP X 5 ML'        '90185625'   \n",
       "3    24.0               'FIO CIRURGICO MONONYLON 3.0 1171T'        '70259496'   \n",
       "70   22.0                            'SOLUCAO FISIOLOGICA 0        '90094654'   \n",
       "47   22.0                           'ONDANSETRONA 4MG AMP.'        '90090861'   \n",
       "\n",
       "                            tipo de item  \n",
       "11    odonto e demais Ã¡reas de saÃºde)'  \n",
       "19                        'MEDICAMENTOS'  \n",
       "44                        'MEDICAMENTOS'  \n",
       "126                          'MATERIAIS'  \n",
       "434                          'MATERIAIS'  \n",
       "162                       'MEDICAMENTOS'  \n",
       "49                        'MEDICAMENTOS'  \n",
       "153                          'MATERIAIS'  \n",
       "9                         'MEDICAMENTOS'  \n",
       "107                          'MATERIAIS'  \n",
       "67                        'MEDICAMENTOS'  \n",
       "143                          'MATERIAIS'  \n",
       "200                       'MEDICAMENTOS'  \n",
       "478                       'MEDICAMENTOS'  \n",
       "113                       'MEDICAMENTOS'  \n",
       "27                        'MEDICAMENTOS'  \n",
       "20                        'MEDICAMENTOS'  \n",
       "138                       'MEDICAMENTOS'  \n",
       "393                       'MEDICAMENTOS'  \n",
       "3                            'MATERIAIS'  \n",
       "70                        'MEDICAMENTOS'  \n",
       "47                        'MEDICAMENTOS'  "
      ]
     },
     "execution_count": 37,
     "metadata": {},
     "output_type": "execute_result"
    }
   ],
   "source": [
    "final_df[final_df[\"%\"] > 20].sort_values(\"%\", axis=0, ascending=False)"
   ]
  },
  {
   "cell_type": "markdown",
   "metadata": {},
   "source": [
    "Vamos agora fazer uma analise também dos tipos de item, vendo qual a porcentagem dos id_conta em que cada um deles aparece: "
   ]
  },
  {
   "cell_type": "code",
   "execution_count": 38,
   "metadata": {
    "collapsed": true
   },
   "outputs": [],
   "source": [
    "item_type_dict = {}\n",
    "for tipo in selected_df[\"tipo_item\"].unique():\n",
    "    item_type_dict[tipo] = len(selected_df[selected_df[\"tipo_item\"] == tipo][\"id_conta\"].unique()) * 100 / 50.0"
   ]
  },
  {
   "cell_type": "code",
   "execution_count": 48,
   "metadata": {},
   "outputs": [
    {
     "data": {
      "text/plain": [
       "<matplotlib.axes._subplots.AxesSubplot at 0x7f7cf75acf28>"
      ]
     },
     "execution_count": 48,
     "metadata": {},
     "output_type": "execute_result"
    },
    {
     "data": {
      "image/png": "[encoded data removed]",
      "text/plain": [
       "<matplotlib.figure.Figure at 0x7f7cf748b9e8>"
      ]
     },
     "metadata": {},
     "output_type": "display_data"
    }
   ],
   "source": [
    "%matplotlib inline \n",
    "tup_list = [(key, item_type_dict[key]) for key in item_type_dict.keys()]\n",
    "sorted_list = sorted(tup_list, key=lambda tup: tup[1])\n",
    "sb.set(font_scale=0.8)\n",
    "fig, ax = plt.subplots(1,1)\n",
    "fig.set_size_inches(20, 8)\n",
    "sb.barplot(x=[tup[0] for tup in sorted_list], y=[tup[1] for tup in sorted_list],ax=ax)"
   ]
  },
  {
   "cell_type": "code",
   "execution_count": 86,
   "metadata": {},
   "outputs": [
    {
     "name": "stdout",
     "output_type": "stream",
     "text": [
      "/home/raven/cetax/orizon\n"
     ]
    }
   ],
   "source": [
    "cd .."
   ]
  },
  {
   "cell_type": "code",
   "execution_count": null,
   "metadata": {
    "collapsed": true
   },
   "outputs": [],
   "source": []
  }
 ],
 "metadata": {
  "anaconda-cloud": {},
  "kernelspec": {
   "display_name": "Python 3",
   "language": "python",
   "name": "python3"
  },
  "language_info": {
   "codemirror_mode": {
    "name": "ipython",
    "version": 3
   },
   "file_extension": ".py",
   "mimetype": "text/x-python",
   "name": "python",
   "nbconvert_exporter": "python",
   "pygments_lexer": "ipython3",
   "version": "3.5.3"
  }
 },
 "nbformat": 4,
 "nbformat_minor": 1
}
