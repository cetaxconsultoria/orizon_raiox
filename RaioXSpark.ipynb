{
 "cells": [
  {
   "cell_type": "markdown",
   "metadata": {},
   "source": [
    "# Orizon: Raio-X"
   ]
  },
  {
   "cell_type": "markdown",
   "metadata": {},
   "source": [
    "Vamos entender como os serviços se relacionam entre si computando a frequencia relativa à cada um deles por ID conta e a frequência de agrupamentos de serviços por ID conta.\n",
    "\n",
    "Será utilizado Regras de Associação e o agrupamento feito pelo algoritmo baseado no Eclat(Equivalent Class Transformation)."
   ]
  },
  {
   "cell_type": "code",
   "execution_count": 39,
   "metadata": {
    "collapsed": true
   },
   "outputs": [],
   "source": [
    "import findspark\n",
    "findspark.init(\"/home/raven/.spark\")"
   ]
  },
  {
   "cell_type": "code",
   "execution_count": 40,
   "metadata": {
    "collapsed": true
   },
   "outputs": [],
   "source": [
    "from pyspark.sql import SparkSession, SQLContext\n",
    "from pyspark.sql.functions import udf\n",
    "from pyspark.sql.types import FloatType, IntegerType\n",
    "import numpy as np"
   ]
  },
  {
   "cell_type": "markdown",
   "metadata": {},
   "source": [
    "Inicializando sessão do Spark:"
   ]
  },
  {
   "cell_type": "code",
   "execution_count": 41,
   "metadata": {
    "collapsed": true
   },
   "outputs": [],
   "source": [
    "spark = SparkSession.builder \\\n",
    "   .master(\"local[4]\") \\\n",
    "   .appName(\"Orizon - Raio X\") \\\n",
    "   .config(\"spark.executor.memory\", \"1gb\") \\\n",
    "   .getOrCreate()\n",
    "sc = spark.sparkContext\n",
    "sqlContext= SQLContext(sc, sparkSession=spark)"
   ]
  },
  {
   "cell_type": "code",
   "execution_count": 42,
   "metadata": {
    "collapsed": true
   },
   "outputs": [],
   "source": [
    "df = sqlContext.read.format('csv').options(header='true', inferSchema='true', delimiter='\\t').load('data_30735068.csv')"
   ]
  },
  {
   "cell_type": "code",
   "execution_count": 43,
   "metadata": {},
   "outputs": [
    {
     "name": "stdout",
     "output_type": "stream",
     "text": [
      "root\n",
      " |-- categoria: string (nullable = true)\n",
      " |-- id_cliente: integer (nullable = true)\n",
      " |-- cliente: string (nullable = true)\n",
      " |-- id_lote: integer (nullable = true)\n",
      " |-- id_conta: integer (nullable = true)\n",
      " |-- guia_prestador: string (nullable = true)\n",
      " |-- id_item: integer (nullable = true)\n",
      " |-- id_prestador: integer (nullable = true)\n",
      " |-- prestador: string (nullable = true)\n",
      " |-- cnpj: long (nullable = true)\n",
      " |-- uf_prestador: string (nullable = true)\n",
      " |-- cidade_prestador: string (nullable = true)\n",
      " |-- id_beneficiario: string (nullable = true)\n",
      " |-- sexo: string (nullable = true)\n",
      " |-- data_nascimento: string (nullable = true)\n",
      " |-- status: string (nullable = true)\n",
      " |-- cid: string (nullable = true)\n",
      " |-- cid2: string (nullable = true)\n",
      " |-- cid3: string (nullable = true)\n",
      " |-- cid4: string (nullable = true)\n",
      " |-- senha: string (nullable = true)\n",
      " |-- crm_solicitante: string (nullable = true)\n",
      " |-- uf_crm_solicitante: string (nullable = true)\n",
      " |-- cbos_solicitante: string (nullable = true)\n",
      " |-- crm_executante: string (nullable = true)\n",
      " |-- uf_crm_executante: string (nullable = true)\n",
      " |-- cbos_executante: string (nullable = true)\n",
      " |-- data_entrada: string (nullable = true)\n",
      " |-- data_saida: string (nullable = true)\n",
      " |-- data_item: string (nullable = true)\n",
      " |-- data_lote: timestamp (nullable = true)\n",
      " |-- tipo_guia: string (nullable = true)\n",
      " |-- carater_atendimento: string (nullable = true)\n",
      " |-- tipo_atendimento: string (nullable = true)\n",
      " |-- tipo_acomodacao: string (nullable = true)\n",
      " |-- tipo_internacao: string (nullable = true)\n",
      " |-- desc_tabela: string (nullable = true)\n",
      " |-- tipo_item: string (nullable = true)\n",
      " |-- desc_tipoalta: string (nullable = true)\n",
      " |-- servico: string (nullable = true)\n",
      " |-- descricao_despesa: string (nullable = true)\n",
      " |-- qtde: double (nullable = true)\n",
      " |-- valor: double (nullable = true)\n",
      " |-- origem: string (nullable = true)\n",
      " |-- cnpj_cpf_codnaoperadora_executante: string (nullable = true)\n",
      " |-- data: string (nullable = true)\n",
      " |-- ano_mes: integer (nullable = true)\n",
      "\n"
     ]
    }
   ],
   "source": [
    "master = 30735068\n",
    "df.printSchema()"
   ]
  },
  {
   "cell_type": "markdown",
   "metadata": {},
   "source": [
    "Selecionando apenas os campos que vamos utilizar:"
   ]
  },
  {
   "cell_type": "code",
   "execution_count": 44,
   "metadata": {},
   "outputs": [
    {
     "name": "stdout",
     "output_type": "stream",
     "text": [
      "root\n",
      " |-- id_conta: integer (nullable = true)\n",
      " |-- servico: string (nullable = true)\n",
      " |-- descricao_despesa: string (nullable = true)\n",
      " |-- tipo_item: string (nullable = true)\n",
      " |-- qtde: double (nullable = true)\n",
      " |-- valor: double (nullable = true)\n",
      "\n"
     ]
    }
   ],
   "source": [
    "selected_df = df.select(\"id_conta\", \"servico\", \"descricao_despesa\", \"tipo_item\", \"qtde\", \"valor\")\n",
    "del df\n",
    "selected_df.printSchema()"
   ]
  },
  {
   "cell_type": "markdown",
   "metadata": {},
   "source": [
    "Preparando o dataset:"
   ]
  },
  {
   "cell_type": "code",
   "execution_count": 45,
   "metadata": {
    "collapsed": true
   },
   "outputs": [],
   "source": [
    "def numeric_convert(item):\n",
    "    try:\n",
    "        return int(item)\n",
    "    except ValueError: # replaces non convertible strings with NaN\n",
    "        return np.nan"
   ]
  },
  {
   "cell_type": "code",
   "execution_count": 46,
   "metadata": {
    "collapsed": true
   },
   "outputs": [],
   "source": [
    "numeric_udf = udf(numeric_convert, IntegerType())\n",
    "selected_df = selected_df.withColumn(\"servico\", numeric_udf(\"servico\")).dropDuplicates().na.drop()"
   ]
  },
  {
   "cell_type": "code",
   "execution_count": 47,
   "metadata": {},
   "outputs": [
    {
     "name": "stdout",
     "output_type": "stream",
     "text": [
      "root\n",
      " |-- id_conta: integer (nullable = true)\n",
      " |-- servico: integer (nullable = true)\n",
      " |-- descricao_despesa: string (nullable = true)\n",
      " |-- tipo_item: string (nullable = true)\n",
      " |-- qtde: double (nullable = true)\n",
      " |-- valor: double (nullable = true)\n",
      "\n"
     ]
    }
   ],
   "source": [
    "selected_df.printSchema()"
   ]
  },
  {
   "cell_type": "code",
   "execution_count": 48,
   "metadata": {},
   "outputs": [
    {
     "data": {
      "text/plain": [
       "Row(id_conta=1133618327, servico=70799172, descricao_despesa='ESPARADRAPO 10 X 4,5 M - B', tipo_item='MATERIAIS', qtde=120.0, valor=1.2)"
      ]
     },
     "execution_count": 48,
     "metadata": {},
     "output_type": "execute_result"
    }
   ],
   "source": [
    "selected_df.first()"
   ]
  },
  {
   "cell_type": "markdown",
   "metadata": {},
   "source": [
    "Pronto, os dados parecem estar em ordem. Nesse moment, vamos trabalhar apenas com os 'id_conta' atrelados a mais de um serviço: "
   ]
  },
  {
   "cell_type": "code",
   "execution_count": 49,
   "metadata": {
    "collapsed": true
   },
   "outputs": [],
   "source": [
    "count = selected_df.groupBy(\"id_conta\").count()"
   ]
  },
  {
   "cell_type": "code",
   "execution_count": 50,
   "metadata": {},
   "outputs": [
    {
     "data": {
      "text/plain": [
       "[Row(id_conta=1184282323, count=100),\n",
       " Row(id_conta=1184299571, count=74),\n",
       " Row(id_conta=1190390629, count=117),\n",
       " Row(id_conta=1196940285, count=100),\n",
       " Row(id_conta=1199011816, count=120),\n",
       " Row(id_conta=1208434177, count=81),\n",
       " Row(id_conta=1217489232, count=6),\n",
       " Row(id_conta=1221638720, count=62),\n",
       " Row(id_conta=1230273877, count=90),\n",
       " Row(id_conta=1245792650, count=65)]"
      ]
     },
     "execution_count": 50,
     "metadata": {},
     "output_type": "execute_result"
    }
   ],
   "source": [
    "count.head(10)"
   ]
  },
  {
   "cell_type": "code",
   "execution_count": 51,
   "metadata": {
    "collapsed": true
   },
   "outputs": [],
   "source": [
    "selected_df = selected_df.join(selected_df.groupBy('id_conta').count(),on='id_conta')\n",
    "selected_df = selected_df.filter(selected_df[\"count\"] > 1).drop(\"count\")"
   ]
  },
  {
   "cell_type": "markdown",
   "metadata": {},
   "source": [
    "### Início da implementação do algoritmo Eclat de Regra de Associação:"
   ]
  },
  {
   "cell_type": "code",
   "execution_count": 52,
   "metadata": {
    "collapsed": true
   },
   "outputs": [],
   "source": [
    "def support(service, dataframe):\n",
    "    \"\"\" Function that gets as inputs services and a dataframe, \n",
    "        gets the total number of accounts in it, and gets the accounts \n",
    "        that contain the specific services\n",
    "    Parameters:\n",
    "    -------------------\n",
    "    Inputs:\n",
    "        service (np.array): a array with all the services\n",
    "        dataframe (pd.DataFrame): the DataFrame in which to look for the services\n",
    "    Returns:\n",
    "        The support, which is the total number of accounts containing each one of the services\n",
    "    \"\"\"\n",
    "    \n",
    "    acc_ids = dataframe.filter(dataframe[\"servico\"] == service[0]).select(\"id_conta\").rdd.flatMap(lambda x: x).collect()\n",
    "    for i in range(1, len(service)): # acc_ids that contain all previous service and current service\n",
    "        # maybe create udf for filtering?\n",
    "        service_df = dataframe.filter(dataframe[\"servico\"] == service[i])\n",
    "        acc_df = service_df[service_df.id_conta.isin(acc_ids)]\n",
    "        acc_ids = [row[\"id_conta\"] for row in acc_df.select(\"id_conta\").collect()]\n",
    "    return len(set(acc_ids))"
   ]
  },
  {
   "cell_type": "code",
   "execution_count": 53,
   "metadata": {
    "collapsed": true
   },
   "outputs": [],
   "source": [
    "##################### Not tested yet ############################\n",
    "\n",
    "def drop_comb(elements,group):\n",
    "    \"\"\" Function that check if a combination contain all the unwanted elements in a list\n",
    "    Parameters:\n",
    "    -------------------\n",
    "    Inputs:\n",
    "        elements (np.array):a array with the unwanted elements \n",
    "        group (tuple): combination of elements\n",
    "    Returns:\n",
    "        A boolean indicating if the combinations has all the unwanted elements (False) or do not (True)\n",
    "    \"\"\"\n",
    "    return len(list(filter(lambda x: x in elements, group))) != len(elements)"
   ]
  },
  {
   "cell_type": "code",
   "execution_count": 54,
   "metadata": {
    "collapsed": true
   },
   "outputs": [],
   "source": [
    "################### Not tested yet ################################\n",
    "\n",
    "def combinations_test(iterable, r,drops):\n",
    "    \"\"\" Function that combines the elements r-wise-way. \n",
    "    It uses some core elements from a built-in lib from python \n",
    "    called (itertools.combinations), and we just added the drops elements\n",
    "    Parameters:\n",
    "    --------------------\n",
    "    Inputs:\n",
    "        iterable (list): elements to combine\n",
    "        r (integer): number of combinations\n",
    "        drops (list): list of unwanted elements in a combination\n",
    "    Returns:\n",
    "        comb (list): combinations of elements r-wise way in a tuple, if not in the drops list\n",
    "    \"\"\"\n",
    "    pool = sc.parallelize(tuple(iterable))\n",
    "    n = len(tuple(iterable))\n",
    "    \n",
    "    if r > n:\n",
    "        return\n",
    "    \n",
    "    indices = sc.parallelize(range(r))\n",
    "    comb = sc.parallelize(tuple(pool[i] for i in indices))\n",
    "    i=0\n",
    "    \n",
    "    for drop in drops:\n",
    "        if drop_comb(drop,sc.paralelize(comb))==False:\n",
    "            break;\n",
    "        i=i+1\n",
    "        if i==len(drops):\n",
    "            yield comb\n",
    "            \n",
    "    while True:\n",
    "        for i in reversed(range(r)):\n",
    "            if indices[i] != i + n - r:\n",
    "                break\n",
    "        else:\n",
    "            return\n",
    "        indices[i] += 1\n",
    "        for j in range(i+1, r):\n",
    "            indices[j] = indices[j-1] + 1\n",
    "        comb = sc.parallelize(tuple(pool[i] for i in indices))\n",
    "        i=0\n",
    "        for drop in drops:\n",
    "            if drop_comb(drop,sc.parallelize(comb))==False:\n",
    "                break;\n",
    "            i=i+1\n",
    "            if i==len(drops):\n",
    "                yield comb"
   ]
  },
  {
   "cell_type": "code",
   "execution_count": 55,
   "metadata": {
    "collapsed": true
   },
   "outputs": [],
   "source": [
    "def eclat(servicos,dataframe,r=1,ids_drop=[],min_sup=10):\n",
    "    ''' Function that combines services in a r-wise-way, calculates its support and return if higher than min_sup.\n",
    "        Parameters:\n",
    "        -----------\n",
    "        Inputs:\n",
    "            servicos (list): list of services to combine\n",
    "            r (int): number of combinations\n",
    "            ids_drop (list): list of combinations of services not wanted together\n",
    "            min_sup (integer): mininum of support\n",
    "        Return:\n",
    "            ids (array): array of tuples of elements combinations\n",
    "            serv_list (array): support of the ids combinations\n",
    "            new_ids_drop (array): array of new combinatios of services unwanted\n",
    "    '''\n",
    "    serv_list=[]\n",
    "    ids = []\n",
    "    new_ids_drop = []\n",
    "    # first case, calculating all the services supports and returning if higher than min_sup\n",
    "    if(r==1):\n",
    "        for service in servicos:\n",
    "            supp = support([service],dataframe)\n",
    "            if(supp>min_sup):\n",
    "                serv_list.append(supp)\n",
    "                ids.append(service)\n",
    "        return ids,serv_list,ids_drop\n",
    "    # others cases, combinating the services not contaning in the drops list and returning if higher than min_sup\n",
    "    else:\n",
    "        if len(ids_drop)>0:\n",
    "            ids_2 = list(combinations_test(servicos,r,ids_drop))\n",
    "        else:\n",
    "            ids_2 = list(combinations(servicos,r))\n",
    "            \n",
    "        for service in ids_2:\n",
    "            supp = support(service,dataframe)\n",
    "            if(supp>min_sup):\n",
    "                serv_list.append(supp)\n",
    "                ids.append(service)\n",
    "            else:\n",
    "                new_ids_drop.append(service)\n",
    "        return ids,serv_list,new_ids_drop\n",
    "    "
   ]
  },
  {
   "cell_type": "code",
   "execution_count": 56,
   "metadata": {
    "collapsed": true
   },
   "outputs": [],
   "source": [
    "def eclat_iter(servicos,dataframe,min_sup):\n",
    "    ''' Function that calls the eclat function for all r combinations and puts all the returns together.\n",
    "        Parameters:\n",
    "        -----------\n",
    "        Inputs:\n",
    "            servicos (list): list of all services to use eclat\n",
    "            dataframe (pandas.DataFrame): dataframe containing the services and accounts\n",
    "            min_sup (integer): mininum support\n",
    "        Return:\n",
    "            final_id (array): array of all elements and combinations used in the association\n",
    "            final_serv (array): array of all the supports of final_id.    \n",
    "    '''\n",
    "    # calling eclat for the first case (all services and no combinations)\n",
    "    ids, serv_list, ids_drop = eclat(servicos,dataframe,min_sup=min_sup)\n",
    "    \n",
    "    # iteration logic for the others cases\n",
    "    i=2\n",
    "    final_id = ids\n",
    "    final_serv = serv_list\n",
    "    new_serv = [1,1]\n",
    "    while True:\n",
    "        # breaking the loop in case the last eclat return only one or zero combinations\n",
    "        if(len(new_serv)<2):\n",
    "            break\n",
    "       # doing each iteration and putting together in the final_id and final_serv\n",
    "        else:\n",
    "            new_ids, new_serv, ids_drop = eclat(servicos=ids,dataframe=dataframe,ids_drop=ids_drop,r=i,min_sup=min_sup)\n",
    "            final_id = final_id + new_ids\n",
    "            final_serv = final_serv + new_serv\n",
    "            i = i + 1\n",
    "            ids = []\n",
    "            # logic to break the tuple of combinations into singles services to use in the new iteration\n",
    "            for x in new_ids:\n",
    "                for y in x:\n",
    "                    if y not in ids:\n",
    "                        ids.append(y)\n",
    "    return final_id,final_serv\n",
    "\n",
    "\n",
    "    "
   ]
  },
  {
   "cell_type": "markdown",
   "metadata": {},
   "source": [
    "Retornando o número de contas equivalentes a 10% do total de contas, para utilizar como mínimo suporte"
   ]
  },
  {
   "cell_type": "code",
   "execution_count": 57,
   "metadata": {},
   "outputs": [
    {
     "data": {
      "text/plain": [
       "1304"
      ]
     },
     "execution_count": 57,
     "metadata": {},
     "output_type": "execute_result"
    }
   ],
   "source": [
    "min_sup = int(0.1*support([master],selected_df))\n",
    "min_sup"
   ]
  },
  {
   "cell_type": "markdown",
   "metadata": {},
   "source": [
    "## Eclat por grupo de Itens"
   ]
  },
  {
   "cell_type": "code",
   "execution_count": 58,
   "metadata": {
    "collapsed": true
   },
   "outputs": [],
   "source": [
    "# todos os tipos de item diferentes\n",
    "tipos_item = [row[\"tipo_item\"] for row in selected_df.select(\"tipo_item\").distinct().collect()]\n",
    "tipos_size = len(tipos_item)"
   ]
  },
  {
   "cell_type": "code",
   "execution_count": null,
   "metadata": {
    "collapsed": true
   },
   "outputs": [],
   "source": [
    "group_ids = list(np.zeros([tipos_size,1]))\n",
    "group_basket = list(np.zeros([tipos_size,1]))\n",
    "for i in range(tipos_size):\n",
    "    print(tipos_item[i])\n",
    "    tipos_df = selected_df.filter(selected_df[\"tipo_item\"] == tipos_item[i])\n",
    "    servicos_rows = tipos_df.select(\"servico\").distinct().collect()\n",
    "    servicos = [row[\"servico\"] for row in servicos_rows]\n",
    "    %time group_ids[i],group_basket[i] = eclat_iter(servicos, tipos_df, min_sup)\n",
    "    if len(group_ids[i])==0:\n",
    "        print('Sem agrupamento')\n",
    "    else:\n",
    "        print(group_ids[i][len(group_ids[i])-1])\n",
    "        print(group_basket[i][len(group_ids[i])-1]*(100/support([master],selected_df)))"
   ]
  },
  {
   "cell_type": "code",
   "execution_count": null,
   "metadata": {
    "collapsed": true
   },
   "outputs": [],
   "source": []
  },
  {
   "cell_type": "code",
   "execution_count": null,
   "metadata": {
    "collapsed": true
   },
   "outputs": [],
   "source": []
  }
 ],
 "metadata": {
  "anaconda-cloud": {},
  "kernelspec": {
   "display_name": "Python 3",
   "language": "python",
   "name": "python3"
  },
  "language_info": {
   "codemirror_mode": {
    "name": "ipython",
    "version": 3
   },
   "file_extension": ".py",
   "mimetype": "text/x-python",
   "name": "python",
   "nbconvert_exporter": "python",
   "pygments_lexer": "ipython3",
   "version": "3.6.3"
  }
 },
 "nbformat": 4,
 "nbformat_minor": 2
}
