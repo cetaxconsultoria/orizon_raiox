{
 "cells": [
  {
   "cell_type": "markdown",
   "metadata": {},
   "source": [
    "# Orizon: Raio-X"
   ]
  },
  {
   "cell_type": "markdown",
   "metadata": {},
   "source": [
    "Vamos entender como os serviços se relacionam entre si computando a frequencia relativa à cada um deles por ID conta e a frequência de agrupamentos de serviços por ID conta.\n",
    "\n",
    "Será utilizado Regras de Associação e o agrupamento feito pelo algoritmo baseado no Eclat(Equivalent Class Transformation)."
   ]
  },
  {
   "cell_type": "code",
   "execution_count": 2,
   "metadata": {},
   "outputs": [],
   "source": [
    "import findspark\n",
    "findspark.init(\"/home/raven/.spark\")"
   ]
  },
  {
   "cell_type": "code",
   "execution_count": 45,
   "metadata": {},
   "outputs": [],
   "source": [
    "from pyspark.sql import SparkSession, SQLContext\n",
    "from pyspark.sql.functions import udf\n",
    "from pyspark.sql.types import FloatType, IntegerType\n",
    "import numpy as np"
   ]
  },
  {
   "cell_type": "markdown",
   "metadata": {},
   "source": [
    "Inicializando sessão do Spark:"
   ]
  },
  {
   "cell_type": "code",
   "execution_count": 52,
   "metadata": {
    "collapsed": true
   },
   "outputs": [],
   "source": [
    "spark = SparkSession.builder \\\n",
    "   .master(\"local[4]\") \\\n",
    "   .appName(\"Orizon - Raio X\") \\\n",
    "   .config(\"spark.executor.memory\", \"1gb\") \\\n",
    "   .getOrCreate()\n",
    "sc = spark.sparkContext\n",
    "sqlContext= SQLContext(sc, sparkSession=spark)"
   ]
  },
  {
   "cell_type": "code",
   "execution_count": 53,
   "metadata": {
    "collapsed": true
   },
   "outputs": [],
   "source": [
    "df = sqlContext.read.format('csv').options(header='true', inferSchema='true', delimiter='\\t').load('data_30735068.csv')"
   ]
  },
  {
   "cell_type": "code",
   "execution_count": 54,
   "metadata": {},
   "outputs": [
    {
     "name": "stdout",
     "output_type": "stream",
     "text": [
      "root\n",
      " |-- categoria: string (nullable = true)\n",
      " |-- id_cliente: integer (nullable = true)\n",
      " |-- cliente: string (nullable = true)\n",
      " |-- id_lote: integer (nullable = true)\n",
      " |-- id_conta: integer (nullable = true)\n",
      " |-- guia_prestador: string (nullable = true)\n",
      " |-- id_item: integer (nullable = true)\n",
      " |-- id_prestador: integer (nullable = true)\n",
      " |-- prestador: string (nullable = true)\n",
      " |-- cnpj: long (nullable = true)\n",
      " |-- uf_prestador: string (nullable = true)\n",
      " |-- cidade_prestador: string (nullable = true)\n",
      " |-- id_beneficiario: string (nullable = true)\n",
      " |-- sexo: string (nullable = true)\n",
      " |-- data_nascimento: string (nullable = true)\n",
      " |-- status: string (nullable = true)\n",
      " |-- cid: string (nullable = true)\n",
      " |-- cid2: string (nullable = true)\n",
      " |-- cid3: string (nullable = true)\n",
      " |-- cid4: string (nullable = true)\n",
      " |-- senha: string (nullable = true)\n",
      " |-- crm_solicitante: string (nullable = true)\n",
      " |-- uf_crm_solicitante: string (nullable = true)\n",
      " |-- cbos_solicitante: string (nullable = true)\n",
      " |-- crm_executante: string (nullable = true)\n",
      " |-- uf_crm_executante: string (nullable = true)\n",
      " |-- cbos_executante: string (nullable = true)\n",
      " |-- data_entrada: string (nullable = true)\n",
      " |-- data_saida: string (nullable = true)\n",
      " |-- data_item: string (nullable = true)\n",
      " |-- data_lote: timestamp (nullable = true)\n",
      " |-- tipo_guia: string (nullable = true)\n",
      " |-- carater_atendimento: string (nullable = true)\n",
      " |-- tipo_atendimento: string (nullable = true)\n",
      " |-- tipo_acomodacao: string (nullable = true)\n",
      " |-- tipo_internacao: string (nullable = true)\n",
      " |-- desc_tabela: string (nullable = true)\n",
      " |-- tipo_item: string (nullable = true)\n",
      " |-- desc_tipoalta: string (nullable = true)\n",
      " |-- servico: string (nullable = true)\n",
      " |-- descricao_despesa: string (nullable = true)\n",
      " |-- qtde: double (nullable = true)\n",
      " |-- valor: double (nullable = true)\n",
      " |-- origem: string (nullable = true)\n",
      " |-- cnpj_cpf_codnaoperadora_executante: string (nullable = true)\n",
      " |-- data: string (nullable = true)\n",
      " |-- ano_mes: integer (nullable = true)\n",
      "\n"
     ]
    }
   ],
   "source": [
    "df.printSchema()"
   ]
  },
  {
   "cell_type": "markdown",
   "metadata": {},
   "source": [
    "Selecionando apenas os campos que vamos utilizar:"
   ]
  },
  {
   "cell_type": "code",
   "execution_count": 55,
   "metadata": {},
   "outputs": [
    {
     "name": "stdout",
     "output_type": "stream",
     "text": [
      "root\n",
      " |-- id_conta: integer (nullable = true)\n",
      " |-- servico: string (nullable = true)\n",
      " |-- descricao_despesa: string (nullable = true)\n",
      " |-- tipo_item: string (nullable = true)\n",
      " |-- qtde: double (nullable = true)\n",
      " |-- valor: double (nullable = true)\n",
      "\n"
     ]
    }
   ],
   "source": [
    "selected_df = df.select(\"id_conta\", \"servico\", \"descricao_despesa\", \"tipo_item\", \"qtde\", \"valor\")\n",
    "del df\n",
    "selected_df.printSchema()"
   ]
  },
  {
   "cell_type": "markdown",
   "metadata": {},
   "source": [
    "Preparando o dataset:"
   ]
  },
  {
   "cell_type": "code",
   "execution_count": 56,
   "metadata": {
    "collapsed": true
   },
   "outputs": [],
   "source": [
    "def numeric_convert(item):\n",
    "    try:\n",
    "        return int(item)\n",
    "    except ValueError: # replaces non convertible strings with NaN\n",
    "        return np.nan"
   ]
  },
  {
   "cell_type": "code",
   "execution_count": 66,
   "metadata": {},
   "outputs": [],
   "source": [
    "numeric_udf = udf(numeric_convert, IntegerType())\n",
    "selected_df = selected_df.withColumn(\"servico\", numeric_udf(\"servico\")).dropDuplicates().na.drop()"
   ]
  },
  {
   "cell_type": "code",
   "execution_count": 58,
   "metadata": {},
   "outputs": [
    {
     "name": "stdout",
     "output_type": "stream",
     "text": [
      "root\n",
      " |-- id_conta: integer (nullable = true)\n",
      " |-- servico: integer (nullable = true)\n",
      " |-- descricao_despesa: string (nullable = true)\n",
      " |-- tipo_item: string (nullable = true)\n",
      " |-- qtde: double (nullable = true)\n",
      " |-- valor: double (nullable = true)\n",
      "\n"
     ]
    }
   ],
   "source": [
    "selected_df.printSchema()"
   ]
  },
  {
   "cell_type": "code",
   "execution_count": 59,
   "metadata": {},
   "outputs": [
    {
     "data": {
      "text/plain": [
       "Row(id_conta=1133618327, servico=70799172, descricao_despesa='ESPARADRAPO 10 X 4,5 M - B', tipo_item='MATERIAIS', qtde=120.0, valor=1.2)"
      ]
     },
     "execution_count": 59,
     "metadata": {},
     "output_type": "execute_result"
    }
   ],
   "source": [
    "selected_df.first()"
   ]
  },
  {
   "cell_type": "markdown",
   "metadata": {},
   "source": [
    "Pronto, os dados parecem estar em ordem. Nesse moment, vamos trabalhar apenas com os 'id_conta' atrelados a mais de um serviço: "
   ]
  },
  {
   "cell_type": "code",
   "execution_count": 69,
   "metadata": {},
   "outputs": [],
   "source": [
    "count = selected_df.groupBy(\"id_conta\").count()"
   ]
  },
  {
   "cell_type": "code",
   "execution_count": 76,
   "metadata": {},
   "outputs": [
    {
     "data": {
      "text/plain": [
       "[Row(id_conta=1184282323, count=100),\n",
       " Row(id_conta=1184299571, count=74),\n",
       " Row(id_conta=1190390629, count=117),\n",
       " Row(id_conta=1196940285, count=100),\n",
       " Row(id_conta=1199011816, count=120),\n",
       " Row(id_conta=1208434177, count=81),\n",
       " Row(id_conta=1217489232, count=6),\n",
       " Row(id_conta=1221638720, count=62),\n",
       " Row(id_conta=1230273877, count=90),\n",
       " Row(id_conta=1245792650, count=65)]"
      ]
     },
     "execution_count": 76,
     "metadata": {},
     "output_type": "execute_result"
    }
   ],
   "source": [
    "count.head(10)"
   ]
  },
  {
   "cell_type": "code",
   "execution_count": 95,
   "metadata": {},
   "outputs": [],
   "source": [
    "selected_df = selected_df.join(selected_df.groupBy('id_conta').count(),on='id_conta')\n",
    "selected_df = selected_df.filter(selected_df[\"count\"] > 1).drop(\"count\")"
   ]
  },
  {
   "cell_type": "markdown",
   "metadata": {},
   "source": [
    "### Início da implementação do algoritmo Eclat de Regra de Associação:"
   ]
  },
  {
   "cell_type": "code",
   "execution_count": null,
   "metadata": {},
   "outputs": [],
   "source": []
  },
  {
   "cell_type": "code",
   "execution_count": null,
   "metadata": {
    "collapsed": true
   },
   "outputs": [],
   "source": []
  }
 ],
 "metadata": {
  "kernelspec": {
   "display_name": "Python 3",
   "language": "python",
   "name": "python3"
  },
  "language_info": {
   "codemirror_mode": {
    "name": "ipython",
    "version": 3
   },
   "file_extension": ".py",
   "mimetype": "text/x-python",
   "name": "python",
   "nbconvert_exporter": "python",
   "pygments_lexer": "ipython3",
   "version": "3.6.3"
  }
 },
 "nbformat": 4,
 "nbformat_minor": 2
}
