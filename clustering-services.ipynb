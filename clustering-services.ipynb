{
 "cells": [
  {
   "cell_type": "markdown",
   "metadata": {},
   "source": [
    "#### Importando bibliotecas"
   ]
  },
  {
   "cell_type": "code",
   "execution_count": 1,
   "metadata": {
    "collapsed": true
   },
   "outputs": [],
   "source": [
    "import pandas as pd\n",
    "import numpy as np\n",
    "from sklearn.feature_extraction.text import TfidfVectorizer\n",
    "from sklearn.feature_extraction.text import CountVectorizer\n",
    "from matplotlib import pyplot as plt\n",
    "from scipy.cluster.hierarchy import dendrogram, linkage\n",
    "from scipy.cluster.hierarchy import fcluster\n",
    "from sklearn.decomposition import PCA\n",
    "from scipy.cluster.hierarchy import cophenet\n",
    "from scipy.spatial.distance import pdist\n",
    "import seaborn as sns"
   ]
  },
  {
   "cell_type": "markdown",
   "metadata": {},
   "source": [
    "#### Importando dataset - TUSS 30726034: Artroplastia de Joelho"
   ]
  },
  {
   "cell_type": "code",
   "execution_count": 2,
   "metadata": {
    "collapsed": true
   },
   "outputs": [],
   "source": [
    "dataset = pd.read_csv('data/data1.csv', encoding = \"ISO-8859-1\", delimiter='\\',\\'', engine='python')"
   ]
  },
  {
   "cell_type": "markdown",
   "metadata": {},
   "source": [
    "#### Procedimento para agrupar os serviços por id_conta, em formato de string para utilizá-lo no count e no tf-idf.\n",
    "\n",
    "#### Variáveis:\n",
    "servicos: lista com todos os serviços existentes no dataset.<br>\n",
    "serv: lista com os serviços em formato de string, agrupados por id_conta.<br>\n",
    "contas: ordem das contas utilizadas em serv."
   ]
  },
  {
   "cell_type": "code",
   "execution_count": 3,
   "metadata": {
    "collapsed": true
   },
   "outputs": [],
   "source": [
    "data = list(dataset.servico.groupby(dataset['id_conta']))\n",
    "servicos = list(dataset.servico.astype(str).value_counts().index)\n",
    "serv = []\n",
    "contas = []\n",
    "for i in range(len(data)):\n",
    "    serv.insert(i, ' '.join(map(str,data[i][1])))\n",
    "    contas.append(str(data[i][0]))"
   ]
  },
  {
   "cell_type": "markdown",
   "metadata": {},
   "source": [
    "A idéia por trás desse método é a de que cada linha do dataset seja uma id_conta e cada coluna um dos serviços existentes no dataset, com seu valor representativo para a conta em questão, ou o número de vezes que aparece na string representando a id_conta(método count) ou baseado na frequência do serviço nessa conta e na frequência com que ele aparece em todo o dataset(método tf-idf)."
   ]
  },
  {
   "cell_type": "code",
   "execution_count": 4,
   "metadata": {},
   "outputs": [
    {
     "data": {
      "text/plain": [
       "'90196031 90090845 90090845 90090845 40304590 40304590 40304590 90196503 90196503 90196031 90196503 40302237 40302237 40302237 40301931 40301931 40301931 70135355 70135355 70135355 0000084866 0000084866 0000084866 70222800 70222800 70222800 70223769 70223769 70223769 40301222 40301222 40301222 40304639 40304639 40304639 40302423 40302423 40302423 70714100 70714100 70714100 01213730 01213730 01213730 01213731 01213731 01213731 01213734 01213734 01213734 01213732 01213732 01213732 01213733 01213733 01213733 60001046 60001046 60001046 80010660 80010660 80010660 60023155 60023155 60023155 60031808 60031808 60031808 60004355 60004355 60004355 60029269 60029269 60029269 90006330 90006330 90006330 90003551 90003551 90003551 90045769 90045769 90045769 90015738 90015738 90015738 90045980 90045980 90045980 40301397 40301397 40301397 40302512 40302512 40302512 40302504 40302504 40302504 40301630 40301630 40301630 40302580 40302580 40302580 40302040 40302040 40302040 40811026 40811026 40811026 20103212 20103212 20103212 20203047 20203047 20203047 10102019 10102019 10102019 10104011 10104011 10104011 10104020 10104020 10104020 70270031 70270031 70270031 70259470 70259470 70259470 10104020 10104020 10104020 90105958 90105958 90105958 40302016 40302016 40302016 90196031 40304361 40304361 40304361 30726034 30726034 30726034 40308391 40308391 40308391 90019717 90019717 90019717 90019822 90019822 90019822 0000173504 0000173504 0000173504 0000152619 0000152619 0000152619 0000152623 0000152623 0000152623 70704252 70704252 70704252 90174569 90174569 90174569 70223190 70223190 70223190 30726034 30726034 30726034 30726034 30726034 30726034 0000053764 0000053764 0000053764 70034729 70034729 70034729 0000004697 0000004697 0000004697 70360758 70360758 70360758 0000033408 0000033408 0000033408 70034664 70034664 70034664 60026227 60026227 60026227 0000151985 0000151985 0000151985 81044802 81044802 81044802 60033568 60033568 60033568 81012101 81012101 81012101 90132297 90132297 90132297 90047516 90047516 90047516 40301109 40301109 40301109 90194489 90194489 90194489 70851085 70851085 70851085 0000124865 0000124865 0000124865 70958858 70958858 70958858 70704309 70704309 70704309 0000015124 0000015124 0000015124 0000150887 0000150887 0000150887 70360812 70360812 70360812 70034419 70034419 70034419 70360944 70360944 70360944 0000053832 0000053832 0000053832 0000053615 0000053615 0000053615 0000072440 0000072440 0000072440 0000024710 0000024710 0000024710 70258988 70258988 70258988 0000036865 0000036865 0000036865 70704155 70704155 70704155 70176426 70176426 70176426 90007131 90007131 90007131 40301419 40301419 40301419 0000031624 0000031624 0000031624 40301559 40301559 40301559 90047354 90047354 90047354 00134601 00134601 00134601 0000027018 0000027018 0000027018 90008332 90008332 90008332 90047257 90047257 90047257'"
      ]
     },
     "execution_count": 4,
     "metadata": {},
     "output_type": "execute_result"
    }
   ],
   "source": [
    "# exemplo variavel serv(string com todos os serviços de uma conta)\n",
    "serv[50]"
   ]
  },
  {
   "cell_type": "markdown",
   "metadata": {},
   "source": [
    "#### Utilizando tf-idf(Term Frequency - Inverse Document Frequency) para retornar valores normalizados referente aos serviços utilizados por id_conta. A matriz resultante e seus atributos serão utilizados na clusterização.\n",
    "\n",
    "#### Utilizando count para contar o número de vezes que cada serviço aparece na conta. A matriz resultante será utilizada após a clusterização."
   ]
  },
  {
   "cell_type": "code",
   "execution_count": 5,
   "metadata": {},
   "outputs": [
    {
     "name": "stderr",
     "output_type": "stream",
     "text": [
      "/usr/lib64/python3.5/site-packages/sklearn/feature_extraction/text.py:993: RuntimeWarning: divide by zero encountered in true_divide\n",
      "  idf = np.log(float(n_samples) / df) + 1.0\n"
     ]
    },
    {
     "data": {
      "text/plain": [
       "(2453, 11489)"
      ]
     },
     "execution_count": 5,
     "metadata": {},
     "output_type": "execute_result"
    }
   ],
   "source": [
    "tfidf = TfidfVectorizer(norm='l2',min_df=0, use_idf=True, smooth_idf=False, sublinear_tf=True, vocabulary=servicos)\n",
    "X = tfidf.fit_transform(serv).toarray()\n",
    "count = CountVectorizer(min_df=0, vocabulary=servicos)\n",
    "X_count = count.fit_transform(serv).toarray()\n",
    "X.shape"
   ]
  },
  {
   "cell_type": "markdown",
   "metadata": {},
   "source": [
    "X.shape indica que o dataset possui 2453 contas diferentes e 11489 serviços distintos."
   ]
  },
  {
   "cell_type": "code",
   "execution_count": 6,
   "metadata": {},
   "outputs": [
    {
     "data": {
      "text/plain": [
       "array([ 0.02756953,  0.        ,  0.04862406, ...,  0.        ,\n",
       "        0.        ,  0.        ])"
      ]
     },
     "execution_count": 6,
     "metadata": {},
     "output_type": "execute_result"
    }
   ],
   "source": [
    "#exemplo de X\n",
    "X[50]"
   ]
  },
  {
   "cell_type": "markdown",
   "metadata": {},
   "source": [
    "#### A seguir é usado o método de clusterização por hierarquia, com a métrica de distância escolhida sendo a maior 'cosine distance' entre os elementos do cluster.\n",
    "\n",
    "O valor da distância por esse método será entre 0(são similares) e 1(totalmente distintos)."
   ]
  },
  {
   "cell_type": "code",
   "execution_count": 7,
   "metadata": {
    "collapsed": true
   },
   "outputs": [],
   "source": [
    "Z = linkage(X, method='complete', metric='cosine')"
   ]
  },
  {
   "cell_type": "markdown",
   "metadata": {},
   "source": [
    "### Visualizando Z:\n",
    "Primeira coluna: posição da conta 1.<br>\n",
    "Segunda coluna: posição da conta 2.<br>\n",
    "Terceira coluna: distância entre as contas.<br>\n",
    "Quarta coluna: quantidade de pontos no cluster criado através da junção das duas contas."
   ]
  },
  {
   "cell_type": "code",
   "execution_count": 8,
   "metadata": {},
   "outputs": [
    {
     "data": {
      "text/plain": [
       "array([[  0.00000000e+00,   1.00000000e+00,   0.00000000e+00,\n",
       "          2.00000000e+00],\n",
       "       [  2.00000000e+00,   2.45300000e+03,   0.00000000e+00,\n",
       "          3.00000000e+00],\n",
       "       [  3.00000000e+00,   2.45400000e+03,   0.00000000e+00,\n",
       "          4.00000000e+00],\n",
       "       [  6.00000000e+00,   2.45500000e+03,   0.00000000e+00,\n",
       "          5.00000000e+00],\n",
       "       [  4.00000000e+00,   5.00000000e+00,   0.00000000e+00,\n",
       "          2.00000000e+00],\n",
       "       [  2.07400000e+03,   2.45700000e+03,   0.00000000e+00,\n",
       "          3.00000000e+00],\n",
       "       [  7.00000000e+00,   2.45600000e+03,   0.00000000e+00,\n",
       "          6.00000000e+00],\n",
       "       [  1.00000000e+01,   2.45900000e+03,   0.00000000e+00,\n",
       "          7.00000000e+00],\n",
       "       [  1.40000000e+01,   2.46000000e+03,   0.00000000e+00,\n",
       "          8.00000000e+00],\n",
       "       [  1.20000000e+01,   4.42000000e+02,   0.00000000e+00,\n",
       "          2.00000000e+00],\n",
       "       [  1.54000000e+02,   4.18000000e+02,   0.00000000e+00,\n",
       "          2.00000000e+00],\n",
       "       [  6.12000000e+02,   2.46300000e+03,   0.00000000e+00,\n",
       "          3.00000000e+00],\n",
       "       [  6.14000000e+02,   2.46400000e+03,   0.00000000e+00,\n",
       "          4.00000000e+00],\n",
       "       [  6.58000000e+02,   2.46500000e+03,   0.00000000e+00,\n",
       "          5.00000000e+00],\n",
       "       [  7.04000000e+02,   2.46600000e+03,   0.00000000e+00,\n",
       "          6.00000000e+00],\n",
       "       [  1.06800000e+03,   2.46700000e+03,   0.00000000e+00,\n",
       "          7.00000000e+00],\n",
       "       [  1.13600000e+03,   2.46800000e+03,   0.00000000e+00,\n",
       "          8.00000000e+00],\n",
       "       [  1.26400000e+03,   2.46900000e+03,   0.00000000e+00,\n",
       "          9.00000000e+00],\n",
       "       [  1.89000000e+03,   2.47000000e+03,   0.00000000e+00,\n",
       "          1.00000000e+01],\n",
       "       [  2.21400000e+03,   2.47100000e+03,   0.00000000e+00,\n",
       "          1.10000000e+01]])"
      ]
     },
     "execution_count": 8,
     "metadata": {},
     "output_type": "execute_result"
    }
   ],
   "source": [
    "Z[:20]"
   ]
  },
  {
   "cell_type": "markdown",
   "metadata": {},
   "source": [
    "#### Criando os clusters utilizando como métrica a distância máxima entre os pontos de 0.3(70% de similaridade)."
   ]
  },
  {
   "cell_type": "code",
   "execution_count": 9,
   "metadata": {},
   "outputs": [
    {
     "data": {
      "text/plain": [
       "array([414, 414, 414, ..., 609, 482,   6], dtype=int32)"
      ]
     },
     "execution_count": 9,
     "metadata": {},
     "output_type": "execute_result"
    }
   ],
   "source": [
    "clusters = fcluster(Z, 0.3, 'distance')\n",
    "clusters"
   ]
  },
  {
   "cell_type": "markdown",
   "metadata": {},
   "source": [
    "#### Número de clusters criados:"
   ]
  },
  {
   "cell_type": "code",
   "execution_count": 10,
   "metadata": {},
   "outputs": [
    {
     "data": {
      "text/plain": [
       "777"
      ]
     },
     "execution_count": 10,
     "metadata": {},
     "output_type": "execute_result"
    }
   ],
   "source": [
    "clusters.max()"
   ]
  },
  {
   "cell_type": "markdown",
   "metadata": {},
   "source": [
    "#### Criando dataframe do resultado dos clusters."
   ]
  },
  {
   "cell_type": "code",
   "execution_count": 11,
   "metadata": {},
   "outputs": [
    {
     "data": {
      "text/html": [
       "<div>\n",
       "<style scoped>\n",
       "    .dataframe tbody tr th:only-of-type {\n",
       "        vertical-align: middle;\n",
       "    }\n",
       "\n",
       "    .dataframe tbody tr th {\n",
       "        vertical-align: top;\n",
       "    }\n",
       "\n",
       "    .dataframe thead th {\n",
       "        text-align: right;\n",
       "    }\n",
       "</style>\n",
       "<table border=\"1\" class=\"dataframe\">\n",
       "  <thead>\n",
       "    <tr style=\"text-align: right;\">\n",
       "      <th></th>\n",
       "      <th>30726034</th>\n",
       "      <th>70014370</th>\n",
       "      <th>90196031</th>\n",
       "      <th>70705330</th>\n",
       "      <th>40304361</th>\n",
       "      <th>20203047</th>\n",
       "      <th>40301630</th>\n",
       "      <th>40302580</th>\n",
       "      <th>40302318</th>\n",
       "      <th>40302423</th>\n",
       "      <th>...</th>\n",
       "      <th>09142302</th>\n",
       "      <th>0000074439</th>\n",
       "      <th>0000040730</th>\n",
       "      <th>00165316</th>\n",
       "      <th>90050045</th>\n",
       "      <th>0000008639</th>\n",
       "      <th>00607201</th>\n",
       "      <th>00201299</th>\n",
       "      <th>70138990</th>\n",
       "      <th>cluster</th>\n",
       "    </tr>\n",
       "    <tr>\n",
       "      <th>conta</th>\n",
       "      <th></th>\n",
       "      <th></th>\n",
       "      <th></th>\n",
       "      <th></th>\n",
       "      <th></th>\n",
       "      <th></th>\n",
       "      <th></th>\n",
       "      <th></th>\n",
       "      <th></th>\n",
       "      <th></th>\n",
       "      <th></th>\n",
       "      <th></th>\n",
       "      <th></th>\n",
       "      <th></th>\n",
       "      <th></th>\n",
       "      <th></th>\n",
       "      <th></th>\n",
       "      <th></th>\n",
       "      <th></th>\n",
       "      <th></th>\n",
       "      <th></th>\n",
       "    </tr>\n",
       "  </thead>\n",
       "  <tbody>\n",
       "    <tr>\n",
       "      <th>1135485394</th>\n",
       "      <td>16</td>\n",
       "      <td>0</td>\n",
       "      <td>0</td>\n",
       "      <td>0</td>\n",
       "      <td>0</td>\n",
       "      <td>0</td>\n",
       "      <td>0</td>\n",
       "      <td>0</td>\n",
       "      <td>0</td>\n",
       "      <td>0</td>\n",
       "      <td>...</td>\n",
       "      <td>0</td>\n",
       "      <td>0</td>\n",
       "      <td>0</td>\n",
       "      <td>0</td>\n",
       "      <td>0</td>\n",
       "      <td>0</td>\n",
       "      <td>0</td>\n",
       "      <td>0</td>\n",
       "      <td>0</td>\n",
       "      <td>414</td>\n",
       "    </tr>\n",
       "    <tr>\n",
       "      <th>1135517427</th>\n",
       "      <td>1</td>\n",
       "      <td>0</td>\n",
       "      <td>0</td>\n",
       "      <td>0</td>\n",
       "      <td>0</td>\n",
       "      <td>0</td>\n",
       "      <td>0</td>\n",
       "      <td>0</td>\n",
       "      <td>0</td>\n",
       "      <td>0</td>\n",
       "      <td>...</td>\n",
       "      <td>0</td>\n",
       "      <td>0</td>\n",
       "      <td>0</td>\n",
       "      <td>0</td>\n",
       "      <td>0</td>\n",
       "      <td>0</td>\n",
       "      <td>0</td>\n",
       "      <td>0</td>\n",
       "      <td>0</td>\n",
       "      <td>414</td>\n",
       "    </tr>\n",
       "    <tr>\n",
       "      <th>1135517428</th>\n",
       "      <td>1</td>\n",
       "      <td>0</td>\n",
       "      <td>0</td>\n",
       "      <td>0</td>\n",
       "      <td>0</td>\n",
       "      <td>0</td>\n",
       "      <td>0</td>\n",
       "      <td>0</td>\n",
       "      <td>0</td>\n",
       "      <td>0</td>\n",
       "      <td>...</td>\n",
       "      <td>0</td>\n",
       "      <td>0</td>\n",
       "      <td>0</td>\n",
       "      <td>0</td>\n",
       "      <td>0</td>\n",
       "      <td>0</td>\n",
       "      <td>0</td>\n",
       "      <td>0</td>\n",
       "      <td>0</td>\n",
       "      <td>414</td>\n",
       "    </tr>\n",
       "    <tr>\n",
       "      <th>1135644291</th>\n",
       "      <td>1</td>\n",
       "      <td>0</td>\n",
       "      <td>0</td>\n",
       "      <td>0</td>\n",
       "      <td>0</td>\n",
       "      <td>0</td>\n",
       "      <td>0</td>\n",
       "      <td>0</td>\n",
       "      <td>0</td>\n",
       "      <td>0</td>\n",
       "      <td>...</td>\n",
       "      <td>0</td>\n",
       "      <td>0</td>\n",
       "      <td>0</td>\n",
       "      <td>0</td>\n",
       "      <td>0</td>\n",
       "      <td>0</td>\n",
       "      <td>0</td>\n",
       "      <td>0</td>\n",
       "      <td>0</td>\n",
       "      <td>414</td>\n",
       "    </tr>\n",
       "    <tr>\n",
       "      <th>1135853444</th>\n",
       "      <td>1</td>\n",
       "      <td>0</td>\n",
       "      <td>0</td>\n",
       "      <td>0</td>\n",
       "      <td>0</td>\n",
       "      <td>0</td>\n",
       "      <td>0</td>\n",
       "      <td>0</td>\n",
       "      <td>0</td>\n",
       "      <td>0</td>\n",
       "      <td>...</td>\n",
       "      <td>0</td>\n",
       "      <td>0</td>\n",
       "      <td>0</td>\n",
       "      <td>0</td>\n",
       "      <td>0</td>\n",
       "      <td>0</td>\n",
       "      <td>0</td>\n",
       "      <td>0</td>\n",
       "      <td>0</td>\n",
       "      <td>392</td>\n",
       "    </tr>\n",
       "  </tbody>\n",
       "</table>\n",
       "<p>5 rows × 11490 columns</p>\n",
       "</div>"
      ],
      "text/plain": [
       "            30726034  70014370  90196031  70705330  40304361  20203047  \\\n",
       "conta                                                                    \n",
       "1135485394        16         0         0         0         0         0   \n",
       "1135517427         1         0         0         0         0         0   \n",
       "1135517428         1         0         0         0         0         0   \n",
       "1135644291         1         0         0         0         0         0   \n",
       "1135853444         1         0         0         0         0         0   \n",
       "\n",
       "            40301630  40302580  40302318  40302423   ...     09142302  \\\n",
       "conta                                                ...                \n",
       "1135485394         0         0         0         0   ...            0   \n",
       "1135517427         0         0         0         0   ...            0   \n",
       "1135517428         0         0         0         0   ...            0   \n",
       "1135644291         0         0         0         0   ...            0   \n",
       "1135853444         0         0         0         0   ...            0   \n",
       "\n",
       "            0000074439  0000040730  00165316  90050045  0000008639  00607201  \\\n",
       "conta                                                                          \n",
       "1135485394           0           0         0         0           0         0   \n",
       "1135517427           0           0         0         0           0         0   \n",
       "1135517428           0           0         0         0           0         0   \n",
       "1135644291           0           0         0         0           0         0   \n",
       "1135853444           0           0         0         0           0         0   \n",
       "\n",
       "            00201299  70138990  cluster  \n",
       "conta                                    \n",
       "1135485394         0         0      414  \n",
       "1135517427         0         0      414  \n",
       "1135517428         0         0      414  \n",
       "1135644291         0         0      414  \n",
       "1135853444         0         0      392  \n",
       "\n",
       "[5 rows x 11490 columns]"
      ]
     },
     "execution_count": 11,
     "metadata": {},
     "output_type": "execute_result"
    }
   ],
   "source": [
    "result = pd.DataFrame(X_count, columns=servicos)\n",
    "contas = pd.DataFrame(contas, columns=['conta'])\n",
    "result.set_index(contas.conta, inplace=True)\n",
    "result['cluster'] = clusters\n",
    "result.head(5)"
   ]
  },
  {
   "cell_type": "markdown",
   "metadata": {},
   "source": [
    "#### Procurando cluster com mais contas atreladas."
   ]
  },
  {
   "cell_type": "code",
   "execution_count": 12,
   "metadata": {},
   "outputs": [
    {
     "data": {
      "text/plain": [
       "414    1361\n",
       "116      36\n",
       "381      25\n",
       "412      17\n",
       "436      11\n",
       "75       10\n",
       "424       9\n",
       "409       8\n",
       "391       8\n",
       "396       8\n",
       "Name: cluster, dtype: int64"
      ]
     },
     "execution_count": 12,
     "metadata": {},
     "output_type": "execute_result"
    }
   ],
   "source": [
    "result.cluster.value_counts()[:10]"
   ]
  },
  {
   "cell_type": "markdown",
   "metadata": {},
   "source": [
    "Como pode-se ver a maior parte das contas estão em um cluster (414), provavelmente são as contas que possuem apenas o TUSS Master. E grande parte dos clusters tem menos de 8 contas, mostrando serem contas com serviços únicos que não aparecem nas demais."
   ]
  },
  {
   "cell_type": "markdown",
   "metadata": {},
   "source": [
    "#### Imprimindo o número de serviços existentes nos 10 maiores clusters e a contagem de vezes que cada serviço aparece."
   ]
  },
  {
   "cell_type": "code",
   "execution_count": 13,
   "metadata": {},
   "outputs": [
    {
     "name": "stdout",
     "output_type": "stream",
     "text": [
      "Cluster: 414\n",
      "Servico: 30726034,  Count: 4060.00\n",
      "--------------------------------\n",
      "Cluster: 116\n",
      "Servico: 30726034,  Count: 725.00\n",
      "Servico: 40403408,  Count: 149.00\n",
      "Servico: 40403173,  Count: 122.00\n",
      "Servico: 40403343,  Count: 142.00\n",
      "Servico: 40403688,  Count: 149.00\n",
      "Servico: 65410254,  Count: 135.00\n",
      "--------------------------------\n",
      "Cluster: 381\n",
      "Servico: 30726034,  Count: 397.00\n",
      "Servico: 65410254,  Count: 89.00\n",
      "--------------------------------\n",
      "Cluster: 412\n",
      "Servico: 30726034,  Count: 36.00\n",
      "Servico: 10104020,  Count: 1.00\n",
      "Servico: 10104011,  Count: 1.00\n",
      "Servico: 30732026,  Count: 30.00\n",
      "--------------------------------\n",
      "Cluster: 436\n",
      "Servico: 30726034,  Count: 27.00\n",
      "Servico: 30726220,  Count: 3.00\n",
      "Servico: 30726239,  Count: 24.00\n",
      "--------------------------------\n",
      "Cluster: 75\n",
      "Servico: 30726034,  Count: 10.00\n",
      "Servico: 30726220,  Count: 12.00\n",
      "Servico: 30732026,  Count: 10.00\n",
      "Servico: 30713072,  Count: 2.00\n",
      "--------------------------------\n",
      "Cluster: 424\n",
      "Servico: 30726034,  Count: 9.00\n",
      "Servico: 30727162,  Count: 9.00\n",
      "Servico: 30733014,  Count: 5.00\n",
      "--------------------------------\n",
      "Cluster: 409\n",
      "Servico: 30726034,  Count: 8.00\n",
      "Servico: 30713048,  Count: 8.00\n",
      "Servico: 30727162,  Count: 3.00\n",
      "--------------------------------\n",
      "Cluster: 391\n",
      "Servico: 30726034,  Count: 35.00\n",
      "Servico: 30726220,  Count: 2.00\n",
      "Servico: 30726042,  Count: 25.00\n",
      "--------------------------------\n",
      "Cluster: 396\n",
      "Servico: 30726034,  Count: 8.00\n",
      "Servico: 30710030,  Count: 10.00\n",
      "--------------------------------\n"
     ]
    }
   ],
   "source": [
    "for cluster in result.cluster.value_counts()[:10].index:\n",
    "    print('Cluster: %d' % (cluster))   \n",
    "    for servico in list(filter(lambda x: x != 'cluster', result.columns)):\n",
    "        if(result[servico].loc[result.cluster==cluster].max() > 0):\n",
    "            print('Servico: %s,  Count: %.2f' % (servico, result[servico].loc[result.cluster==cluster].sum()))\n",
    "    print('--------------------------------')"
   ]
  }
 ],
 "metadata": {
  "kernelspec": {
   "display_name": "Python 3",
   "language": "python",
   "name": "python3"
  },
  "language_info": {
   "codemirror_mode": {
    "name": "ipython",
    "version": 3
   },
   "file_extension": ".py",
   "mimetype": "text/x-python",
   "name": "python",
   "nbconvert_exporter": "python",
   "pygments_lexer": "ipython3",
   "version": "3.5.3"
  }
 },
 "nbformat": 4,
 "nbformat_minor": 2
}
