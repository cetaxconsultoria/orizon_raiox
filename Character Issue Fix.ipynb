{
 "cells": [
  {
   "cell_type": "markdown",
   "metadata": {},
   "source": [
    "# Character Issue Fix"
   ]
  },
  {
   "cell_type": "markdown",
   "metadata": {},
   "source": [
    "Quick fix for special characters that were broken on display. "
   ]
  },
  {
   "cell_type": "code",
   "execution_count": 1,
   "metadata": {
    "collapsed": true
   },
   "outputs": [],
   "source": [
    "import findspark\n",
    "findspark.init(\"/home/raven/.spark\")"
   ]
  },
  {
   "cell_type": "code",
   "execution_count": 2,
   "metadata": {
    "collapsed": true
   },
   "outputs": [],
   "source": [
    "from pyspark.sql import SparkSession, SQLContext\n",
    "from pyspark.sql.functions import udf\n",
    "from pyspark.sql.types import StringType"
   ]
  },
  {
   "cell_type": "code",
   "execution_count": 3,
   "metadata": {
    "collapsed": true
   },
   "outputs": [],
   "source": [
    "spark = SparkSession.builder \\\n",
    "   .master(\"local[4]\") \\\n",
    "   .appName(\"Orizon - Raio X\") \\\n",
    "   .config(\"spark.executor.memory\", \"1gb\") \\\n",
    "   .getOrCreate()\n",
    "sc = spark.sparkContext\n",
    "sqlContext= SQLContext(sc, sparkSession=spark)"
   ]
  },
  {
   "cell_type": "code",
   "execution_count": 4,
   "metadata": {},
   "outputs": [],
   "source": [
    "df = sqlContext.read.format('csv').options(header='true', inferSchema='true', delimiter=\"\\t\").load('data_30726034.tsv')"
   ]
  },
  {
   "cell_type": "code",
   "execution_count": 5,
   "metadata": {},
   "outputs": [
    {
     "name": "stdout",
     "output_type": "stream",
     "text": [
      "root\n",
      " |-- categoria': string (nullable = true)\n",
      " |-- id_cliente': string (nullable = true)\n",
      " |-- cliente': string (nullable = true)\n",
      " |-- id_lote': string (nullable = true)\n",
      " |-- id_conta': string (nullable = true)\n",
      " |-- guia_prestador': string (nullable = true)\n",
      " |-- id_item': string (nullable = true)\n",
      " |-- id_prestador': string (nullable = true)\n",
      " |-- prestador': string (nullable = true)\n",
      " |-- cnpj': string (nullable = true)\n",
      " |-- uf_prestador': string (nullable = true)\n",
      " |-- cidade_prestador': string (nullable = true)\n",
      " |-- id_beneficiario': string (nullable = true)\n",
      " |-- sexo': string (nullable = true)\n",
      " |-- data_nascimento': string (nullable = true)\n",
      " |-- status': string (nullable = true)\n",
      " |-- cid': string (nullable = true)\n",
      " |-- cid2': string (nullable = true)\n",
      " |-- cid3': string (nullable = true)\n",
      " |-- cid4': string (nullable = true)\n",
      " |-- senha': string (nullable = true)\n",
      " |-- crm_solicitante': string (nullable = true)\n",
      " |-- uf_crm_solicitante': string (nullable = true)\n",
      " |-- cbos_solicitante': string (nullable = true)\n",
      " |-- crm_executante': string (nullable = true)\n",
      " |-- uf_crm_executante': string (nullable = true)\n",
      " |-- cbos_executante': string (nullable = true)\n",
      " |-- data_entrada': string (nullable = true)\n",
      " |-- data_saida': string (nullable = true)\n",
      " |-- data_item': string (nullable = true)\n",
      " |-- data_lote': string (nullable = true)\n",
      " |-- tipo_guia': string (nullable = true)\n",
      " |-- carater_atendimento': string (nullable = true)\n",
      " |-- tipo_atendimento': string (nullable = true)\n",
      " |-- tipo_acomodacao': string (nullable = true)\n",
      " |-- tipo_internacao': string (nullable = true)\n",
      " |-- desc_tabela': string (nullable = true)\n",
      " |-- tipo_item': string (nullable = true)\n",
      " |-- desc_tipoalta': string (nullable = true)\n",
      " |-- servico': string (nullable = true)\n",
      " |-- descricao_despesa': string (nullable = true)\n",
      " |-- qtde': string (nullable = true)\n",
      " |-- valor': string (nullable = true)\n",
      " |-- origem': string (nullable = true)\n",
      " |-- cnpj_cpf_codnaoperadora_executante': string (nullable = true)\n",
      " |-- data': string (nullable = true)\n",
      " |-- ano_mes': string (nullable = true)\n",
      "\n"
     ]
    }
   ],
   "source": [
    "df.printSchema()"
   ]
  },
  {
   "cell_type": "code",
   "execution_count": 6,
   "metadata": {},
   "outputs": [
    {
     "data": {
      "text/plain": [
       "[Row(descricao_despesa'=\"30726034'\"),\n",
       " Row(descricao_despesa'=\"30726034'\"),\n",
       " Row(descricao_despesa'=\"30726034'\"),\n",
       " Row(descricao_despesa'=\"30726034'\"),\n",
       " Row(descricao_despesa'=\"30726034'\"),\n",
       " Row(descricao_despesa'=\"30726034'\"),\n",
       " Row(descricao_despesa'=\"30726034'\"),\n",
       " Row(descricao_despesa'=\"30726034'\"),\n",
       " Row(descricao_despesa'=\"30726034'\"),\n",
       " Row(descricao_despesa'=\"30726034'\"),\n",
       " Row(descricao_despesa'=\"30726034'\"),\n",
       " Row(descricao_despesa'=\"30726034'\"),\n",
       " Row(descricao_despesa'=\"30726034'\"),\n",
       " Row(descricao_despesa'=\"30726034'\"),\n",
       " Row(descricao_despesa'=\"30726034'\"),\n",
       " Row(descricao_despesa'=\"30726034'\"),\n",
       " Row(descricao_despesa'=\"30726034'\"),\n",
       " Row(descricao_despesa'=\"30726034'\"),\n",
       " Row(descricao_despesa'=\"ARTROPLASTIA TOTAL DE JOELHO COM IMPLANTES TRATA'\"),\n",
       " Row(descricao_despesa'=\"Artrotomia - tratamento cirÃºrgico'\"),\n",
       " Row(descricao_despesa'=\"Realinhamentos do aparelho extensor - tratamento cirÃºrgico'\"),\n",
       " Row(descricao_despesa'=\"Artroplastia total de joelho com implantes - tratamento cirÃº'\"),\n",
       " Row(descricao_despesa'=\"Artrotomia - tratamento cirÃºrgico'\"),\n",
       " Row(descricao_despesa'=\"Realinhamentos do aparelho extensor - tratamento cirÃºrgico'\"),\n",
       " Row(descricao_despesa'=\"Artroplastia total de joelho com implantes - tratamento cirÃº'\"),\n",
       " Row(descricao_despesa'=\"30726034'\"),\n",
       " Row(descricao_despesa'=\"30726034'\"),\n",
       " Row(descricao_despesa'=\"30726034'\"),\n",
       " Row(descricao_despesa'=\"30726034'\"),\n",
       " Row(descricao_despesa'=\"30726034'\"),\n",
       " Row(descricao_despesa'=\"30726034'\"),\n",
       " Row(descricao_despesa'=\"30726034'\"),\n",
       " Row(descricao_despesa'=\"30726034'\"),\n",
       " Row(descricao_despesa'=\"30726034'\"),\n",
       " Row(descricao_despesa'=\"30726034'\"),\n",
       " Row(descricao_despesa'=\"30726034'\"),\n",
       " Row(descricao_despesa'=\"30726034'\"),\n",
       " Row(descricao_despesa'=\"30726034'\"),\n",
       " Row(descricao_despesa'=\"30726034'\"),\n",
       " Row(descricao_despesa'=\"30726034'\"),\n",
       " Row(descricao_despesa'=\"30726034'\"),\n",
       " Row(descricao_despesa'=\"30726034'\"),\n",
       " Row(descricao_despesa'=\"FIO CIRURGICO MONONYLON 3.0 1171T'\"),\n",
       " Row(descricao_despesa'=\"ALGODAO HIDROFILO 500 G'\"),\n",
       " Row(descricao_despesa'=\"TIRAS TESTE GLICOSE OPTIUM'\"),\n",
       " Row(descricao_despesa'=\"CATETER FIBRA LASER'\"),\n",
       " Row(descricao_despesa'=\"AGUA DESTILADA 10ML AMP.'\"),\n",
       " Row(descricao_despesa'=\"ALGODAO HIDROFILO 500 G'\"),\n",
       " Row(descricao_despesa'=\"AGULHA RAQUI SPINAL 25 G BD'\"),\n",
       " Row(descricao_despesa'='DEXAMETASONA 4MG/ML FRASCO 2')]"
      ]
     },
     "execution_count": 6,
     "metadata": {},
     "output_type": "execute_result"
    }
   ],
   "source": [
    "df.select(\"descricao_despesa'\").head(50)"
   ]
  },
  {
   "cell_type": "markdown",
   "metadata": {},
   "source": [
    "Broken character example: Realinhamentos do aparelho extensor - tratamento cirÃºrgico'"
   ]
  },
  {
   "cell_type": "code",
   "execution_count": 7,
   "metadata": {
    "collapsed": true
   },
   "outputs": [],
   "source": [
    "def string_encode(string): # function to fix character encoding\n",
    "    return string.encode(\"ISO-8859-1\").decode(\"UTF-8\")"
   ]
  },
  {
   "cell_type": "code",
   "execution_count": 8,
   "metadata": {
    "collapsed": true
   },
   "outputs": [],
   "source": [
    "encode_udf = udf(string_encode, StringType()) \n",
    "df = df.withColumn(\"descricao_despesa'\", encode_udf(\"descricao_despesa'\")) # applying function the the entire column"
   ]
  },
  {
   "cell_type": "code",
   "execution_count": 9,
   "metadata": {},
   "outputs": [
    {
     "data": {
      "text/plain": [
       "[Row(descricao_despesa'=\"30726034'\"),\n",
       " Row(descricao_despesa'=\"30726034'\"),\n",
       " Row(descricao_despesa'=\"30726034'\"),\n",
       " Row(descricao_despesa'=\"30726034'\"),\n",
       " Row(descricao_despesa'=\"30726034'\"),\n",
       " Row(descricao_despesa'=\"30726034'\"),\n",
       " Row(descricao_despesa'=\"30726034'\"),\n",
       " Row(descricao_despesa'=\"30726034'\"),\n",
       " Row(descricao_despesa'=\"30726034'\"),\n",
       " Row(descricao_despesa'=\"30726034'\"),\n",
       " Row(descricao_despesa'=\"30726034'\"),\n",
       " Row(descricao_despesa'=\"30726034'\"),\n",
       " Row(descricao_despesa'=\"30726034'\"),\n",
       " Row(descricao_despesa'=\"30726034'\"),\n",
       " Row(descricao_despesa'=\"30726034'\"),\n",
       " Row(descricao_despesa'=\"30726034'\"),\n",
       " Row(descricao_despesa'=\"30726034'\"),\n",
       " Row(descricao_despesa'=\"30726034'\"),\n",
       " Row(descricao_despesa'=\"ARTROPLASTIA TOTAL DE JOELHO COM IMPLANTES TRATA'\"),\n",
       " Row(descricao_despesa'=\"Artrotomia - tratamento cirúrgico'\"),\n",
       " Row(descricao_despesa'=\"Realinhamentos do aparelho extensor - tratamento cirúrgico'\"),\n",
       " Row(descricao_despesa'=\"Artroplastia total de joelho com implantes - tratamento cirú'\"),\n",
       " Row(descricao_despesa'=\"Artrotomia - tratamento cirúrgico'\"),\n",
       " Row(descricao_despesa'=\"Realinhamentos do aparelho extensor - tratamento cirúrgico'\"),\n",
       " Row(descricao_despesa'=\"Artroplastia total de joelho com implantes - tratamento cirú'\"),\n",
       " Row(descricao_despesa'=\"30726034'\"),\n",
       " Row(descricao_despesa'=\"30726034'\"),\n",
       " Row(descricao_despesa'=\"30726034'\"),\n",
       " Row(descricao_despesa'=\"30726034'\"),\n",
       " Row(descricao_despesa'=\"30726034'\"),\n",
       " Row(descricao_despesa'=\"30726034'\"),\n",
       " Row(descricao_despesa'=\"30726034'\"),\n",
       " Row(descricao_despesa'=\"30726034'\"),\n",
       " Row(descricao_despesa'=\"30726034'\"),\n",
       " Row(descricao_despesa'=\"30726034'\"),\n",
       " Row(descricao_despesa'=\"30726034'\"),\n",
       " Row(descricao_despesa'=\"30726034'\"),\n",
       " Row(descricao_despesa'=\"30726034'\"),\n",
       " Row(descricao_despesa'=\"30726034'\"),\n",
       " Row(descricao_despesa'=\"30726034'\"),\n",
       " Row(descricao_despesa'=\"30726034'\"),\n",
       " Row(descricao_despesa'=\"30726034'\"),\n",
       " Row(descricao_despesa'=\"FIO CIRURGICO MONONYLON 3.0 1171T'\"),\n",
       " Row(descricao_despesa'=\"ALGODAO HIDROFILO 500 G'\"),\n",
       " Row(descricao_despesa'=\"TIRAS TESTE GLICOSE OPTIUM'\"),\n",
       " Row(descricao_despesa'=\"CATETER FIBRA LASER'\"),\n",
       " Row(descricao_despesa'=\"AGUA DESTILADA 10ML AMP.'\"),\n",
       " Row(descricao_despesa'=\"ALGODAO HIDROFILO 500 G'\"),\n",
       " Row(descricao_despesa'=\"AGULHA RAQUI SPINAL 25 G BD'\"),\n",
       " Row(descricao_despesa'='DEXAMETASONA 4MG/ML FRASCO 2')]"
      ]
     },
     "execution_count": 9,
     "metadata": {},
     "output_type": "execute_result"
    }
   ],
   "source": [
    "df.select(\"descricao_despesa'\").head(50)"
   ]
  },
  {
   "cell_type": "markdown",
   "metadata": {},
   "source": [
    "As seen above, \"Realinhamentos do aparelho extensor - tratamento cirúrgico'\" now displays correctly."
   ]
  }
 ],
 "metadata": {
  "anaconda-cloud": {},
  "kernelspec": {
   "display_name": "Python 3",
   "language": "python",
   "name": "python3"
  },
  "language_info": {
   "codemirror_mode": {
    "name": "ipython",
    "version": 3
   },
   "file_extension": ".py",
   "mimetype": "text/x-python",
   "name": "python",
   "nbconvert_exporter": "python",
   "pygments_lexer": "ipython3",
   "version": "3.6.3"
  }
 },
 "nbformat": 4,
 "nbformat_minor": 2
}
