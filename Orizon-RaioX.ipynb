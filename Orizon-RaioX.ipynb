{
 "cells": [
  {
   "cell_type": "markdown",
   "metadata": {},
   "source": [
    "# Orizon: Raio-X"
   ]
  },
  {
   "cell_type": "markdown",
   "metadata": {},
   "source": [
    "Vamos entender como os serviços se relacionam entre si computando a frequencia relativa à cada um deles por ID conta e a frequência de agrupamentos de serviços por ID conta.\n",
    "\n",
    "Será utilizado Regras de Associação e o agrupamento feito pelo algoritmo baseado no Eclat(Equivalent Class Transformation)."
   ]
  },
  {
   "cell_type": "code",
   "execution_count": 1,
   "metadata": {
    "collapsed": true
   },
   "outputs": [],
   "source": [
    "import pandas as pd\n",
    "import numpy as np\n",
    "import pickle\n",
    "from itertools import combinations\n",
    "from IPython.display import display\n",
    "from collections import OrderedDict"
   ]
  },
  {
   "cell_type": "markdown",
   "metadata": {},
   "source": [
    "Lendo os dados para a dataframe:"
   ]
  },
  {
   "cell_type": "code",
   "execution_count": 2,
   "metadata": {},
   "outputs": [
    {
     "name": "stderr",
     "output_type": "stream",
     "text": [
      "/usr/lib/python3.5/site-packages/IPython/core/interactiveshell.py:2683: DtypeWarning: Columns (12,22,25,33,39,43,44) have mixed types. Specify dtype option on import or set low_memory=False.\n",
      "  interactivity=interactivity, compiler=compiler, result=result)\n"
     ]
    }
   ],
   "source": [
    "df = pd.read_csv(\"../full_extracts/data_30735068.csv\", delimiter=\"\\t\", encoding = \"ISO-8859-1\", error_bad_lines=False,warn_bad_lines=False)\n",
    "master = 30735068"
   ]
  },
  {
   "cell_type": "markdown",
   "metadata": {
    "collapsed": true
   },
   "source": [
    "Pré-Processamento do dataset completo e seleção dos dados que iremos utilizar."
   ]
  },
  {
   "cell_type": "code",
   "execution_count": 3,
   "metadata": {
    "collapsed": true
   },
   "outputs": [],
   "source": [
    "df.servico = pd.to_numeric(df.servico,downcast='unsigned',errors='coerce')\n",
    "df.drop_duplicates(inplace=True)\n",
    "df.dropna(subset=['servico'],axis=0,inplace=True)\n",
    "df.servico = pd.to_numeric(df.servico,downcast='unsigned',errors='coerce')\n",
    "df.id_conta = pd.to_numeric(df.id_conta,downcast='unsigned',errors='coerce')\n",
    "df.qtde = pd.to_numeric(df.qtde,downcast='unsigned',errors='coerce')\n",
    "df.valor = pd.to_numeric(df.valor,downcast='float',errors='coerce')\n",
    "df.tipo_item = df.tipo_item.astype('category')\n",
    "df.descricao_despesa = df.descricao_despesa.astype('category')\n",
    "selected_df = pd.concat([df[\"id_conta\"], df[\"servico\"], df[\"descricao_despesa\"], df[\"tipo_item\"],df[\"qtde\"],df[\"valor\"]], axis=1)\n",
    "del df"
   ]
  },
  {
   "cell_type": "code",
   "execution_count": 4,
   "metadata": {},
   "outputs": [
    {
     "data": {
      "text/plain": [
       "id_conta               uint32\n",
       "servico                uint64\n",
       "descricao_despesa    category\n",
       "tipo_item            category\n",
       "qtde                  float64\n",
       "valor                 float32\n",
       "dtype: object"
      ]
     },
     "execution_count": 4,
     "metadata": {},
     "output_type": "execute_result"
    }
   ],
   "source": [
    "selected_df.dtypes"
   ]
  },
  {
   "cell_type": "markdown",
   "metadata": {},
   "source": [
    "Vamos trabalhar apenas com os id_conta atrelados à mais de um serviço:"
   ]
  },
  {
   "cell_type": "code",
   "execution_count": 5,
   "metadata": {},
   "outputs": [],
   "source": [
    "# Number of services per id_conta\n",
    "count = selected_df.groupby(\"id_conta\").servico.count()"
   ]
  },
  {
   "cell_type": "code",
   "execution_count": 6,
   "metadata": {},
   "outputs": [
    {
     "data": {
      "text/plain": [
       "id_conta\n",
       "1133618327     67\n",
       "1133642991     86\n",
       "1133672557      4\n",
       "1133672799      4\n",
       "1133674630     60\n",
       "1133697412     78\n",
       "1133710255     72\n",
       "1133710421     65\n",
       "1133762244     78\n",
       "1133776771    106\n",
       "Name: servico, dtype: int64"
      ]
     },
     "execution_count": 6,
     "metadata": {},
     "output_type": "execute_result"
    }
   ],
   "source": [
    "count.head(10)"
   ]
  },
  {
   "cell_type": "code",
   "execution_count": 7,
   "metadata": {
    "collapsed": true
   },
   "outputs": [],
   "source": [
    "def get_count(acc_id):\n",
    "    ''' Function to return number of services per id_count \n",
    "    Parameters:\n",
    "    -----------\n",
    "    Input:\n",
    "        acc_id(integer): count id\n",
    "    Return:\n",
    "        count(integer): number of services\n",
    "    '''\n",
    "    return count.loc[acc_id]"
   ]
  },
  {
   "cell_type": "code",
   "execution_count": 8,
   "metadata": {},
   "outputs": [
    {
     "name": "stdout",
     "output_type": "stream",
     "text": [
      "CPU times: user 16.2 s, sys: 9.41 ms, total: 16.2 s\n",
      "Wall time: 16.3 s\n"
     ]
    }
   ],
   "source": [
    "%time selected_df[\"count\"] = selected_df[\"id_conta\"].map(get_count)"
   ]
  },
  {
   "cell_type": "code",
   "execution_count": 9,
   "metadata": {
    "collapsed": true
   },
   "outputs": [],
   "source": [
    "# Dropping accounts with less than 1 service\n",
    "selected_df = selected_df[selected_df[\"count\"] > 1].drop(\"count\", axis=1)"
   ]
  },
  {
   "cell_type": "markdown",
   "metadata": {},
   "source": [
    "### Início da implementação do algoritmo Eclat de Regra de Associação:"
   ]
  },
  {
   "cell_type": "code",
   "execution_count": 10,
   "metadata": {
    "collapsed": true
   },
   "outputs": [],
   "source": [
    "def support(service,dataframe):\n",
    "    \"\"\" Function that gets as inputs services and a dataframe, \n",
    "        gets the total number of accounts in it, and gets the accounts \n",
    "        that contain the specific services\n",
    "    Parameters:\n",
    "    -------------------\n",
    "    Inputs:\n",
    "        service (np.array): a array with all the services\n",
    "        dataframe (pd.DataFrame): the DataFrame in which to look for the services\n",
    "    Returns:\n",
    "        The support, which is the total number of accounts containing each one of the services\n",
    "    \"\"\"\n",
    "    acc_ids = dataframe[dataframe[\"servico\"] == service[0]][\"id_conta\"].values\n",
    "    for i in range(1,len(service)):\n",
    "        acc_ids = dataframe[(dataframe[\"servico\"] == service[i]) & (dataframe[\"id_conta\"].isin(acc_ids))][\"id_conta\"].values\n",
    "    return dataframe.loc[dataframe[\"id_conta\"].isin(acc_ids)][\"id_conta\"].unique().shape[0]"
   ]
  },
  {
   "cell_type": "code",
   "execution_count": 11,
   "metadata": {
    "collapsed": true
   },
   "outputs": [],
   "source": [
    "def drop_comb(elements,group):\n",
    "    \"\"\" Function that check if a combination contain all the unwanted elements in a list\n",
    "    Parameters:\n",
    "    -------------------\n",
    "    Inputs:\n",
    "        elements (np.array):a array with the unwanted elements \n",
    "        group (tuple): combination of elements\n",
    "    Returns:\n",
    "        A boolean indicating if the combinations has all the unwanted elements (False) or do not (True)\n",
    "    \"\"\"\n",
    "    return len(list(filter(lambda x: x in elements, group))) != len(elements)"
   ]
  },
  {
   "cell_type": "code",
   "execution_count": 12,
   "metadata": {},
   "outputs": [],
   "source": [
    "def combinations_test(iterable, r,drops):\n",
    "    \"\"\" Function that combines the elements r-wise-way. \n",
    "    It uses some core elements from a built-in lib from python \n",
    "    called (itertools.combinations), and we just added the drops elements\n",
    "    Parameters:\n",
    "    --------------------\n",
    "    Inputs:\n",
    "        iterable (list): elements to combine\n",
    "        r (integer): number of combinations\n",
    "        drops (list): list of unwanted elements in a combination\n",
    "    Returns:\n",
    "        comb (list): combinations of elements r-wise way in a tuple, if not in the drops list\n",
    "    \"\"\"\n",
    "    pool = tuple(iterable)\n",
    "    n = len(pool)\n",
    "    if r > n:\n",
    "        return\n",
    "    indices = list(range(r))\n",
    "    comb = tuple(pool[i] for i in indices)\n",
    "    i=0\n",
    "    for drop in drops:\n",
    "        if drop_comb(drop,comb)==False:\n",
    "            break;\n",
    "        i=i+1\n",
    "        if i==len(drops):\n",
    "            yield comb\n",
    "    while True:\n",
    "        for i in reversed(range(r)):\n",
    "            if indices[i] != i + n - r:\n",
    "                break\n",
    "        else:\n",
    "            return\n",
    "        indices[i] += 1\n",
    "        for j in range(i+1, r):\n",
    "            indices[j] = indices[j-1] + 1\n",
    "        comb = tuple(pool[i] for i in indices)\n",
    "        i=0\n",
    "        for drop in drops:\n",
    "            if drop_comb(drop,comb)==False:\n",
    "                break;\n",
    "            i=i+1\n",
    "            if i==len(drops):\n",
    "                yield comb"
   ]
  },
  {
   "cell_type": "code",
   "execution_count": 13,
   "metadata": {
    "collapsed": true,
    "scrolled": true
   },
   "outputs": [],
   "source": [
    "def eclat(servicos,dataframe,r=1,ids_drop=[],min_sup=10):\n",
    "    ''' Function that combines services in a r-wise-way, calculates its support and return if higher than min_sup.\n",
    "        Parameters:\n",
    "        -----------\n",
    "        Inputs:\n",
    "            servicos (list): list of services to combine\n",
    "            r (int): number of combinations\n",
    "            ids_drop (list): list of combinations of services not wanted together\n",
    "            min_sup (integer): mininum of support\n",
    "        Return:\n",
    "            ids (array): array of tuples of elements combinations\n",
    "            serv_list (array): support of the ids combinations\n",
    "            new_ids_drop (array): array of new combinatios of services unwanted\n",
    "    '''\n",
    "    serv_list=[]\n",
    "    ids = []\n",
    "    new_ids_drop = []\n",
    "    # first case, calculating all the services supports and returning if higher than min_sup\n",
    "    if(r==1):\n",
    "        for service in servicos:\n",
    "            supp = support([service],dataframe)\n",
    "            if(supp>min_sup):\n",
    "                serv_list.append(supp)\n",
    "                ids.append(service)\n",
    "        return ids,serv_list,ids_drop\n",
    "    # others cases, combinating the services not contaning in the drops list and returning if higher than min_sup\n",
    "    else:\n",
    "        if len(ids_drop)>0:\n",
    "            ids_2 = list(combinations_test(servicos,r,ids_drop))\n",
    "        else:\n",
    "            ids_2 = list(combinations(servicos,r))\n",
    "            \n",
    "        for service in ids_2:\n",
    "            supp = support(service,dataframe)\n",
    "            if(supp>min_sup):\n",
    "                serv_list.append(supp)\n",
    "                ids.append(service)\n",
    "            else:\n",
    "                new_ids_drop.append(service)\n",
    "        return ids,serv_list,new_ids_drop\n",
    "    "
   ]
  },
  {
   "cell_type": "code",
   "execution_count": 14,
   "metadata": {
    "collapsed": true
   },
   "outputs": [],
   "source": [
    "def eclat_iter(servicos,dataframe,min_sup):\n",
    "    ''' Function that calls the eclat function for all r combinations and puts all the returns together.\n",
    "        Parameters:\n",
    "        -----------\n",
    "        Inputs:\n",
    "            servicos (list): list of all services to use eclat\n",
    "            dataframe (pandas.DataFrame): dataframe containing the services and accounts\n",
    "            min_sup (integer): mininum support\n",
    "        Return:\n",
    "            final_id (array): array of all elements and combinations used in the association\n",
    "            final_serv (array): array of all the supports of final_id.    \n",
    "    '''\n",
    "    # calling eclat for the first case (all services and no combinations)\n",
    "    ids, serv_list, ids_drop = eclat(servicos,dataframe,min_sup=min_sup)\n",
    "    \n",
    "    # iteration logic for the others cases\n",
    "    i=2\n",
    "    final_id = ids\n",
    "    final_serv = serv_list\n",
    "    new_serv = [1,1]\n",
    "    while True:\n",
    "        # breaking the loop in case the last eclat return only one or zero combinations\n",
    "        if(len(new_serv)<2):\n",
    "            break\n",
    "       # doing each iteration and putting together in the final_id and final_serv\n",
    "        else:\n",
    "            new_ids, new_serv, ids_drop = eclat(servicos=ids,dataframe=dataframe,ids_drop=ids_drop,r=i,min_sup=min_sup)\n",
    "            final_id = final_id + new_ids\n",
    "            final_serv = final_serv + new_serv\n",
    "            i = i + 1\n",
    "            ids = []\n",
    "            # logic to break the tuple of combinations into singles services to use in the new iteration\n",
    "            for x in new_ids:\n",
    "                for y in x:\n",
    "                    if y not in ids:\n",
    "                        ids.append(y)\n",
    "    return final_id,final_serv\n",
    "\n",
    "\n",
    "    "
   ]
  },
  {
   "cell_type": "markdown",
   "metadata": {},
   "source": [
    "Retornando o número de contas equivalentes a 10% do total de contas, para utilizar como mínimo suporte"
   ]
  },
  {
   "cell_type": "code",
   "execution_count": 15,
   "metadata": {},
   "outputs": [
    {
     "data": {
      "text/plain": [
       "1297"
      ]
     },
     "execution_count": 15,
     "metadata": {},
     "output_type": "execute_result"
    }
   ],
   "source": [
    "min_sup = int(0.1*support([master],selected_df))\n",
    "min_sup"
   ]
  },
  {
   "cell_type": "markdown",
   "metadata": {},
   "source": [
    "### Eclat por grupo de itens:"
   ]
  },
  {
   "cell_type": "markdown",
   "metadata": {},
   "source": [
    "Divindo o dataframe por grupo de itens:"
   ]
  },
  {
   "cell_type": "code",
   "execution_count": 16,
   "metadata": {
    "collapsed": true
   },
   "outputs": [],
   "source": [
    "group_items = list(selected_df.groupby('tipo_item'))"
   ]
  },
  {
   "cell_type": "markdown",
   "metadata": {},
   "source": [
    "Realizando o eclat para cada grupo de itens e imprimindo o ultimo agrupamento e suporte para se ter uma noção do resultado."
   ]
  },
  {
   "cell_type": "code",
   "execution_count": 17,
   "metadata": {},
   "outputs": [
    {
     "name": "stdout",
     "output_type": "stream",
     "text": [
      "DIARIAS\n",
      "CPU times: user 475 ms, sys: 1.06 ms, total: 476 ms\n",
      "Wall time: 481 ms\n",
      "Sem agrupamento\n",
      "GASES MEDICINAIS\n",
      "CPU times: user 642 ms, sys: 46 µs, total: 642 ms\n",
      "Wall time: 645 ms\n",
      "Sem agrupamento\n",
      "MATERIAIS\n",
      "CPU times: user 40.8 s, sys: 370 ms, total: 41.2 s\n",
      "Wall time: 42 s\n",
      "70705348\n",
      "14.998073217726397\n",
      "MEDICAMENTOS\n",
      "CPU times: user 11.6 s, sys: 61 ms, total: 11.6 s\n",
      "Wall time: 11.8 s\n",
      "(90008332, 90003551, 90196031)\n",
      "11.421965317919074\n",
      "OPME\n",
      "CPU times: user 6.21 s, sys: 933 µs, total: 6.21 s\n",
      "Wall time: 6.25 s\n",
      "Sem agrupamento\n",
      "PROCEDIMENTO\n",
      "CPU times: user 1.88 s, sys: 9.23 ms, total: 1.89 s\n",
      "Wall time: 1.92 s\n",
      "(30735068, 30735033, 30735092, 30735084)\n",
      "10.504816955684008\n",
      "TAXAS DIVERSAS\n",
      "CPU times: user 4.83 s, sys: 26.4 ms, total: 4.85 s\n",
      "Wall time: 4.93 s\n",
      "60024151\n",
      "11.552986512524084\n"
     ]
    }
   ],
   "source": [
    "group_ids = list(np.zeros([len(group_items),1]))\n",
    "group_basket = list(np.zeros([len(group_items),1]))\n",
    "for i in range(len(group_items)):\n",
    "    print(group_items[i][0])\n",
    "    %time group_ids[i],group_basket[i] = eclat_iter(group_items[i][1].servico.unique(),group_items[i][1],min_sup)\n",
    "    if len(group_ids[i])==0:\n",
    "        print('Sem agrupamento')\n",
    "    else:\n",
    "        print(group_ids[i][len(group_ids[i])-1])\n",
    "        print(group_basket[i][len(group_ids[i])-1]*(100/support([master],selected_df)))"
   ]
  },
  {
   "cell_type": "markdown",
   "metadata": {},
   "source": [
    "Criando um dataframe baskets contendo os agrupamentos de serviços finais por grupo de itens e seus devidos suportes."
   ]
  },
  {
   "cell_type": "code",
   "execution_count": 18,
   "metadata": {
    "collapsed": true
   },
   "outputs": [],
   "source": [
    "baskets = []\n",
    "for i in range(len(group_items)):\n",
    "    group_basket[i] = list(map(lambda x: x *(100/support([master],selected_df)), group_basket[i]))\n",
    "    basket_dict = OrderedDict([(\"Grupos Servicos\", group_ids[i]),(\"Suporte\", group_basket[i])])\n",
    "    basket_df = pd.DataFrame(basket_dict)\n",
    "    baskets.append(basket_df)"
   ]
  },
  {
   "cell_type": "markdown",
   "metadata": {},
   "source": [
    "Criando um dataframe groups contendo os detalhes de cada serviço que aparece no Market Basket por grupo de item."
   ]
  },
  {
   "cell_type": "code",
   "execution_count": 19,
   "metadata": {},
   "outputs": [],
   "source": [
    "groups = []\n",
    "for i in range(len(group_items)):\n",
    "    servicos = [ids for ids in group_ids[i] if type(ids) is not tuple]\n",
    "    mean_vals = [np.array(group_items[i][1].loc[group_items[i][1]['servico'] == service].groupby('id_conta').valor.mean()).mean() for service in servicos]\n",
    "    std_vals = [np.array(group_items[i][1].loc[group_items[i][1]['servico'] == service].groupby('id_conta').valor.mean()).std() for service in servicos]\n",
    "    mean_qtt = [np.array(group_items[i][1].loc[group_items[i][1]['servico'] == service].groupby('id_conta').qtde.mean()).mean() for service in servicos]\n",
    "    std_qtt = [np.array(group_items[i][1].loc[group_items[i][1]['servico'] == service].groupby('id_conta').qtde.mean()).std() for service in servicos]\n",
    "    item_types = [group_items[i][0] for service in servicos]\n",
    "    descriptions = [selected_df[selected_df[\"servico\"] == service][\"descricao_despesa\"].values[10] for service in servicos]\n",
    "    support_vals = [(support([service],group_items[i][1])*100/support([master],selected_df)) for service in servicos]\n",
    "    group_dict = OrderedDict([(\"Servico\", servicos), (\"Descricao\",descriptions), (\"Tipo de Item\",item_types), (\"Quantidade média\", mean_qtt), \n",
    "             (\"Desvio Qtd\", std_qtt), (\"Valor médio\", mean_vals), (\"Desvio Valor\", std_vals), (\"Suporte\",support_vals)])\n",
    "    group_df = pd.DataFrame(group_dict)\n",
    "    groups.append(group_df)"
   ]
  },
  {
   "cell_type": "markdown",
   "metadata": {},
   "source": [
    "Salvando resultado em um pickle."
   ]
  },
  {
   "cell_type": "code",
   "execution_count": 20,
   "metadata": {},
   "outputs": [],
   "source": [
    "name = str(master)+'_items.pickle'\n",
    "output = open(name, 'wb')\n",
    "pickle.dump(([group_items[i][0] for i in range(len(group_items))],baskets,groups), output)\n",
    "output.close()"
   ]
  },
  {
   "cell_type": "markdown",
   "metadata": {},
   "source": [
    "Exemplo basket para os tipos de item sendo PROCEDIMENTOS:"
   ]
  },
  {
   "cell_type": "code",
   "execution_count": 21,
   "metadata": {},
   "outputs": [
    {
     "data": {
      "text/html": [
       "<div>\n",
       "<style scoped>\n",
       "    .dataframe tbody tr th:only-of-type {\n",
       "        vertical-align: middle;\n",
       "    }\n",
       "\n",
       "    .dataframe tbody tr th {\n",
       "        vertical-align: top;\n",
       "    }\n",
       "\n",
       "    .dataframe thead th {\n",
       "        text-align: right;\n",
       "    }\n",
       "</style>\n",
       "<table border=\"1\" class=\"dataframe\">\n",
       "  <thead>\n",
       "    <tr style=\"text-align: right;\">\n",
       "      <th></th>\n",
       "      <th>Grupos Servicos</th>\n",
       "      <th>Suporte</th>\n",
       "    </tr>\n",
       "  </thead>\n",
       "  <tbody>\n",
       "    <tr>\n",
       "      <th>0</th>\n",
       "      <td>30735017</td>\n",
       "      <td>14.851638</td>\n",
       "    </tr>\n",
       "    <tr>\n",
       "      <th>1</th>\n",
       "      <td>30735068</td>\n",
       "      <td>99.992293</td>\n",
       "    </tr>\n",
       "    <tr>\n",
       "      <th>2</th>\n",
       "      <td>30735092</td>\n",
       "      <td>29.071291</td>\n",
       "    </tr>\n",
       "    <tr>\n",
       "      <th>3</th>\n",
       "      <td>30717140</td>\n",
       "      <td>11.830443</td>\n",
       "    </tr>\n",
       "    <tr>\n",
       "      <th>4</th>\n",
       "      <td>30735033</td>\n",
       "      <td>70.011561</td>\n",
       "    </tr>\n",
       "    <tr>\n",
       "      <th>5</th>\n",
       "      <td>30735084</td>\n",
       "      <td>46.188825</td>\n",
       "    </tr>\n",
       "    <tr>\n",
       "      <th>6</th>\n",
       "      <td>30735041</td>\n",
       "      <td>10.489403</td>\n",
       "    </tr>\n",
       "    <tr>\n",
       "      <th>7</th>\n",
       "      <td>(30735017, 30735068)</td>\n",
       "      <td>14.843931</td>\n",
       "    </tr>\n",
       "    <tr>\n",
       "      <th>8</th>\n",
       "      <td>(30735017, 30735033)</td>\n",
       "      <td>11.229287</td>\n",
       "    </tr>\n",
       "    <tr>\n",
       "      <th>9</th>\n",
       "      <td>(30735068, 30735092)</td>\n",
       "      <td>29.071291</td>\n",
       "    </tr>\n",
       "    <tr>\n",
       "      <th>10</th>\n",
       "      <td>(30735068, 30717140)</td>\n",
       "      <td>11.830443</td>\n",
       "    </tr>\n",
       "    <tr>\n",
       "      <th>11</th>\n",
       "      <td>(30735068, 30735033)</td>\n",
       "      <td>70.011561</td>\n",
       "    </tr>\n",
       "    <tr>\n",
       "      <th>12</th>\n",
       "      <td>(30735068, 30735084)</td>\n",
       "      <td>46.181118</td>\n",
       "    </tr>\n",
       "    <tr>\n",
       "      <th>13</th>\n",
       "      <td>(30735068, 30735041)</td>\n",
       "      <td>10.489403</td>\n",
       "    </tr>\n",
       "    <tr>\n",
       "      <th>14</th>\n",
       "      <td>(30735092, 30735033)</td>\n",
       "      <td>20.963391</td>\n",
       "    </tr>\n",
       "    <tr>\n",
       "      <th>15</th>\n",
       "      <td>(30735092, 30735084)</td>\n",
       "      <td>15.915222</td>\n",
       "    </tr>\n",
       "    <tr>\n",
       "      <th>16</th>\n",
       "      <td>(30735033, 30735084)</td>\n",
       "      <td>33.125241</td>\n",
       "    </tr>\n",
       "    <tr>\n",
       "      <th>17</th>\n",
       "      <td>(30735017, 30735068, 30735033)</td>\n",
       "      <td>11.229287</td>\n",
       "    </tr>\n",
       "    <tr>\n",
       "      <th>18</th>\n",
       "      <td>(30735068, 30735033, 30735092)</td>\n",
       "      <td>20.963391</td>\n",
       "    </tr>\n",
       "    <tr>\n",
       "      <th>19</th>\n",
       "      <td>(30735068, 30735033, 30735084)</td>\n",
       "      <td>33.125241</td>\n",
       "    </tr>\n",
       "    <tr>\n",
       "      <th>20</th>\n",
       "      <td>(30735068, 30735092, 30735084)</td>\n",
       "      <td>15.915222</td>\n",
       "    </tr>\n",
       "    <tr>\n",
       "      <th>21</th>\n",
       "      <td>(30735033, 30735092, 30735084)</td>\n",
       "      <td>10.504817</td>\n",
       "    </tr>\n",
       "    <tr>\n",
       "      <th>22</th>\n",
       "      <td>(30735068, 30735033, 30735092, 30735084)</td>\n",
       "      <td>10.504817</td>\n",
       "    </tr>\n",
       "  </tbody>\n",
       "</table>\n",
       "</div>"
      ],
      "text/plain": [
       "                             Grupos Servicos    Suporte\n",
       "0                                   30735017  14.851638\n",
       "1                                   30735068  99.992293\n",
       "2                                   30735092  29.071291\n",
       "3                                   30717140  11.830443\n",
       "4                                   30735033  70.011561\n",
       "5                                   30735084  46.188825\n",
       "6                                   30735041  10.489403\n",
       "7                       (30735017, 30735068)  14.843931\n",
       "8                       (30735017, 30735033)  11.229287\n",
       "9                       (30735068, 30735092)  29.071291\n",
       "10                      (30735068, 30717140)  11.830443\n",
       "11                      (30735068, 30735033)  70.011561\n",
       "12                      (30735068, 30735084)  46.181118\n",
       "13                      (30735068, 30735041)  10.489403\n",
       "14                      (30735092, 30735033)  20.963391\n",
       "15                      (30735092, 30735084)  15.915222\n",
       "16                      (30735033, 30735084)  33.125241\n",
       "17            (30735017, 30735068, 30735033)  11.229287\n",
       "18            (30735068, 30735033, 30735092)  20.963391\n",
       "19            (30735068, 30735033, 30735084)  33.125241\n",
       "20            (30735068, 30735092, 30735084)  15.915222\n",
       "21            (30735033, 30735092, 30735084)  10.504817\n",
       "22  (30735068, 30735033, 30735092, 30735084)  10.504817"
      ]
     },
     "execution_count": 21,
     "metadata": {},
     "output_type": "execute_result"
    }
   ],
   "source": [
    "baskets[5]"
   ]
  },
  {
   "cell_type": "markdown",
   "metadata": {},
   "source": [
    "Exemplo groups para os tipos de item sendo PROCEDIMENTOS:"
   ]
  },
  {
   "cell_type": "code",
   "execution_count": 22,
   "metadata": {},
   "outputs": [
    {
     "data": {
      "text/html": [
       "<div>\n",
       "<style scoped>\n",
       "    .dataframe tbody tr th:only-of-type {\n",
       "        vertical-align: middle;\n",
       "    }\n",
       "\n",
       "    .dataframe tbody tr th {\n",
       "        vertical-align: top;\n",
       "    }\n",
       "\n",
       "    .dataframe thead th {\n",
       "        text-align: right;\n",
       "    }\n",
       "</style>\n",
       "<table border=\"1\" class=\"dataframe\">\n",
       "  <thead>\n",
       "    <tr style=\"text-align: right;\">\n",
       "      <th></th>\n",
       "      <th>Servico</th>\n",
       "      <th>Descricao</th>\n",
       "      <th>Tipo de Item</th>\n",
       "      <th>Quantidade média</th>\n",
       "      <th>Desvio Qtd</th>\n",
       "      <th>Valor médio</th>\n",
       "      <th>Desvio Valor</th>\n",
       "      <th>Suporte</th>\n",
       "    </tr>\n",
       "  </thead>\n",
       "  <tbody>\n",
       "    <tr>\n",
       "      <th>1</th>\n",
       "      <td>30735068</td>\n",
       "      <td>RUPTURA DO MANGUITO ROTADOR</td>\n",
       "      <td>PROCEDIMENTO</td>\n",
       "      <td>1.003719</td>\n",
       "      <td>0.078468</td>\n",
       "      <td>598.377991</td>\n",
       "      <td>678.407471</td>\n",
       "      <td>99.992293</td>\n",
       "    </tr>\n",
       "    <tr>\n",
       "      <th>4</th>\n",
       "      <td>30735033</td>\n",
       "      <td>OMBRO (VIDEO) - ACROMIOPLASTIA</td>\n",
       "      <td>PROCEDIMENTO</td>\n",
       "      <td>1.003266</td>\n",
       "      <td>0.082030</td>\n",
       "      <td>383.398407</td>\n",
       "      <td>337.677246</td>\n",
       "      <td>70.011561</td>\n",
       "    </tr>\n",
       "    <tr>\n",
       "      <th>5</th>\n",
       "      <td>30735084</td>\n",
       "      <td>RESSECCAO LATERAL DA CLAVICULA - PROCEDIMENTO ...</td>\n",
       "      <td>PROCEDIMENTO</td>\n",
       "      <td>1.003170</td>\n",
       "      <td>0.073573</td>\n",
       "      <td>456.098816</td>\n",
       "      <td>375.615631</td>\n",
       "      <td>46.188825</td>\n",
       "    </tr>\n",
       "    <tr>\n",
       "      <th>2</th>\n",
       "      <td>30735092</td>\n",
       "      <td>TENOTOMIA PORCAO BICEPES</td>\n",
       "      <td>PROCEDIMENTO</td>\n",
       "      <td>1.003181</td>\n",
       "      <td>0.060839</td>\n",
       "      <td>437.606598</td>\n",
       "      <td>348.944977</td>\n",
       "      <td>29.071291</td>\n",
       "    </tr>\n",
       "    <tr>\n",
       "      <th>0</th>\n",
       "      <td>30735017</td>\n",
       "      <td>HONORARIO INSTRUMENTADORA</td>\n",
       "      <td>PROCEDIMENTO</td>\n",
       "      <td>1.008044</td>\n",
       "      <td>0.118644</td>\n",
       "      <td>442.198120</td>\n",
       "      <td>364.971497</td>\n",
       "      <td>14.851638</td>\n",
       "    </tr>\n",
       "    <tr>\n",
       "      <th>3</th>\n",
       "      <td>30717140</td>\n",
       "      <td>OMBRO - RESSECCAO PARCIAL OU TOTAL DE CLAVICULA</td>\n",
       "      <td>PROCEDIMENTO</td>\n",
       "      <td>1.001954</td>\n",
       "      <td>0.044165</td>\n",
       "      <td>151.113678</td>\n",
       "      <td>120.551918</td>\n",
       "      <td>11.830443</td>\n",
       "    </tr>\n",
       "    <tr>\n",
       "      <th>6</th>\n",
       "      <td>30735041</td>\n",
       "      <td>LESAO LABRAL</td>\n",
       "      <td>PROCEDIMENTO</td>\n",
       "      <td>1.002204</td>\n",
       "      <td>0.046898</td>\n",
       "      <td>714.197937</td>\n",
       "      <td>581.235779</td>\n",
       "      <td>10.489403</td>\n",
       "    </tr>\n",
       "  </tbody>\n",
       "</table>\n",
       "</div>"
      ],
      "text/plain": [
       "    Servico                                          Descricao  Tipo de Item  \\\n",
       "1  30735068                        RUPTURA DO MANGUITO ROTADOR  PROCEDIMENTO   \n",
       "4  30735033                     OMBRO (VIDEO) - ACROMIOPLASTIA  PROCEDIMENTO   \n",
       "5  30735084  RESSECCAO LATERAL DA CLAVICULA - PROCEDIMENTO ...  PROCEDIMENTO   \n",
       "2  30735092                           TENOTOMIA PORCAO BICEPES  PROCEDIMENTO   \n",
       "0  30735017                          HONORARIO INSTRUMENTADORA  PROCEDIMENTO   \n",
       "3  30717140    OMBRO - RESSECCAO PARCIAL OU TOTAL DE CLAVICULA  PROCEDIMENTO   \n",
       "6  30735041                                       LESAO LABRAL  PROCEDIMENTO   \n",
       "\n",
       "   Quantidade média  Desvio Qtd  Valor médio  Desvio Valor    Suporte  \n",
       "1          1.003719    0.078468   598.377991    678.407471  99.992293  \n",
       "4          1.003266    0.082030   383.398407    337.677246  70.011561  \n",
       "5          1.003170    0.073573   456.098816    375.615631  46.188825  \n",
       "2          1.003181    0.060839   437.606598    348.944977  29.071291  \n",
       "0          1.008044    0.118644   442.198120    364.971497  14.851638  \n",
       "3          1.001954    0.044165   151.113678    120.551918  11.830443  \n",
       "6          1.002204    0.046898   714.197937    581.235779  10.489403  "
      ]
     },
     "execution_count": 22,
     "metadata": {},
     "output_type": "execute_result"
    }
   ],
   "source": [
    "groups[5].sort_values('Suporte', ascending=False)"
   ]
  },
  {
   "cell_type": "markdown",
   "metadata": {},
   "source": [
    "### Raio-X final geral:"
   ]
  },
  {
   "cell_type": "markdown",
   "metadata": {},
   "source": [
    "Passando o resultado para um DataFrame e na ordem do maior para o menor:"
   ]
  },
  {
   "cell_type": "code",
   "execution_count": 23,
   "metadata": {},
   "outputs": [
    {
     "name": "stdout",
     "output_type": "stream",
     "text": [
      "CPU times: user 2min 50s, sys: 318 ms, total: 2min 51s\n",
      "Wall time: 2min 53s\n"
     ]
    },
    {
     "data": {
      "text/html": [
       "<div>\n",
       "<style scoped>\n",
       "    .dataframe tbody tr th:only-of-type {\n",
       "        vertical-align: middle;\n",
       "    }\n",
       "\n",
       "    .dataframe tbody tr th {\n",
       "        vertical-align: top;\n",
       "    }\n",
       "\n",
       "    .dataframe thead th {\n",
       "        text-align: right;\n",
       "    }\n",
       "</style>\n",
       "<table border=\"1\" class=\"dataframe\">\n",
       "  <thead>\n",
       "    <tr style=\"text-align: right;\">\n",
       "      <th></th>\n",
       "      <th>Suporte</th>\n",
       "    </tr>\n",
       "  </thead>\n",
       "  <tbody>\n",
       "    <tr>\n",
       "      <th>30735068</th>\n",
       "      <td>100.000000</td>\n",
       "    </tr>\n",
       "    <tr>\n",
       "      <th>(30735068, 30735033)</th>\n",
       "      <td>70.019268</td>\n",
       "    </tr>\n",
       "    <tr>\n",
       "      <th>30735033</th>\n",
       "      <td>70.019268</td>\n",
       "    </tr>\n",
       "    <tr>\n",
       "      <th>30735084</th>\n",
       "      <td>46.196532</td>\n",
       "    </tr>\n",
       "    <tr>\n",
       "      <th>(30735068, 30735084)</th>\n",
       "      <td>46.188825</td>\n",
       "    </tr>\n",
       "    <tr>\n",
       "      <th>(30735033, 30735084)</th>\n",
       "      <td>33.132948</td>\n",
       "    </tr>\n",
       "    <tr>\n",
       "      <th>(30735068, 30735033, 30735084)</th>\n",
       "      <td>33.132948</td>\n",
       "    </tr>\n",
       "    <tr>\n",
       "      <th>30735092</th>\n",
       "      <td>29.071291</td>\n",
       "    </tr>\n",
       "    <tr>\n",
       "      <th>(30735068, 30735092)</th>\n",
       "      <td>29.071291</td>\n",
       "    </tr>\n",
       "    <tr>\n",
       "      <th>(30735068, 30735033, 30735092)</th>\n",
       "      <td>20.963391</td>\n",
       "    </tr>\n",
       "    <tr>\n",
       "      <th>(30735092, 30735033)</th>\n",
       "      <td>20.963391</td>\n",
       "    </tr>\n",
       "    <tr>\n",
       "      <th>90008332</th>\n",
       "      <td>20.947977</td>\n",
       "    </tr>\n",
       "    <tr>\n",
       "      <th>(30735068, 90008332)</th>\n",
       "      <td>20.940270</td>\n",
       "    </tr>\n",
       "    <tr>\n",
       "      <th>90196031</th>\n",
       "      <td>20.369942</td>\n",
       "    </tr>\n",
       "    <tr>\n",
       "      <th>(30735068, 90196031)</th>\n",
       "      <td>20.354528</td>\n",
       "    </tr>\n",
       "    <tr>\n",
       "      <th>60023180</th>\n",
       "      <td>18.389210</td>\n",
       "    </tr>\n",
       "    <tr>\n",
       "      <th>(30735068, 60023180)</th>\n",
       "      <td>18.381503</td>\n",
       "    </tr>\n",
       "    <tr>\n",
       "      <th>(30735068, 90003551)</th>\n",
       "      <td>17.063584</td>\n",
       "    </tr>\n",
       "    <tr>\n",
       "      <th>90003551</th>\n",
       "      <td>17.063584</td>\n",
       "    </tr>\n",
       "    <tr>\n",
       "      <th>(90008332, 90196031)</th>\n",
       "      <td>16.385356</td>\n",
       "    </tr>\n",
       "    <tr>\n",
       "      <th>(30735068, 90008332, 90196031)</th>\n",
       "      <td>16.377649</td>\n",
       "    </tr>\n",
       "    <tr>\n",
       "      <th>(30735092, 30735084)</th>\n",
       "      <td>15.915222</td>\n",
       "    </tr>\n",
       "    <tr>\n",
       "      <th>(30735068, 30735092, 30735084)</th>\n",
       "      <td>15.915222</td>\n",
       "    </tr>\n",
       "    <tr>\n",
       "      <th>70705348</th>\n",
       "      <td>15.005780</td>\n",
       "    </tr>\n",
       "    <tr>\n",
       "      <th>(30735068, 70705348)</th>\n",
       "      <td>14.990366</td>\n",
       "    </tr>\n",
       "    <tr>\n",
       "      <th>30735017</th>\n",
       "      <td>14.851638</td>\n",
       "    </tr>\n",
       "    <tr>\n",
       "      <th>(30735017, 30735068)</th>\n",
       "      <td>14.843931</td>\n",
       "    </tr>\n",
       "    <tr>\n",
       "      <th>(30735068, 70705330)</th>\n",
       "      <td>14.473988</td>\n",
       "    </tr>\n",
       "    <tr>\n",
       "      <th>70705330</th>\n",
       "      <td>14.473988</td>\n",
       "    </tr>\n",
       "    <tr>\n",
       "      <th>(90008332, 90003551)</th>\n",
       "      <td>13.872832</td>\n",
       "    </tr>\n",
       "    <tr>\n",
       "      <th>...</th>\n",
       "      <td>...</td>\n",
       "    </tr>\n",
       "    <tr>\n",
       "      <th>90130782</th>\n",
       "      <td>10.936416</td>\n",
       "    </tr>\n",
       "    <tr>\n",
       "      <th>(30735068, 90130782)</th>\n",
       "      <td>10.936416</td>\n",
       "    </tr>\n",
       "    <tr>\n",
       "      <th>(30735068, 70360758)</th>\n",
       "      <td>10.743738</td>\n",
       "    </tr>\n",
       "    <tr>\n",
       "      <th>70360758</th>\n",
       "      <td>10.743738</td>\n",
       "    </tr>\n",
       "    <tr>\n",
       "      <th>(90008332, 90196031, 60023180)</th>\n",
       "      <td>10.728324</td>\n",
       "    </tr>\n",
       "    <tr>\n",
       "      <th>(30735068, 90008332, 90196031, 60023180)</th>\n",
       "      <td>10.720617</td>\n",
       "    </tr>\n",
       "    <tr>\n",
       "      <th>(90008332, 70015341)</th>\n",
       "      <td>10.705202</td>\n",
       "    </tr>\n",
       "    <tr>\n",
       "      <th>(30735068, 90008332, 70015341)</th>\n",
       "      <td>10.705202</td>\n",
       "    </tr>\n",
       "    <tr>\n",
       "      <th>(30735033, 90008332, 90196031)</th>\n",
       "      <td>10.635838</td>\n",
       "    </tr>\n",
       "    <tr>\n",
       "      <th>(30735068, 30735033, 90008332, 90196031)</th>\n",
       "      <td>10.635838</td>\n",
       "    </tr>\n",
       "    <tr>\n",
       "      <th>(90196031, 70015341)</th>\n",
       "      <td>10.628131</td>\n",
       "    </tr>\n",
       "    <tr>\n",
       "      <th>(30735068, 90196031, 70015341)</th>\n",
       "      <td>10.628131</td>\n",
       "    </tr>\n",
       "    <tr>\n",
       "      <th>90090225</th>\n",
       "      <td>10.620424</td>\n",
       "    </tr>\n",
       "    <tr>\n",
       "      <th>(30735068, 90090225)</th>\n",
       "      <td>10.612717</td>\n",
       "    </tr>\n",
       "    <tr>\n",
       "      <th>(90008332, 30735084)</th>\n",
       "      <td>10.551060</td>\n",
       "    </tr>\n",
       "    <tr>\n",
       "      <th>(30735068, 90008332, 30735084)</th>\n",
       "      <td>10.543353</td>\n",
       "    </tr>\n",
       "    <tr>\n",
       "      <th>(30735068, 90008332, 70705330)</th>\n",
       "      <td>10.520231</td>\n",
       "    </tr>\n",
       "    <tr>\n",
       "      <th>(90008332, 70705330)</th>\n",
       "      <td>10.520231</td>\n",
       "    </tr>\n",
       "    <tr>\n",
       "      <th>(30735068, 30735033, 30735092, 30735084)</th>\n",
       "      <td>10.504817</td>\n",
       "    </tr>\n",
       "    <tr>\n",
       "      <th>(30735033, 30735092, 30735084)</th>\n",
       "      <td>10.504817</td>\n",
       "    </tr>\n",
       "    <tr>\n",
       "      <th>30735041</th>\n",
       "      <td>10.489403</td>\n",
       "    </tr>\n",
       "    <tr>\n",
       "      <th>(30735068, 30735041)</th>\n",
       "      <td>10.489403</td>\n",
       "    </tr>\n",
       "    <tr>\n",
       "      <th>(30735068, 90196031, 70705330)</th>\n",
       "      <td>10.466281</td>\n",
       "    </tr>\n",
       "    <tr>\n",
       "      <th>(90196031, 70705330)</th>\n",
       "      <td>10.466281</td>\n",
       "    </tr>\n",
       "    <tr>\n",
       "      <th>(90008332, 70014370)</th>\n",
       "      <td>10.327553</td>\n",
       "    </tr>\n",
       "    <tr>\n",
       "      <th>(30735068, 90008332, 70014370)</th>\n",
       "      <td>10.327553</td>\n",
       "    </tr>\n",
       "    <tr>\n",
       "      <th>(30735068, 90003551, 60023180)</th>\n",
       "      <td>10.181118</td>\n",
       "    </tr>\n",
       "    <tr>\n",
       "      <th>(90003551, 60023180)</th>\n",
       "      <td>10.181118</td>\n",
       "    </tr>\n",
       "    <tr>\n",
       "      <th>(30735068, 60000805)</th>\n",
       "      <td>10.003854</td>\n",
       "    </tr>\n",
       "    <tr>\n",
       "      <th>60000805</th>\n",
       "      <td>10.003854</td>\n",
       "    </tr>\n",
       "  </tbody>\n",
       "</table>\n",
       "<p>99 rows × 1 columns</p>\n",
       "</div>"
      ],
      "text/plain": [
       "                                             Suporte\n",
       "30735068                                  100.000000\n",
       "(30735068, 30735033)                       70.019268\n",
       "30735033                                   70.019268\n",
       "30735084                                   46.196532\n",
       "(30735068, 30735084)                       46.188825\n",
       "(30735033, 30735084)                       33.132948\n",
       "(30735068, 30735033, 30735084)             33.132948\n",
       "30735092                                   29.071291\n",
       "(30735068, 30735092)                       29.071291\n",
       "(30735068, 30735033, 30735092)             20.963391\n",
       "(30735092, 30735033)                       20.963391\n",
       "90008332                                   20.947977\n",
       "(30735068, 90008332)                       20.940270\n",
       "90196031                                   20.369942\n",
       "(30735068, 90196031)                       20.354528\n",
       "60023180                                   18.389210\n",
       "(30735068, 60023180)                       18.381503\n",
       "(30735068, 90003551)                       17.063584\n",
       "90003551                                   17.063584\n",
       "(90008332, 90196031)                       16.385356\n",
       "(30735068, 90008332, 90196031)             16.377649\n",
       "(30735092, 30735084)                       15.915222\n",
       "(30735068, 30735092, 30735084)             15.915222\n",
       "70705348                                   15.005780\n",
       "(30735068, 70705348)                       14.990366\n",
       "30735017                                   14.851638\n",
       "(30735017, 30735068)                       14.843931\n",
       "(30735068, 70705330)                       14.473988\n",
       "70705330                                   14.473988\n",
       "(90008332, 90003551)                       13.872832\n",
       "...                                              ...\n",
       "90130782                                   10.936416\n",
       "(30735068, 90130782)                       10.936416\n",
       "(30735068, 70360758)                       10.743738\n",
       "70360758                                   10.743738\n",
       "(90008332, 90196031, 60023180)             10.728324\n",
       "(30735068, 90008332, 90196031, 60023180)   10.720617\n",
       "(90008332, 70015341)                       10.705202\n",
       "(30735068, 90008332, 70015341)             10.705202\n",
       "(30735033, 90008332, 90196031)             10.635838\n",
       "(30735068, 30735033, 90008332, 90196031)   10.635838\n",
       "(90196031, 70015341)                       10.628131\n",
       "(30735068, 90196031, 70015341)             10.628131\n",
       "90090225                                   10.620424\n",
       "(30735068, 90090225)                       10.612717\n",
       "(90008332, 30735084)                       10.551060\n",
       "(30735068, 90008332, 30735084)             10.543353\n",
       "(30735068, 90008332, 70705330)             10.520231\n",
       "(90008332, 70705330)                       10.520231\n",
       "(30735068, 30735033, 30735092, 30735084)   10.504817\n",
       "(30735033, 30735092, 30735084)             10.504817\n",
       "30735041                                   10.489403\n",
       "(30735068, 30735041)                       10.489403\n",
       "(30735068, 90196031, 70705330)             10.466281\n",
       "(90196031, 70705330)                       10.466281\n",
       "(90008332, 70014370)                       10.327553\n",
       "(30735068, 90008332, 70014370)             10.327553\n",
       "(30735068, 90003551, 60023180)             10.181118\n",
       "(90003551, 60023180)                       10.181118\n",
       "(30735068, 60000805)                       10.003854\n",
       "60000805                                   10.003854\n",
       "\n",
       "[99 rows x 1 columns]"
      ]
     },
     "execution_count": 23,
     "metadata": {},
     "output_type": "execute_result"
    }
   ],
   "source": [
    "lista = selected_df['servico'].unique()\n",
    "%time final_id,final_serv = eclat_iter(lista,selected_df,min_sup)\n",
    "final_result = pd.DataFrame(index=final_id,data=final_serv,columns=['Suporte']).sort_values('Suporte',ascending=False)\n",
    "final_result.Suporte = final_result.Suporte * (100.0/support([master],selected_df))\n",
    "final_result"
   ]
  },
  {
   "cell_type": "markdown",
   "metadata": {},
   "source": [
    "Vamos definir como raio X o grupo que possuir a maior quantidade de serviços que, em conjunto, possuem maior suporte:"
   ]
  },
  {
   "cell_type": "code",
   "execution_count": 24,
   "metadata": {
    "collapsed": true
   },
   "outputs": [],
   "source": [
    "def get_len(x):\n",
    "    if type(x) == tuple:\n",
    "        return len(x)\n",
    "    return 1\n",
    "\n",
    "max_len = max([get_len(x) for x in list(final_result.index)]) # acha o tamanho dos maiores grupos\n",
    "max_len_groups = [x for x in list(final_result.index) if get_len(x) == max_len] # pega grupos com esse tamanho\n",
    "xray = list(final_result.loc[max_len_groups].sort_values('Suporte', ascending=False).head(1).index[0]) # pega o com maximo suporte"
   ]
  },
  {
   "cell_type": "code",
   "execution_count": 25,
   "metadata": {},
   "outputs": [
    {
     "data": {
      "text/plain": [
       "[30735068, 90008332, 90003551, 90196031]"
      ]
     },
     "execution_count": 25,
     "metadata": {},
     "output_type": "execute_result"
    }
   ],
   "source": [
    "xray"
   ]
  },
  {
   "cell_type": "markdown",
   "metadata": {},
   "source": [
    "Agora, com o raio x definido, construimos a dataframe final, com colunas servico, descricao, tipo de item, valor medio e quantidade media."
   ]
  },
  {
   "cell_type": "code",
   "execution_count": 26,
   "metadata": {
    "collapsed": true
   },
   "outputs": [],
   "source": [
    "def get_mean_value(service):\n",
    "    values = []\n",
    "    for item in selected_df[selected_df[\"servico\"] == service][\"valor\"].values:\n",
    "        try:\n",
    "            values.append(float(item[1:-1]))\n",
    "        except ValueError: # some values are wrong, ignore them\n",
    "            pass\n",
    "    return sum(values) / len(values)"
   ]
  },
  {
   "cell_type": "code",
   "execution_count": 27,
   "metadata": {
    "collapsed": true
   },
   "outputs": [],
   "source": [
    "def get_mean_quantity(service):\n",
    "    values = []\n",
    "    for item in selected_df[selected_df[\"servico\"] == service][\"qtde\"].values:\n",
    "        try:\n",
    "            values.append(float(item[1:-1]))\n",
    "        except ValueError: # some values are wrong, ignore them\n",
    "            pass\n",
    "    return sum(values) / len(values)"
   ]
  },
  {
   "cell_type": "code",
   "execution_count": 28,
   "metadata": {
    "collapsed": true
   },
   "outputs": [],
   "source": [
    "def get_description(service):\n",
    "    return selected_df[selected_df[\"servico\"] == service][\"descricao_despesa\"].values[10]"
   ]
  },
  {
   "cell_type": "code",
   "execution_count": 29,
   "metadata": {
    "collapsed": true
   },
   "outputs": [],
   "source": [
    "def get_item_type(service):\n",
    "    return selected_df[selected_df[\"servico\"] == service][\"tipo_item\"].values[10]"
   ]
  },
  {
   "cell_type": "code",
   "execution_count": 30,
   "metadata": {
    "collapsed": true
   },
   "outputs": [],
   "source": [
    "def get_individual_support(service):\n",
    "    return final_result.loc[service].values[0]"
   ]
  },
  {
   "cell_type": "code",
   "execution_count": 31,
   "metadata": {},
   "outputs": [],
   "source": [
    "mean_vals = [selected_df[selected_df[\"servico\"] == service][\"valor\"].astype(float).mean() for service in xray]\n",
    "mean_qtt = [selected_df[selected_df[\"servico\"] == service][\"qtde\"].astype(float).mean() for service in xray]\n",
    "item_types = [get_item_type(service) for service in xray]\n",
    "descriptions = [get_description(service) for service in xray]\n",
    "support_vals = [get_individual_support(service) for service in xray]\n",
    "xray_dict = {\"Servico\": xray, \"Descricao\":descriptions, \"Tipo de Item\":item_types, \"Quantidade média\": mean_qtt, \n",
    "             \"Valor médio\": mean_vals, \"Suporte\":support_vals}\n",
    "xray_df = pd.DataFrame(xray_dict)"
   ]
  },
  {
   "cell_type": "code",
   "execution_count": 32,
   "metadata": {},
   "outputs": [
    {
     "data": {
      "text/html": [
       "<div>\n",
       "<style scoped>\n",
       "    .dataframe tbody tr th:only-of-type {\n",
       "        vertical-align: middle;\n",
       "    }\n",
       "\n",
       "    .dataframe tbody tr th {\n",
       "        vertical-align: top;\n",
       "    }\n",
       "\n",
       "    .dataframe thead th {\n",
       "        text-align: right;\n",
       "    }\n",
       "</style>\n",
       "<table border=\"1\" class=\"dataframe\">\n",
       "  <thead>\n",
       "    <tr style=\"text-align: right;\">\n",
       "      <th></th>\n",
       "      <th>Descricao</th>\n",
       "      <th>Quantidade média</th>\n",
       "      <th>Servico</th>\n",
       "      <th>Suporte</th>\n",
       "      <th>Tipo de Item</th>\n",
       "      <th>Valor médio</th>\n",
       "    </tr>\n",
       "  </thead>\n",
       "  <tbody>\n",
       "    <tr>\n",
       "      <th>0</th>\n",
       "      <td>RUPTURA DO MANGUITO ROTADOR</td>\n",
       "      <td>1.002994</td>\n",
       "      <td>30735068</td>\n",
       "      <td>100.000000</td>\n",
       "      <td>PROCEDIMENTO</td>\n",
       "      <td>502.800346</td>\n",
       "    </tr>\n",
       "    <tr>\n",
       "      <th>1</th>\n",
       "      <td>KEFAZOL</td>\n",
       "      <td>2.864761</td>\n",
       "      <td>90008332</td>\n",
       "      <td>20.947977</td>\n",
       "      <td>MEDICAMENTOS</td>\n",
       "      <td>53.626238</td>\n",
       "    </tr>\n",
       "    <tr>\n",
       "      <th>2</th>\n",
       "      <td>DECADRON INJETVEL</td>\n",
       "      <td>1.141700</td>\n",
       "      <td>90003551</td>\n",
       "      <td>17.063584</td>\n",
       "      <td>MEDICAMENTOS</td>\n",
       "      <td>12.588304</td>\n",
       "    </tr>\n",
       "    <tr>\n",
       "      <th>3</th>\n",
       "      <td>NOVALGINA; 500MG/ML AMPOLA 2ML INJETAVEL</td>\n",
       "      <td>3.349773</td>\n",
       "      <td>90196031</td>\n",
       "      <td>20.369942</td>\n",
       "      <td>MEDICAMENTOS</td>\n",
       "      <td>8.604235</td>\n",
       "    </tr>\n",
       "  </tbody>\n",
       "</table>\n",
       "</div>"
      ],
      "text/plain": [
       "                                  Descricao  Quantidade média   Servico  \\\n",
       "0               RUPTURA DO MANGUITO ROTADOR          1.002994  30735068   \n",
       "1                                   KEFAZOL          2.864761  90008332   \n",
       "2                         DECADRON INJETVEL          1.141700  90003551   \n",
       "3  NOVALGINA; 500MG/ML AMPOLA 2ML INJETAVEL          3.349773  90196031   \n",
       "\n",
       "      Suporte  Tipo de Item  Valor médio  \n",
       "0  100.000000  PROCEDIMENTO   502.800346  \n",
       "1   20.947977  MEDICAMENTOS    53.626238  \n",
       "2   17.063584  MEDICAMENTOS    12.588304  \n",
       "3   20.369942  MEDICAMENTOS     8.604235  "
      ]
     },
     "execution_count": 32,
     "metadata": {},
     "output_type": "execute_result"
    }
   ],
   "source": [
    "xray_df"
   ]
  },
  {
   "cell_type": "code",
   "execution_count": null,
   "metadata": {
    "collapsed": true
   },
   "outputs": [],
   "source": []
  },
  {
   "cell_type": "code",
   "execution_count": null,
   "metadata": {
    "collapsed": true
   },
   "outputs": [],
   "source": []
  },
  {
   "cell_type": "code",
   "execution_count": null,
   "metadata": {
    "collapsed": true
   },
   "outputs": [],
   "source": []
  }
 ],
 "metadata": {
  "anaconda-cloud": {},
  "kernelspec": {
   "display_name": "Python 3",
   "language": "python",
   "name": "python3"
  },
  "language_info": {
   "codemirror_mode": {
    "name": "ipython",
    "version": 3
   },
   "file_extension": ".py",
   "mimetype": "text/x-python",
   "name": "python",
   "nbconvert_exporter": "python",
   "pygments_lexer": "ipython3",
   "version": "3.5.3"
  }
 },
 "nbformat": 4,
 "nbformat_minor": 1
}
