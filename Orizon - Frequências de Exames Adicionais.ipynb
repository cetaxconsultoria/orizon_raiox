{
 "cells": [
  {
   "cell_type": "markdown",
   "metadata": {},
   "source": [
    "# Orizon: Frequência de Exames Adicionais"
   ]
  },
  {
   "cell_type": "code",
   "execution_count": 2,
   "metadata": {
    "collapsed": true
   },
   "outputs": [],
   "source": [
    "import findspark\n",
    "findspark.init(\"/usr/local/spark\")\n",
    "from pyspark.sql import SparkSession, SQLContext\n",
    "from collections import Counter\n",
    "from pandas import DataFrame"
   ]
  },
  {
   "cell_type": "markdown",
   "metadata": {},
   "source": [
    "Configurando sessão:"
   ]
  },
  {
   "cell_type": "code",
   "execution_count": 3,
   "metadata": {
    "collapsed": false
   },
   "outputs": [],
   "source": [
    "spark = SparkSession.builder    \\\n",
    "        .master(\"local\")    \\\n",
    "        .appName(\"Linear Regression Model\")    \\\n",
    "        .config(\"spark.executor.memory\", \"1gb\")    \\\n",
    "        .getOrCreate()\n",
    "sc = spark.sparkContext\n",
    "sqlContext = SQLContext(sc)"
   ]
  },
  {
   "cell_type": "markdown",
   "metadata": {},
   "source": [
    "Carregando dados do TUSS relativo à displasia coxo-femural (código 30724058)"
   ]
  },
  {
   "cell_type": "code",
   "execution_count": 4,
   "metadata": {
    "collapsed": false
   },
   "outputs": [],
   "source": [
    "csv_path = \"../orizon/extract/data_30724058.csv\"\n",
    "df = sqlContext.read.format('com.databricks.spark.csv').options(header='true', inferschema='true').load(csv_path)"
   ]
  },
  {
   "cell_type": "markdown",
   "metadata": {},
   "source": [
    "Verificando se os tipos foram inferidos corretamente:"
   ]
  },
  {
   "cell_type": "code",
   "execution_count": 5,
   "metadata": {
    "collapsed": false
   },
   "outputs": [
    {
     "name": "stdout",
     "output_type": "stream",
     "text": [
      "root\n",
      " |-- cliente: string (nullable = true)\n",
      " |-- id_lote: integer (nullable = true)\n",
      " |-- id_conta: integer (nullable = true)\n",
      " |-- id_item: integer (nullable = true)\n",
      " |-- servico: long (nullable = true)\n",
      " |-- descricao_despesa: string (nullable = true)\n",
      " |-- valor: string (nullable = true)\n",
      " |-- qtde: double (nullable = true)\n",
      "\n"
     ]
    }
   ],
   "source": [
    "df.printSchema()"
   ]
  },
  {
   "cell_type": "markdown",
   "metadata": {},
   "source": [
    "Corrigindo campo \"valor\":"
   ]
  },
  {
   "cell_type": "code",
   "execution_count": 6,
   "metadata": {
    "collapsed": true
   },
   "outputs": [],
   "source": [
    "df = df.withColumn(\"valor\", df[\"valor\"].cast(\"double\"))"
   ]
  },
  {
   "cell_type": "markdown",
   "metadata": {},
   "source": [
    "Selecionando os \"id_conta\" atrelados a pelo menos um serviço além do TUSS mestre:"
   ]
  },
  {
   "cell_type": "code",
   "execution_count": 7,
   "metadata": {
    "collapsed": true
   },
   "outputs": [],
   "source": [
    "service_counts = df.groupBy(\"id_conta\").count()\n",
    "ids = service_counts.filter(service_counts[\"count\"] != 1).rdd.map(lambda (acc_id, count): acc_id).collect()"
   ]
  },
  {
   "cell_type": "markdown",
   "metadata": {},
   "source": [
    "Montando uma lista com todos os serviços existentes no dataset:"
   ]
  },
  {
   "cell_type": "code",
   "execution_count": 8,
   "metadata": {
    "collapsed": true
   },
   "outputs": [],
   "source": [
    "services_set = set(df.select(\"servico\").rdd.flatMap(lambda x: x).collect())"
   ]
  },
  {
   "cell_type": "markdown",
   "metadata": {},
   "source": [
    "À partir dos IDs selecionados, montamos um dicionario que guarde a contagem de cada serviço para cada id_conta:"
   ]
  },
  {
   "cell_type": "code",
   "execution_count": 9,
   "metadata": {
    "collapsed": true
   },
   "outputs": [],
   "source": [
    "services_dict = {}\n",
    "for acc_id in ids:\n",
    "    services_dict[acc_id] = Counter(df.filter(df[\"id_conta\"] == acc_id).select(\"servico\").rdd.flatMap(lambda x: x).collect())"
   ]
  },
  {
   "cell_type": "markdown",
   "metadata": {},
   "source": [
    "Definindo uma função que, dado um serviço, compute a porcentagem de id_conta's na qual esse serviço aparece e a media de aparições do serviço por id_conta. "
   ]
  },
  {
   "cell_type": "code",
   "execution_count": 10,
   "metadata": {
    "collapsed": true
   },
   "outputs": [],
   "source": [
    "def compute_frequency(service):\n",
    "    accs_occur = 0 # id_conta's em que o servico aparece\n",
    "    total_occur = 0 # total de vezes queo servico aparece (pode ser mais de uma por id conta)\n",
    "    for acc in services_dict.keys():\n",
    "        if services_dict[acc][service] != 0:\n",
    "            accs_occur += 1\n",
    "            total_occur += services_dict[acc][service]\n",
    "    return ((float(accs_occur) * 100) / len(ids), float(total_occur) / len(ids)) "
   ]
  },
  {
   "cell_type": "markdown",
   "metadata": {},
   "source": [
    "Gerando dicionario com as frequencias de todos os serviços"
   ]
  },
  {
   "cell_type": "code",
   "execution_count": 11,
   "metadata": {
    "collapsed": true
   },
   "outputs": [],
   "source": [
    "freq_dict = {}\n",
    "for service in services_set:\n",
    "    freq_dict[service] = compute_frequency(service)"
   ]
  },
  {
   "cell_type": "markdown",
   "metadata": {},
   "source": [
    "Função que seleciona serviços que aparecem em pelo menos X% dos id_conta's:"
   ]
  },
  {
   "cell_type": "code",
   "execution_count": 12,
   "metadata": {
    "collapsed": true
   },
   "outputs": [],
   "source": [
    "def get_highest(x):\n",
    "    '''\n",
    "    Retorna lista de listas com codigo do servico, porcentagem de contas em que ele aparece, media de aparicoes por conta e\n",
    "    descricao.\n",
    "    '''\n",
    "    line_list = []\n",
    "    for service in freq_dict.keys():\n",
    "        if freq_dict[service][0] > x: # freq_dict[service][0] : porcentagem, [1]: media\n",
    "            line = [service, freq_dict[service][0], freq_dict[service][1] , df.filter(df[\"servico\"] == service).select(\"descricao_despesa\").rdd.flatMap(lambda x: x).take(1)[0]]\n",
    "            line_list.append(line)\n",
    "    return line_list"
   ]
  },
  {
   "cell_type": "markdown",
   "metadata": {},
   "source": [
    "Selecionando os servicos que aparecem em mais de 30% dos id_conta e transformando em uma dataframe pandas para facilitar visualização:"
   ]
  },
  {
   "cell_type": "code",
   "execution_count": 16,
   "metadata": {
    "collapsed": true
   },
   "outputs": [],
   "source": [
    "most_frequent = sorted(get_highest(20), key=lambda x: x[1], reverse=True) # ordena por porcentagem, maior p/ menor"
   ]
  },
  {
   "cell_type": "code",
   "execution_count": 17,
   "metadata": {
    "collapsed": true
   },
   "outputs": [],
   "source": [
    "freq_df = DataFrame(most_frequent, columns=[\"Codigo\", \"%\", \"Frequencia\", \"Descricao\"])"
   ]
  },
  {
   "cell_type": "code",
   "execution_count": 18,
   "metadata": {
    "collapsed": false
   },
   "outputs": [
    {
     "data": {
      "text/html": [
       "<div>\n",
       "<table border=\"1\" class=\"dataframe\">\n",
       "  <thead>\n",
       "    <tr style=\"text-align: right;\">\n",
       "      <th></th>\n",
       "      <th>Codigo</th>\n",
       "      <th>%</th>\n",
       "      <th>Frequencia</th>\n",
       "      <th>Descricao</th>\n",
       "    </tr>\n",
       "  </thead>\n",
       "  <tbody>\n",
       "    <tr>\n",
       "      <th>0</th>\n",
       "      <td>30724058</td>\n",
       "      <td>100.000000</td>\n",
       "      <td>8.424242</td>\n",
       "      <td>ARTOPLASTIA FEMORAL  COXO FEMORAL</td>\n",
       "    </tr>\n",
       "    <tr>\n",
       "      <th>1</th>\n",
       "      <td>40304361</td>\n",
       "      <td>42.424242</td>\n",
       "      <td>3.333333</td>\n",
       "      <td>HEMOGRAMA COM CONTAGEM DE PLAQUETAS OU FRACOES...</td>\n",
       "    </tr>\n",
       "    <tr>\n",
       "      <th>2</th>\n",
       "      <td>60023155</td>\n",
       "      <td>33.333333</td>\n",
       "      <td>0.818182</td>\n",
       "      <td>TAXA DE SALA CIRURGICA, PORTE ANESTESICO 6</td>\n",
       "    </tr>\n",
       "    <tr>\n",
       "      <th>3</th>\n",
       "      <td>90008332</td>\n",
       "      <td>33.333333</td>\n",
       "      <td>1.636364</td>\n",
       "      <td>KEFAZOL 1 G. FR/AMP</td>\n",
       "    </tr>\n",
       "    <tr>\n",
       "      <th>4</th>\n",
       "      <td>40301630</td>\n",
       "      <td>33.333333</td>\n",
       "      <td>3.000000</td>\n",
       "      <td>CREATININA - PESQUISA E/OU DOSAGEM</td>\n",
       "    </tr>\n",
       "    <tr>\n",
       "      <th>5</th>\n",
       "      <td>40302318</td>\n",
       "      <td>33.333333</td>\n",
       "      <td>3.151515</td>\n",
       "      <td>POTASSIO - PESQUISA E/OU DOSAGEM</td>\n",
       "    </tr>\n",
       "    <tr>\n",
       "      <th>6</th>\n",
       "      <td>40302423</td>\n",
       "      <td>33.333333</td>\n",
       "      <td>3.060606</td>\n",
       "      <td>SODIO - PESQUISA E/OU DOSAGEM</td>\n",
       "    </tr>\n",
       "    <tr>\n",
       "      <th>7</th>\n",
       "      <td>40302580</td>\n",
       "      <td>33.333333</td>\n",
       "      <td>2.909091</td>\n",
       "      <td>UREIA - PESQUISA E/OU DOSAGEM</td>\n",
       "    </tr>\n",
       "    <tr>\n",
       "      <th>8</th>\n",
       "      <td>10102019</td>\n",
       "      <td>30.303030</td>\n",
       "      <td>4.787879</td>\n",
       "      <td>VISITA HOSPITALAR (PACIENTE INTERNADO)</td>\n",
       "    </tr>\n",
       "    <tr>\n",
       "      <th>9</th>\n",
       "      <td>10104020</td>\n",
       "      <td>30.303030</td>\n",
       "      <td>2.575758</td>\n",
       "      <td>ATENDIMENTO MEDICO DO INTENSIVISTA EM UTI GERA...</td>\n",
       "    </tr>\n",
       "    <tr>\n",
       "      <th>10</th>\n",
       "      <td>40804011</td>\n",
       "      <td>30.303030</td>\n",
       "      <td>0.787879</td>\n",
       "      <td>RX - BACIA</td>\n",
       "    </tr>\n",
       "    <tr>\n",
       "      <th>11</th>\n",
       "      <td>40403173</td>\n",
       "      <td>27.272727</td>\n",
       "      <td>1.303030</td>\n",
       "      <td>GRUPO SANGU?NEO ABO E RH</td>\n",
       "    </tr>\n",
       "    <tr>\n",
       "      <th>12</th>\n",
       "      <td>90194500</td>\n",
       "      <td>27.272727</td>\n",
       "      <td>1.606061</td>\n",
       "      <td>CLEXANE 40MG SERINGA PREENCHIDA</td>\n",
       "    </tr>\n",
       "    <tr>\n",
       "      <th>13</th>\n",
       "      <td>20203047</td>\n",
       "      <td>27.272727</td>\n",
       "      <td>1.848485</td>\n",
       "      <td>ASSISTENCIA FISIATRICA RESPIRATORIA EM DOENTE ...</td>\n",
       "    </tr>\n",
       "    <tr>\n",
       "      <th>14</th>\n",
       "      <td>90196031</td>\n",
       "      <td>27.272727</td>\n",
       "      <td>1.787879</td>\n",
       "      <td>NOVALGINA 1G/2ML AMP</td>\n",
       "    </tr>\n",
       "    <tr>\n",
       "      <th>15</th>\n",
       "      <td>40804038</td>\n",
       "      <td>27.272727</td>\n",
       "      <td>0.818182</td>\n",
       "      <td>ARTICULA�?O COXOFEMORAL (QUADRIL)</td>\n",
       "    </tr>\n",
       "    <tr>\n",
       "      <th>16</th>\n",
       "      <td>40403343</td>\n",
       "      <td>24.242424</td>\n",
       "      <td>1.090909</td>\n",
       "      <td>PESQUISA DE ANTICORPOS S�RICOS IRREGULAR</td>\n",
       "    </tr>\n",
       "    <tr>\n",
       "      <th>17</th>\n",
       "      <td>40403408</td>\n",
       "      <td>24.242424</td>\n",
       "      <td>1.030303</td>\n",
       "      <td>PROVA DE COMPATIBILIDADE PR�</td>\n",
       "    </tr>\n",
       "    <tr>\n",
       "      <th>18</th>\n",
       "      <td>90003551</td>\n",
       "      <td>24.242424</td>\n",
       "      <td>0.787879</td>\n",
       "      <td>DECADRON INJET?VEL</td>\n",
       "    </tr>\n",
       "    <tr>\n",
       "      <th>19</th>\n",
       "      <td>90047257</td>\n",
       "      <td>21.212121</td>\n",
       "      <td>0.424242</td>\n",
       "      <td>NEOCAINA PESADA</td>\n",
       "    </tr>\n",
       "    <tr>\n",
       "      <th>20</th>\n",
       "      <td>40101010</td>\n",
       "      <td>21.212121</td>\n",
       "      <td>1.212121</td>\n",
       "      <td>ECG CONVENCIONAL DE ATE 12 DERIVACOES</td>\n",
       "    </tr>\n",
       "    <tr>\n",
       "      <th>21</th>\n",
       "      <td>40302040</td>\n",
       "      <td>21.212121</td>\n",
       "      <td>1.969697</td>\n",
       "      <td>GLICOSE</td>\n",
       "    </tr>\n",
       "    <tr>\n",
       "      <th>22</th>\n",
       "      <td>90123255</td>\n",
       "      <td>21.212121</td>\n",
       "      <td>1.181818</td>\n",
       "      <td>SOL RINGER LACTATO ECOFLAC 500 ML REF.:200164</td>\n",
       "    </tr>\n",
       "    <tr>\n",
       "      <th>23</th>\n",
       "      <td>70259496</td>\n",
       "      <td>21.212121</td>\n",
       "      <td>0.636364</td>\n",
       "      <td>FIO MONONYLON CUTICULAR PRETO 3-0 45CM AG.3CM ...</td>\n",
       "    </tr>\n",
       "  </tbody>\n",
       "</table>\n",
       "</div>"
      ],
      "text/plain": [
       "      Codigo           %  Frequencia  \\\n",
       "0   30724058  100.000000    8.424242   \n",
       "1   40304361   42.424242    3.333333   \n",
       "2   60023155   33.333333    0.818182   \n",
       "3   90008332   33.333333    1.636364   \n",
       "4   40301630   33.333333    3.000000   \n",
       "5   40302318   33.333333    3.151515   \n",
       "6   40302423   33.333333    3.060606   \n",
       "7   40302580   33.333333    2.909091   \n",
       "8   10102019   30.303030    4.787879   \n",
       "9   10104020   30.303030    2.575758   \n",
       "10  40804011   30.303030    0.787879   \n",
       "11  40403173   27.272727    1.303030   \n",
       "12  90194500   27.272727    1.606061   \n",
       "13  20203047   27.272727    1.848485   \n",
       "14  90196031   27.272727    1.787879   \n",
       "15  40804038   27.272727    0.818182   \n",
       "16  40403343   24.242424    1.090909   \n",
       "17  40403408   24.242424    1.030303   \n",
       "18  90003551   24.242424    0.787879   \n",
       "19  90047257   21.212121    0.424242   \n",
       "20  40101010   21.212121    1.212121   \n",
       "21  40302040   21.212121    1.969697   \n",
       "22  90123255   21.212121    1.181818   \n",
       "23  70259496   21.212121    0.636364   \n",
       "\n",
       "                                            Descricao  \n",
       "0                   ARTOPLASTIA FEMORAL  COXO FEMORAL  \n",
       "1   HEMOGRAMA COM CONTAGEM DE PLAQUETAS OU FRACOES...  \n",
       "2          TAXA DE SALA CIRURGICA, PORTE ANESTESICO 6  \n",
       "3                                 KEFAZOL 1 G. FR/AMP  \n",
       "4                  CREATININA - PESQUISA E/OU DOSAGEM  \n",
       "5                    POTASSIO - PESQUISA E/OU DOSAGEM  \n",
       "6                       SODIO - PESQUISA E/OU DOSAGEM  \n",
       "7                       UREIA - PESQUISA E/OU DOSAGEM  \n",
       "8              VISITA HOSPITALAR (PACIENTE INTERNADO)  \n",
       "9   ATENDIMENTO MEDICO DO INTENSIVISTA EM UTI GERA...  \n",
       "10                                         RX - BACIA  \n",
       "11                           GRUPO SANGU?NEO ABO E RH  \n",
       "12                    CLEXANE 40MG SERINGA PREENCHIDA  \n",
       "13  ASSISTENCIA FISIATRICA RESPIRATORIA EM DOENTE ...  \n",
       "14                               NOVALGINA 1G/2ML AMP  \n",
       "15                  ARTICULA�?O COXOFEMORAL (QUADRIL)  \n",
       "16           PESQUISA DE ANTICORPOS S�RICOS IRREGULAR  \n",
       "17                       PROVA DE COMPATIBILIDADE PR�  \n",
       "18                                 DECADRON INJET?VEL  \n",
       "19                                    NEOCAINA PESADA  \n",
       "20              ECG CONVENCIONAL DE ATE 12 DERIVACOES  \n",
       "21                                            GLICOSE  \n",
       "22      SOL RINGER LACTATO ECOFLAC 500 ML REF.:200164  \n",
       "23  FIO MONONYLON CUTICULAR PRETO 3-0 45CM AG.3CM ...  "
      ]
     },
     "execution_count": 18,
     "metadata": {},
     "output_type": "execute_result"
    }
   ],
   "source": [
    "freq_df"
   ]
  },
  {
   "cell_type": "code",
   "execution_count": null,
   "metadata": {
    "collapsed": true
   },
   "outputs": [],
   "source": []
  }
 ],
 "metadata": {
  "anaconda-cloud": {},
  "kernelspec": {
   "display_name": "Python [conda root]",
   "language": "python",
   "name": "conda-root-py"
  },
  "language_info": {
   "codemirror_mode": {
    "name": "ipython",
    "version": 2
   },
   "file_extension": ".py",
   "mimetype": "text/x-python",
   "name": "python",
   "nbconvert_exporter": "python",
   "pygments_lexer": "ipython2",
   "version": "2.7.12"
  }
 },
 "nbformat": 4,
 "nbformat_minor": 1
}
