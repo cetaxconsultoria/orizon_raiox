{
 "cells": [
  {
   "cell_type": "code",
   "execution_count": 1,
   "metadata": {
    "collapsed": false
   },
   "outputs": [],
   "source": [
    "import pandas as pd\n",
    "import seaborn as sns\n",
    "import matplotlib.pyplot as plt"
   ]
  },
  {
   "cell_type": "markdown",
   "metadata": {},
   "source": [
    "# Dados de Artroplastia de Joelho (30726034)"
   ]
  },
  {
   "cell_type": "code",
   "execution_count": 2,
   "metadata": {
    "collapsed": false
   },
   "outputs": [],
   "source": [
    "df = pd.read_csv('data_30726034.csv', encoding = \"ISO-8859-1\")"
   ]
  },
  {
   "cell_type": "markdown",
   "metadata": {},
   "source": [
    "* Verificação se a importação está sendo feita corretamente"
   ]
  },
  {
   "cell_type": "code",
   "execution_count": 3,
   "metadata": {
    "collapsed": false,
    "scrolled": true
   },
   "outputs": [
    {
     "data": {
      "text/html": [
       "<div>\n",
       "<table border=\"1\" class=\"dataframe\">\n",
       "  <thead>\n",
       "    <tr style=\"text-align: right;\">\n",
       "      <th></th>\n",
       "      <th>cliente</th>\n",
       "      <th>id_lote</th>\n",
       "      <th>id_conta</th>\n",
       "      <th>id_item</th>\n",
       "      <th>servico</th>\n",
       "      <th>descricao_despesa</th>\n",
       "      <th>valor</th>\n",
       "      <th>qtde</th>\n",
       "    </tr>\n",
       "  </thead>\n",
       "  <tbody>\n",
       "    <tr>\n",
       "      <th>0</th>\n",
       "      <td>BRADESCO SA?DE</td>\n",
       "      <td>42704626</td>\n",
       "      <td>1135485394</td>\n",
       "      <td>486879190</td>\n",
       "      <td>30726034</td>\n",
       "      <td>ARTROPLASTIA TOTAL DE JOELHO COM IMPLANTES - T...</td>\n",
       "      <td>600.2</td>\n",
       "      <td>1.0</td>\n",
       "    </tr>\n",
       "    <tr>\n",
       "      <th>1</th>\n",
       "      <td>BRADESCO SA?DE</td>\n",
       "      <td>42704626</td>\n",
       "      <td>1135485394</td>\n",
       "      <td>486879190</td>\n",
       "      <td>30726034</td>\n",
       "      <td>ARTROPLASTIA TOTAL DE JOELHO COM IMPLANTES - T...</td>\n",
       "      <td>600.2</td>\n",
       "      <td>1.0</td>\n",
       "    </tr>\n",
       "    <tr>\n",
       "      <th>2</th>\n",
       "      <td>BRADESCO SA?DE</td>\n",
       "      <td>42704626</td>\n",
       "      <td>1135485394</td>\n",
       "      <td>486879192</td>\n",
       "      <td>30726034</td>\n",
       "      <td>ARTROPLASTIA TOTAL DE JOELHO COM IMPLANTES - T...</td>\n",
       "      <td>400.14</td>\n",
       "      <td>1.0</td>\n",
       "    </tr>\n",
       "    <tr>\n",
       "      <th>3</th>\n",
       "      <td>BRADESCO SA?DE</td>\n",
       "      <td>42704626</td>\n",
       "      <td>1135485394</td>\n",
       "      <td>486879192</td>\n",
       "      <td>30726034</td>\n",
       "      <td>ARTROPLASTIA TOTAL DE JOELHO COM IMPLANTES - T...</td>\n",
       "      <td>400.14</td>\n",
       "      <td>1.0</td>\n",
       "    </tr>\n",
       "    <tr>\n",
       "      <th>4</th>\n",
       "      <td>BRADESCO SA?DE</td>\n",
       "      <td>42704626</td>\n",
       "      <td>1135485394</td>\n",
       "      <td>486879191</td>\n",
       "      <td>30726034</td>\n",
       "      <td>ARTROPLASTIA TOTAL DE JOELHO COM IMPLANTES - T...</td>\n",
       "      <td>400.14</td>\n",
       "      <td>1.0</td>\n",
       "    </tr>\n",
       "    <tr>\n",
       "      <th>5</th>\n",
       "      <td>BRADESCO SA?DE</td>\n",
       "      <td>42704626</td>\n",
       "      <td>1135485394</td>\n",
       "      <td>486879189</td>\n",
       "      <td>30726034</td>\n",
       "      <td>ARTROPLASTIA TOTAL DE JOELHO COM IMPLANTES - T...</td>\n",
       "      <td>2000.68</td>\n",
       "      <td>1.0</td>\n",
       "    </tr>\n",
       "    <tr>\n",
       "      <th>6</th>\n",
       "      <td>BRADESCO SA?DE</td>\n",
       "      <td>42704626</td>\n",
       "      <td>1135485394</td>\n",
       "      <td>486879192</td>\n",
       "      <td>30726034</td>\n",
       "      <td>ARTROPLASTIA TOTAL DE JOELHO COM IMPLANTES - T...</td>\n",
       "      <td>400.14</td>\n",
       "      <td>1.0</td>\n",
       "    </tr>\n",
       "    <tr>\n",
       "      <th>7</th>\n",
       "      <td>BRADESCO SA?DE</td>\n",
       "      <td>42704626</td>\n",
       "      <td>1135485394</td>\n",
       "      <td>486879192</td>\n",
       "      <td>30726034</td>\n",
       "      <td>ARTROPLASTIA TOTAL DE JOELHO COM IMPLANTES - T...</td>\n",
       "      <td>400.14</td>\n",
       "      <td>1.0</td>\n",
       "    </tr>\n",
       "    <tr>\n",
       "      <th>8</th>\n",
       "      <td>BRADESCO SA?DE</td>\n",
       "      <td>42704626</td>\n",
       "      <td>1135485394</td>\n",
       "      <td>486879191</td>\n",
       "      <td>30726034</td>\n",
       "      <td>ARTROPLASTIA TOTAL DE JOELHO COM IMPLANTES - T...</td>\n",
       "      <td>400.14</td>\n",
       "      <td>1.0</td>\n",
       "    </tr>\n",
       "    <tr>\n",
       "      <th>9</th>\n",
       "      <td>BRADESCO SA?DE</td>\n",
       "      <td>42704626</td>\n",
       "      <td>1135485394</td>\n",
       "      <td>486879191</td>\n",
       "      <td>30726034</td>\n",
       "      <td>ARTROPLASTIA TOTAL DE JOELHO COM IMPLANTES - T...</td>\n",
       "      <td>400.14</td>\n",
       "      <td>1.0</td>\n",
       "    </tr>\n",
       "  </tbody>\n",
       "</table>\n",
       "</div>"
      ],
      "text/plain": [
       "          cliente   id_lote    id_conta    id_item   servico  \\\n",
       "0  BRADESCO SA?DE  42704626  1135485394  486879190  30726034   \n",
       "1  BRADESCO SA?DE  42704626  1135485394  486879190  30726034   \n",
       "2  BRADESCO SA?DE  42704626  1135485394  486879192  30726034   \n",
       "3  BRADESCO SA?DE  42704626  1135485394  486879192  30726034   \n",
       "4  BRADESCO SA?DE  42704626  1135485394  486879191  30726034   \n",
       "5  BRADESCO SA?DE  42704626  1135485394  486879189  30726034   \n",
       "6  BRADESCO SA?DE  42704626  1135485394  486879192  30726034   \n",
       "7  BRADESCO SA?DE  42704626  1135485394  486879192  30726034   \n",
       "8  BRADESCO SA?DE  42704626  1135485394  486879191  30726034   \n",
       "9  BRADESCO SA?DE  42704626  1135485394  486879191  30726034   \n",
       "\n",
       "                                   descricao_despesa    valor  qtde  \n",
       "0  ARTROPLASTIA TOTAL DE JOELHO COM IMPLANTES - T...    600.2   1.0  \n",
       "1  ARTROPLASTIA TOTAL DE JOELHO COM IMPLANTES - T...    600.2   1.0  \n",
       "2  ARTROPLASTIA TOTAL DE JOELHO COM IMPLANTES - T...   400.14   1.0  \n",
       "3  ARTROPLASTIA TOTAL DE JOELHO COM IMPLANTES - T...   400.14   1.0  \n",
       "4  ARTROPLASTIA TOTAL DE JOELHO COM IMPLANTES - T...   400.14   1.0  \n",
       "5  ARTROPLASTIA TOTAL DE JOELHO COM IMPLANTES - T...  2000.68   1.0  \n",
       "6  ARTROPLASTIA TOTAL DE JOELHO COM IMPLANTES - T...   400.14   1.0  \n",
       "7  ARTROPLASTIA TOTAL DE JOELHO COM IMPLANTES - T...   400.14   1.0  \n",
       "8  ARTROPLASTIA TOTAL DE JOELHO COM IMPLANTES - T...   400.14   1.0  \n",
       "9  ARTROPLASTIA TOTAL DE JOELHO COM IMPLANTES - T...   400.14   1.0  "
      ]
     },
     "execution_count": 3,
     "metadata": {},
     "output_type": "execute_result"
    }
   ],
   "source": [
    "df.head(10)"
   ]
  },
  {
   "cell_type": "markdown",
   "metadata": {},
   "source": [
    "* Contando ocorrência de cada serviço relacionado ao dataset importado"
   ]
  },
  {
   "cell_type": "code",
   "execution_count": 4,
   "metadata": {
    "collapsed": false
   },
   "outputs": [],
   "source": [
    "counts = pd.DataFrame(df['servico'].value_counts().head(10)).reset_index().rename(columns={'index': 'servico', 'servico': 'count'})\n"
   ]
  },
  {
   "cell_type": "code",
   "execution_count": 5,
   "metadata": {
    "collapsed": false
   },
   "outputs": [
    {
     "data": {
      "text/html": [
       "<div>\n",
       "<table border=\"1\" class=\"dataframe\">\n",
       "  <thead>\n",
       "    <tr style=\"text-align: right;\">\n",
       "      <th></th>\n",
       "      <th>servico</th>\n",
       "      <th>count</th>\n",
       "    </tr>\n",
       "  </thead>\n",
       "  <tbody>\n",
       "    <tr>\n",
       "      <th>0</th>\n",
       "      <td>30726034</td>\n",
       "      <td>426</td>\n",
       "    </tr>\n",
       "    <tr>\n",
       "      <th>1</th>\n",
       "      <td>40304361</td>\n",
       "      <td>124</td>\n",
       "    </tr>\n",
       "    <tr>\n",
       "      <th>2</th>\n",
       "      <td>20203047</td>\n",
       "      <td>104</td>\n",
       "    </tr>\n",
       "    <tr>\n",
       "      <th>3</th>\n",
       "      <td>70705330</td>\n",
       "      <td>102</td>\n",
       "    </tr>\n",
       "    <tr>\n",
       "      <th>4</th>\n",
       "      <td>90196031</td>\n",
       "      <td>101</td>\n",
       "    </tr>\n",
       "    <tr>\n",
       "      <th>5</th>\n",
       "      <td>40301630</td>\n",
       "      <td>95</td>\n",
       "    </tr>\n",
       "    <tr>\n",
       "      <th>6</th>\n",
       "      <td>10104020</td>\n",
       "      <td>88</td>\n",
       "    </tr>\n",
       "    <tr>\n",
       "      <th>7</th>\n",
       "      <td>40302580</td>\n",
       "      <td>85</td>\n",
       "    </tr>\n",
       "    <tr>\n",
       "      <th>8</th>\n",
       "      <td>40302423</td>\n",
       "      <td>83</td>\n",
       "    </tr>\n",
       "    <tr>\n",
       "      <th>9</th>\n",
       "      <td>40302318</td>\n",
       "      <td>81</td>\n",
       "    </tr>\n",
       "  </tbody>\n",
       "</table>\n",
       "</div>"
      ],
      "text/plain": [
       "    servico  count\n",
       "0  30726034    426\n",
       "1  40304361    124\n",
       "2  20203047    104\n",
       "3  70705330    102\n",
       "4  90196031    101\n",
       "5  40301630     95\n",
       "6  10104020     88\n",
       "7  40302580     85\n",
       "8  40302423     83\n",
       "9  40302318     81"
      ]
     },
     "execution_count": 5,
     "metadata": {},
     "output_type": "execute_result"
    }
   ],
   "source": [
    "counts"
   ]
  },
  {
   "cell_type": "markdown",
   "metadata": {},
   "source": [
    "* Porcentagem de ocorrências"
   ]
  },
  {
   "cell_type": "code",
   "execution_count": 6,
   "metadata": {
    "collapsed": false
   },
   "outputs": [
    {
     "data": {
      "text/plain": [
       "0    4.26\n",
       "1    1.24\n",
       "2    1.04\n",
       "3    1.02\n",
       "4    1.01\n",
       "5    0.95\n",
       "6    0.88\n",
       "7    0.85\n",
       "8    0.83\n",
       "9    0.81\n",
       "Name: count, dtype: float64"
      ]
     },
     "execution_count": 6,
     "metadata": {},
     "output_type": "execute_result"
    }
   ],
   "source": [
    "total = df.shape[0]\n",
    "counts['count'].apply(lambda x: (x*100/total))"
   ]
  },
  {
   "cell_type": "markdown",
   "metadata": {},
   "source": [
    "* Gráfico para tornar mais simples a visualização dos dados"
   ]
  },
  {
   "cell_type": "code",
   "execution_count": 7,
   "metadata": {
    "collapsed": false
   },
   "outputs": [
    {
     "data": {
      "image/png": "[encoded data removed]",
      "text/plain": [
       "<matplotlib.figure.Figure at 0x7f9ea99a5cc0>"
      ]
     },
     "metadata": {},
     "output_type": "display_data"
    }
   ],
   "source": [
    "graph_joelho = sns.barplot(y='count',x='servico',data=counts)\n",
    "graph_joelho.set_xticklabels(graph_joelho.get_xticklabels(),rotation=-45)\n",
    "plt.title(\"Servicos mais relacionados com Artroplastia de Joelho - 30726034\")\n",
    "plt.ylim(0, 500)\n",
    "plt.show()"
   ]
  },
  {
   "cell_type": "markdown",
   "metadata": {},
   "source": [
    "# Dados de Artroplastia de Quadril (30724058)"
   ]
  },
  {
   "cell_type": "code",
   "execution_count": 8,
   "metadata": {
    "collapsed": false
   },
   "outputs": [],
   "source": [
    "df_quadril = pd.read_csv('data_30724058.csv', encoding = \"ISO-8859-1\")"
   ]
  },
  {
   "cell_type": "markdown",
   "metadata": {},
   "source": [
    "* Verificação se a importação está sendo feita corretamente"
   ]
  },
  {
   "cell_type": "code",
   "execution_count": 9,
   "metadata": {
    "collapsed": false
   },
   "outputs": [
    {
     "data": {
      "text/html": [
       "<div>\n",
       "<table border=\"1\" class=\"dataframe\">\n",
       "  <thead>\n",
       "    <tr style=\"text-align: right;\">\n",
       "      <th></th>\n",
       "      <th>cliente</th>\n",
       "      <th>id_lote</th>\n",
       "      <th>id_conta</th>\n",
       "      <th>id_item</th>\n",
       "      <th>servico</th>\n",
       "      <th>descricao_despesa</th>\n",
       "      <th>valor</th>\n",
       "      <th>qtde</th>\n",
       "    </tr>\n",
       "  </thead>\n",
       "  <tbody>\n",
       "    <tr>\n",
       "      <th>0</th>\n",
       "      <td>SUL AMERICA SAUDE</td>\n",
       "      <td>42705905</td>\n",
       "      <td>1135513201</td>\n",
       "      <td>486994376</td>\n",
       "      <td>30724058</td>\n",
       "      <td>ARTOPLASTIA FEMORAL  COXO FEMORAL</td>\n",
       "      <td>2376.88</td>\n",
       "      <td>1.0</td>\n",
       "    </tr>\n",
       "    <tr>\n",
       "      <th>1</th>\n",
       "      <td>SUL AMERICA SAUDE</td>\n",
       "      <td>42705905</td>\n",
       "      <td>1135513202</td>\n",
       "      <td>486994377</td>\n",
       "      <td>30724058</td>\n",
       "      <td>ARTOPLASTIA FEMORAL  COXO FEMORAL</td>\n",
       "      <td>713.06</td>\n",
       "      <td>1.0</td>\n",
       "    </tr>\n",
       "    <tr>\n",
       "      <th>2</th>\n",
       "      <td>SUL AMERICA SAUDE</td>\n",
       "      <td>42705905</td>\n",
       "      <td>1135513203</td>\n",
       "      <td>486994378</td>\n",
       "      <td>30724058</td>\n",
       "      <td>ARTOPLASTIA FEMORAL  COXO FEMORAL</td>\n",
       "      <td>475.38</td>\n",
       "      <td>1.0</td>\n",
       "    </tr>\n",
       "    <tr>\n",
       "      <th>3</th>\n",
       "      <td>SUL AMERICA SAUDE</td>\n",
       "      <td>42705905</td>\n",
       "      <td>1135513204</td>\n",
       "      <td>486994379</td>\n",
       "      <td>30724058</td>\n",
       "      <td>ARTOPLASTIA FEMORAL  COXO FEMORAL</td>\n",
       "      <td>475.38</td>\n",
       "      <td>1.0</td>\n",
       "    </tr>\n",
       "    <tr>\n",
       "      <th>4</th>\n",
       "      <td>BRADESCO SA?DE</td>\n",
       "      <td>42715920</td>\n",
       "      <td>1135677341</td>\n",
       "      <td>487923189</td>\n",
       "      <td>30724058</td>\n",
       "      <td>Artroplastia (qualquer tecnica ou versao de qu...</td>\n",
       "      <td>2417.92</td>\n",
       "      <td>1.0</td>\n",
       "    </tr>\n",
       "    <tr>\n",
       "      <th>5</th>\n",
       "      <td>BRADESCO SA?DE</td>\n",
       "      <td>42717679</td>\n",
       "      <td>1135706202</td>\n",
       "      <td>488059815</td>\n",
       "      <td>90508920</td>\n",
       "      <td>JELCO 4036 - Jelco - 20 (unidade)</td>\n",
       "      <td>5.14</td>\n",
       "      <td>2.0</td>\n",
       "    </tr>\n",
       "    <tr>\n",
       "      <th>6</th>\n",
       "      <td>BRADESCO SA?DE</td>\n",
       "      <td>42717679</td>\n",
       "      <td>1135706202</td>\n",
       "      <td>488059816</td>\n",
       "      <td>90509390</td>\n",
       "      <td>FITA MICROPOROSA HIPOALERGENICA 25 X 10 MT CAD...</td>\n",
       "      <td>0.8</td>\n",
       "      <td>80.0</td>\n",
       "    </tr>\n",
       "    <tr>\n",
       "      <th>7</th>\n",
       "      <td>BRADESCO SA?DE</td>\n",
       "      <td>42717679</td>\n",
       "      <td>1135706202</td>\n",
       "      <td>488059830</td>\n",
       "      <td>90517695</td>\n",
       "      <td>LUVA Luva Cirurgica Esteril - PAR (6,5 - 7,0 -...</td>\n",
       "      <td>2.55</td>\n",
       "      <td>3.0</td>\n",
       "    </tr>\n",
       "    <tr>\n",
       "      <th>8</th>\n",
       "      <td>BRADESCO SA?DE</td>\n",
       "      <td>42717679</td>\n",
       "      <td>1135706202</td>\n",
       "      <td>488059806</td>\n",
       "      <td>90506863</td>\n",
       "      <td>INFUSAO - ACESSORIOS Polifix 4</td>\n",
       "      <td>9.04</td>\n",
       "      <td>2.0</td>\n",
       "    </tr>\n",
       "    <tr>\n",
       "      <th>9</th>\n",
       "      <td>BRADESCO SA?DE</td>\n",
       "      <td>42717679</td>\n",
       "      <td>1135706202</td>\n",
       "      <td>488059836</td>\n",
       "      <td>81010311</td>\n",
       "      <td>TAXA DE SALA PORTE 6</td>\n",
       "      <td>559.32</td>\n",
       "      <td>1.0</td>\n",
       "    </tr>\n",
       "  </tbody>\n",
       "</table>\n",
       "</div>"
      ],
      "text/plain": [
       "             cliente   id_lote    id_conta    id_item   servico  \\\n",
       "0  SUL AMERICA SAUDE  42705905  1135513201  486994376  30724058   \n",
       "1  SUL AMERICA SAUDE  42705905  1135513202  486994377  30724058   \n",
       "2  SUL AMERICA SAUDE  42705905  1135513203  486994378  30724058   \n",
       "3  SUL AMERICA SAUDE  42705905  1135513204  486994379  30724058   \n",
       "4     BRADESCO SA?DE  42715920  1135677341  487923189  30724058   \n",
       "5     BRADESCO SA?DE  42717679  1135706202  488059815  90508920   \n",
       "6     BRADESCO SA?DE  42717679  1135706202  488059816  90509390   \n",
       "7     BRADESCO SA?DE  42717679  1135706202  488059830  90517695   \n",
       "8     BRADESCO SA?DE  42717679  1135706202  488059806  90506863   \n",
       "9     BRADESCO SA?DE  42717679  1135706202  488059836  81010311   \n",
       "\n",
       "                                   descricao_despesa    valor  qtde  \n",
       "0                  ARTOPLASTIA FEMORAL  COXO FEMORAL  2376.88   1.0  \n",
       "1                  ARTOPLASTIA FEMORAL  COXO FEMORAL   713.06   1.0  \n",
       "2                  ARTOPLASTIA FEMORAL  COXO FEMORAL   475.38   1.0  \n",
       "3                  ARTOPLASTIA FEMORAL  COXO FEMORAL   475.38   1.0  \n",
       "4  Artroplastia (qualquer tecnica ou versao de qu...  2417.92   1.0  \n",
       "5                  JELCO 4036 - Jelco - 20 (unidade)     5.14   2.0  \n",
       "6  FITA MICROPOROSA HIPOALERGENICA 25 X 10 MT CAD...      0.8  80.0  \n",
       "7  LUVA Luva Cirurgica Esteril - PAR (6,5 - 7,0 -...     2.55   3.0  \n",
       "8                     INFUSAO - ACESSORIOS Polifix 4     9.04   2.0  \n",
       "9                               TAXA DE SALA PORTE 6   559.32   1.0  "
      ]
     },
     "execution_count": 9,
     "metadata": {},
     "output_type": "execute_result"
    }
   ],
   "source": [
    "df_quadril.head(10)"
   ]
  },
  {
   "cell_type": "markdown",
   "metadata": {},
   "source": [
    "* Contagem de TUSS"
   ]
  },
  {
   "cell_type": "code",
   "execution_count": 10,
   "metadata": {
    "collapsed": true
   },
   "outputs": [],
   "source": [
    "counts_quadril = pd.DataFrame(df_quadril['servico'].value_counts().head(10)).reset_index().rename(columns={'index': 'servico', 'servico': 'count'})\n"
   ]
  },
  {
   "cell_type": "code",
   "execution_count": 11,
   "metadata": {
    "collapsed": false
   },
   "outputs": [
    {
     "data": {
      "text/html": [
       "<div>\n",
       "<table border=\"1\" class=\"dataframe\">\n",
       "  <thead>\n",
       "    <tr style=\"text-align: right;\">\n",
       "      <th></th>\n",
       "      <th>servico</th>\n",
       "      <th>count</th>\n",
       "    </tr>\n",
       "  </thead>\n",
       "  <tbody>\n",
       "    <tr>\n",
       "      <th>0</th>\n",
       "      <td>30724058</td>\n",
       "      <td>324</td>\n",
       "    </tr>\n",
       "    <tr>\n",
       "      <th>1</th>\n",
       "      <td>10102019</td>\n",
       "      <td>158</td>\n",
       "    </tr>\n",
       "    <tr>\n",
       "      <th>2</th>\n",
       "      <td>40304361</td>\n",
       "      <td>110</td>\n",
       "    </tr>\n",
       "    <tr>\n",
       "      <th>3</th>\n",
       "      <td>40302318</td>\n",
       "      <td>104</td>\n",
       "    </tr>\n",
       "    <tr>\n",
       "      <th>4</th>\n",
       "      <td>40302423</td>\n",
       "      <td>101</td>\n",
       "    </tr>\n",
       "    <tr>\n",
       "      <th>5</th>\n",
       "      <td>40301630</td>\n",
       "      <td>99</td>\n",
       "    </tr>\n",
       "    <tr>\n",
       "      <th>6</th>\n",
       "      <td>40302580</td>\n",
       "      <td>96</td>\n",
       "    </tr>\n",
       "    <tr>\n",
       "      <th>7</th>\n",
       "      <td>10104020</td>\n",
       "      <td>85</td>\n",
       "    </tr>\n",
       "    <tr>\n",
       "      <th>8</th>\n",
       "      <td>70015368</td>\n",
       "      <td>67</td>\n",
       "    </tr>\n",
       "    <tr>\n",
       "      <th>9</th>\n",
       "      <td>70705330</td>\n",
       "      <td>67</td>\n",
       "    </tr>\n",
       "  </tbody>\n",
       "</table>\n",
       "</div>"
      ],
      "text/plain": [
       "    servico  count\n",
       "0  30724058    324\n",
       "1  10102019    158\n",
       "2  40304361    110\n",
       "3  40302318    104\n",
       "4  40302423    101\n",
       "5  40301630     99\n",
       "6  40302580     96\n",
       "7  10104020     85\n",
       "8  70015368     67\n",
       "9  70705330     67"
      ]
     },
     "execution_count": 11,
     "metadata": {},
     "output_type": "execute_result"
    }
   ],
   "source": [
    "counts_quadril"
   ]
  },
  {
   "cell_type": "markdown",
   "metadata": {},
   "source": [
    "* Porcentagem de Ocorrências"
   ]
  },
  {
   "cell_type": "code",
   "execution_count": 12,
   "metadata": {
    "collapsed": false
   },
   "outputs": [
    {
     "data": {
      "text/plain": [
       "0    3.24\n",
       "1    1.58\n",
       "2    1.10\n",
       "3    1.04\n",
       "4    1.01\n",
       "5    0.99\n",
       "6    0.96\n",
       "7    0.85\n",
       "8    0.67\n",
       "9    0.67\n",
       "Name: count, dtype: float64"
      ]
     },
     "execution_count": 12,
     "metadata": {},
     "output_type": "execute_result"
    }
   ],
   "source": [
    "total = df.shape[0]\n",
    "counts_quadril['count'].apply(lambda x: (x*100/total))"
   ]
  },
  {
   "cell_type": "markdown",
   "metadata": {},
   "source": [
    "* Gráficos para facilitar a visualização"
   ]
  },
  {
   "cell_type": "code",
   "execution_count": 13,
   "metadata": {
    "collapsed": false
   },
   "outputs": [
    {
     "data": {
      "image/png": "[encoded data removed]",
      "text/plain": [
       "<matplotlib.figure.Figure at 0x7f9ea92a4cf8>"
      ]
     },
     "metadata": {},
     "output_type": "display_data"
    }
   ],
   "source": [
    "graph_quadril = sns.barplot(y='count',x='servico',data=counts_quadril)\n",
    "graph_quadril.set_xticklabels(graph_quadril.get_xticklabels(),rotation=-45)\n",
    "plt.title(\"Servicos mais relacionados com Artroplastia de Quadril - 30724058\")\n",
    "plt.ylim(0, 500)\n",
    "plt.show()"
   ]
  },
  {
   "cell_type": "markdown",
   "metadata": {},
   "source": [
    "# Dados de Ruptura do Manguito Rotador (30735068)"
   ]
  },
  {
   "cell_type": "code",
   "execution_count": 14,
   "metadata": {
    "collapsed": true
   },
   "outputs": [],
   "source": [
    "df_rotador = pd.read_csv('data_30735068.csv', encoding = \"ISO-8859-1\")"
   ]
  },
  {
   "cell_type": "markdown",
   "metadata": {},
   "source": [
    "* Verificação se a importação está sendo feita corretamente"
   ]
  },
  {
   "cell_type": "code",
   "execution_count": 15,
   "metadata": {
    "collapsed": false
   },
   "outputs": [
    {
     "data": {
      "text/html": [
       "<div>\n",
       "<table border=\"1\" class=\"dataframe\">\n",
       "  <thead>\n",
       "    <tr style=\"text-align: right;\">\n",
       "      <th></th>\n",
       "      <th>cliente</th>\n",
       "      <th>id_lote</th>\n",
       "      <th>id_conta</th>\n",
       "      <th>id_item</th>\n",
       "      <th>servico</th>\n",
       "      <th>descricao_despesa</th>\n",
       "      <th>valor</th>\n",
       "      <th>qtde</th>\n",
       "    </tr>\n",
       "  </thead>\n",
       "  <tbody>\n",
       "    <tr>\n",
       "      <th>0</th>\n",
       "      <td>FUNDAÃÃO ASSEFAZ</td>\n",
       "      <td>42705077</td>\n",
       "      <td>1135496119</td>\n",
       "      <td>486940563</td>\n",
       "      <td>70705305</td>\n",
       "      <td>Seringa Descartavel 5cc LS</td>\n",
       "      <td>2.20</td>\n",
       "      <td>1.0</td>\n",
       "    </tr>\n",
       "    <tr>\n",
       "      <th>1</th>\n",
       "      <td>FUNDAÃÃO ASSEFAZ</td>\n",
       "      <td>42705077</td>\n",
       "      <td>1135496119</td>\n",
       "      <td>486940518</td>\n",
       "      <td>0000162137</td>\n",
       "      <td>Campo Operatorio Estrela 25x28cm C/5 unid.</td>\n",
       "      <td>540.76</td>\n",
       "      <td>4.0</td>\n",
       "    </tr>\n",
       "    <tr>\n",
       "      <th>2</th>\n",
       "      <td>FUNDAÃÃO ASSEFAZ</td>\n",
       "      <td>42705077</td>\n",
       "      <td>1135496119</td>\n",
       "      <td>486940504</td>\n",
       "      <td>90196503</td>\n",
       "      <td>Profenid 100mg inj IV</td>\n",
       "      <td>13.54</td>\n",
       "      <td>1.0</td>\n",
       "    </tr>\n",
       "    <tr>\n",
       "      <th>3</th>\n",
       "      <td>FUNDAÃÃO ASSEFAZ</td>\n",
       "      <td>42705077</td>\n",
       "      <td>1135496119</td>\n",
       "      <td>486940519</td>\n",
       "      <td>70094195</td>\n",
       "      <td>Capa P/ Mesa de Mayo Campo Impermeavel</td>\n",
       "      <td>10.65</td>\n",
       "      <td>1.0</td>\n",
       "    </tr>\n",
       "    <tr>\n",
       "      <th>4</th>\n",
       "      <td>FUNDAÃÃO ASSEFAZ</td>\n",
       "      <td>42705077</td>\n",
       "      <td>1135496119</td>\n",
       "      <td>486940510</td>\n",
       "      <td>90075072</td>\n",
       "      <td>Soro Fisiologico 0,9% (NaCl) 500ml inj</td>\n",
       "      <td>12.24</td>\n",
       "      <td>2.0</td>\n",
       "    </tr>\n",
       "    <tr>\n",
       "      <th>5</th>\n",
       "      <td>FUNDAÃÃO ASSEFAZ</td>\n",
       "      <td>42705077</td>\n",
       "      <td>1135496119</td>\n",
       "      <td>486940559</td>\n",
       "      <td>70176027</td>\n",
       "      <td>Compressa 7,5 x 7,5  11 fios</td>\n",
       "      <td>10.78</td>\n",
       "      <td>2.0</td>\n",
       "    </tr>\n",
       "    <tr>\n",
       "      <th>6</th>\n",
       "      <td>FUNDAÃÃO ASSEFAZ</td>\n",
       "      <td>42705077</td>\n",
       "      <td>1135496119</td>\n",
       "      <td>486940517</td>\n",
       "      <td>0002340020</td>\n",
       "      <td>Bisturi  N  11</td>\n",
       "      <td>34.66</td>\n",
       "      <td>2.0</td>\n",
       "    </tr>\n",
       "    <tr>\n",
       "      <th>7</th>\n",
       "      <td>FUNDAÃÃO ASSEFAZ</td>\n",
       "      <td>42705077</td>\n",
       "      <td>1135496119</td>\n",
       "      <td>486940509</td>\n",
       "      <td>90075153</td>\n",
       "      <td>Soro Fisiologico 0,9% (NaCl) 50ml inj</td>\n",
       "      <td>6.44</td>\n",
       "      <td>1.0</td>\n",
       "    </tr>\n",
       "    <tr>\n",
       "      <th>8</th>\n",
       "      <td>FUNDAÃÃO ASSEFAZ</td>\n",
       "      <td>42705077</td>\n",
       "      <td>1135496119</td>\n",
       "      <td>486940508</td>\n",
       "      <td>90075110</td>\n",
       "      <td>Soro Fisiologico 0,9% (NaCl) 1000ml inj</td>\n",
       "      <td>141.78</td>\n",
       "      <td>17.0</td>\n",
       "    </tr>\n",
       "    <tr>\n",
       "      <th>9</th>\n",
       "      <td>FUNDAÃÃO ASSEFAZ</td>\n",
       "      <td>42705077</td>\n",
       "      <td>1135496119</td>\n",
       "      <td>486940555</td>\n",
       "      <td>90075099</td>\n",
       "      <td>Soro Fisiologico 0,9% (NaCl) 100ml inj</td>\n",
       "      <td>17.70</td>\n",
       "      <td>3.0</td>\n",
       "    </tr>\n",
       "  </tbody>\n",
       "</table>\n",
       "</div>"
      ],
      "text/plain": [
       "              cliente   id_lote    id_conta    id_item     servico  \\\n",
       "0  FUNDAÃÃO ASSEFAZ  42705077  1135496119  486940563    70705305   \n",
       "1  FUNDAÃÃO ASSEFAZ  42705077  1135496119  486940518  0000162137   \n",
       "2  FUNDAÃÃO ASSEFAZ  42705077  1135496119  486940504    90196503   \n",
       "3  FUNDAÃÃO ASSEFAZ  42705077  1135496119  486940519    70094195   \n",
       "4  FUNDAÃÃO ASSEFAZ  42705077  1135496119  486940510    90075072   \n",
       "5  FUNDAÃÃO ASSEFAZ  42705077  1135496119  486940559    70176027   \n",
       "6  FUNDAÃÃO ASSEFAZ  42705077  1135496119  486940517  0002340020   \n",
       "7  FUNDAÃÃO ASSEFAZ  42705077  1135496119  486940509    90075153   \n",
       "8  FUNDAÃÃO ASSEFAZ  42705077  1135496119  486940508    90075110   \n",
       "9  FUNDAÃÃO ASSEFAZ  42705077  1135496119  486940555    90075099   \n",
       "\n",
       "                            descricao_despesa   valor  qtde  \n",
       "0                  Seringa Descartavel 5cc LS    2.20   1.0  \n",
       "1  Campo Operatorio Estrela 25x28cm C/5 unid.  540.76   4.0  \n",
       "2                       Profenid 100mg inj IV   13.54   1.0  \n",
       "3      Capa P/ Mesa de Mayo Campo Impermeavel   10.65   1.0  \n",
       "4      Soro Fisiologico 0,9% (NaCl) 500ml inj   12.24   2.0  \n",
       "5                Compressa 7,5 x 7,5  11 fios   10.78   2.0  \n",
       "6                              Bisturi  N  11   34.66   2.0  \n",
       "7       Soro Fisiologico 0,9% (NaCl) 50ml inj    6.44   1.0  \n",
       "8     Soro Fisiologico 0,9% (NaCl) 1000ml inj  141.78  17.0  \n",
       "9      Soro Fisiologico 0,9% (NaCl) 100ml inj   17.70   3.0  "
      ]
     },
     "execution_count": 15,
     "metadata": {},
     "output_type": "execute_result"
    }
   ],
   "source": [
    "df_rotador.head(10)"
   ]
  },
  {
   "cell_type": "markdown",
   "metadata": {},
   "source": [
    "* Contagem de ocorrências de cada TUSS"
   ]
  },
  {
   "cell_type": "code",
   "execution_count": 16,
   "metadata": {
    "collapsed": false
   },
   "outputs": [],
   "source": [
    "counts_rotador = pd.DataFrame(df_rotador['servico'].value_counts().head(10)).reset_index().rename(columns={'index': 'servico', 'servico': 'count'})\n"
   ]
  },
  {
   "cell_type": "code",
   "execution_count": 17,
   "metadata": {
    "collapsed": false
   },
   "outputs": [
    {
     "data": {
      "text/html": [
       "<div>\n",
       "<table border=\"1\" class=\"dataframe\">\n",
       "  <thead>\n",
       "    <tr style=\"text-align: right;\">\n",
       "      <th></th>\n",
       "      <th>servico</th>\n",
       "      <th>count</th>\n",
       "    </tr>\n",
       "  </thead>\n",
       "  <tbody>\n",
       "    <tr>\n",
       "      <th>0</th>\n",
       "      <td>30735068</td>\n",
       "      <td>508</td>\n",
       "    </tr>\n",
       "    <tr>\n",
       "      <th>1</th>\n",
       "      <td>30735033</td>\n",
       "      <td>295</td>\n",
       "    </tr>\n",
       "    <tr>\n",
       "      <th>2</th>\n",
       "      <td>30735084</td>\n",
       "      <td>199</td>\n",
       "    </tr>\n",
       "    <tr>\n",
       "      <th>3</th>\n",
       "      <td>30735092</td>\n",
       "      <td>134</td>\n",
       "    </tr>\n",
       "    <tr>\n",
       "      <th>4</th>\n",
       "      <td>30735017</td>\n",
       "      <td>88</td>\n",
       "    </tr>\n",
       "    <tr>\n",
       "      <th>5</th>\n",
       "      <td>90008332</td>\n",
       "      <td>75</td>\n",
       "    </tr>\n",
       "    <tr>\n",
       "      <th>6</th>\n",
       "      <td>30717140</td>\n",
       "      <td>74</td>\n",
       "    </tr>\n",
       "    <tr>\n",
       "      <th>7</th>\n",
       "      <td>90196031</td>\n",
       "      <td>67</td>\n",
       "    </tr>\n",
       "    <tr>\n",
       "      <th>8</th>\n",
       "      <td>70014370</td>\n",
       "      <td>65</td>\n",
       "    </tr>\n",
       "    <tr>\n",
       "      <th>9</th>\n",
       "      <td>70705330</td>\n",
       "      <td>61</td>\n",
       "    </tr>\n",
       "  </tbody>\n",
       "</table>\n",
       "</div>"
      ],
      "text/plain": [
       "    servico  count\n",
       "0  30735068    508\n",
       "1  30735033    295\n",
       "2  30735084    199\n",
       "3  30735092    134\n",
       "4  30735017     88\n",
       "5  90008332     75\n",
       "6  30717140     74\n",
       "7  90196031     67\n",
       "8  70014370     65\n",
       "9  70705330     61"
      ]
     },
     "execution_count": 17,
     "metadata": {},
     "output_type": "execute_result"
    }
   ],
   "source": [
    "counts_rotador"
   ]
  },
  {
   "cell_type": "markdown",
   "metadata": {},
   "source": [
    "* Porcentagem de Ocorrências"
   ]
  },
  {
   "cell_type": "code",
   "execution_count": 18,
   "metadata": {
    "collapsed": false
   },
   "outputs": [
    {
     "data": {
      "text/plain": [
       "0    5.08\n",
       "1    2.95\n",
       "2    1.99\n",
       "3    1.34\n",
       "4    0.88\n",
       "5    0.75\n",
       "6    0.74\n",
       "7    0.67\n",
       "8    0.65\n",
       "9    0.61\n",
       "Name: count, dtype: float64"
      ]
     },
     "execution_count": 18,
     "metadata": {},
     "output_type": "execute_result"
    }
   ],
   "source": [
    "total = df.shape[0]\n",
    "counts_rotador['count'].apply(lambda x: (x*100/total))"
   ]
  },
  {
   "cell_type": "markdown",
   "metadata": {},
   "source": [
    "* Alguns gráficos para facilitar a visualização "
   ]
  },
  {
   "cell_type": "code",
   "execution_count": 19,
   "metadata": {
    "collapsed": false
   },
   "outputs": [
    {
     "data": {
      "image/png": "[encoded data removed]",
      "text/plain": [
       "<matplotlib.figure.Figure at 0x7f9ea94d9da0>"
      ]
     },
     "metadata": {},
     "output_type": "display_data"
    }
   ],
   "source": [
    "graph = sns.barplot(y='count',x='servico',data=counts_rotador)\n",
    "graph.set_xticklabels(graph.get_xticklabels(),rotation=-45)\n",
    "plt.title(\"Servicos mais relacionados com Ruptura do Manguito Rotador - 30735068\")\n",
    "plt.ylim(0, 500)\n",
    "plt.show()"
   ]
  }
 ],
 "metadata": {
  "kernelspec": {
   "display_name": "Python 3",
   "language": "python",
   "name": "python3"
  },
  "language_info": {
   "codemirror_mode": {
    "name": "ipython",
    "version": 3
   },
   "file_extension": ".py",
   "mimetype": "text/x-python",
   "name": "python",
   "nbconvert_exporter": "python",
   "pygments_lexer": "ipython3",
   "version": "3.6.0"
  }
 },
 "nbformat": 4,
 "nbformat_minor": 2
}
