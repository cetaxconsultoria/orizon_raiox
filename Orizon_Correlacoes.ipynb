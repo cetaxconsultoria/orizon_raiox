{
 "cells": [
  {
   "cell_type": "markdown",
   "metadata": {},
   "source": [
    "# Orizon: Correlações entre Exames"
   ]
  },
  {
   "cell_type": "markdown",
   "metadata": {},
   "source": [
    "Vamos entender como os serviços se relacionam entre si computando a frequencia relativa à cada um deles por ID conta. Por exemplo, para um serviço X, selecionamos todos os id_contas em que ele aparece, e então computamos a frequencia em que os outros serivços aparecem junto deste serviço. "
   ]
  },
  {
   "cell_type": "code",
   "execution_count": 49,
   "metadata": {
    "collapsed": false
   },
   "outputs": [],
   "source": [
    "import pandas as pd\n",
    "import numpy as np\n",
    "from IPython.display import display"
   ]
  },
  {
   "cell_type": "markdown",
   "metadata": {},
   "source": [
    "Lendo os dados para a dataframe:"
   ]
  },
  {
   "cell_type": "code",
   "execution_count": 50,
   "metadata": {
    "collapsed": false
   },
   "outputs": [],
   "source": [
    "df = pd.read_csv(\"../orizon/full_extracts/data_30726034.csv\", encoding = \"ISO-8859-1\")\n",
    "master = \"'30726034'\""
   ]
  },
  {
   "cell_type": "code",
   "execution_count": 51,
   "metadata": {
    "collapsed": false
   },
   "outputs": [
    {
     "data": {
      "text/html": [
       "<div>\n",
       "<table border=\"1\" class=\"dataframe\">\n",
       "  <thead>\n",
       "    <tr style=\"text-align: right;\">\n",
       "      <th></th>\n",
       "      <th>'categoria'</th>\n",
       "      <th>'id_cliente'</th>\n",
       "      <th>'cliente'</th>\n",
       "      <th>'id_lote'</th>\n",
       "      <th>'id_conta'</th>\n",
       "      <th>'guia_prestador'</th>\n",
       "      <th>'id_item'</th>\n",
       "      <th>'id_prestador'</th>\n",
       "      <th>'prestador'</th>\n",
       "      <th>'cnpj'</th>\n",
       "      <th>...</th>\n",
       "      <th>'valor'</th>\n",
       "      <th>'origem'</th>\n",
       "      <th>'cnpj_cpf_codnaoperadora_executante'</th>\n",
       "      <th>'data'</th>\n",
       "      <th>'ano_mes'</th>\n",
       "      <th>Unnamed: 47</th>\n",
       "      <th>Unnamed: 48</th>\n",
       "      <th>Unnamed: 49</th>\n",
       "      <th>Unnamed: 50</th>\n",
       "      <th>Unnamed: 51</th>\n",
       "    </tr>\n",
       "  </thead>\n",
       "  <tbody>\n",
       "    <tr>\n",
       "      <th>0</th>\n",
       "      <td>'Seguradora Especializada em Saude'</td>\n",
       "      <td>'48'</td>\n",
       "      <td>'BRADESCO SAÃDE'</td>\n",
       "      <td>'42704626'</td>\n",
       "      <td>'1135485394'</td>\n",
       "      <td>'3280780'</td>\n",
       "      <td>'486879191'</td>\n",
       "      <td>'46069'</td>\n",
       "      <td>'CLINICA ORTOPEDICA PAULISTA LTDA'</td>\n",
       "      <td>'03140417000148'</td>\n",
       "      <td>...</td>\n",
       "      <td>'1.0'</td>\n",
       "      <td>'400.14'</td>\n",
       "      <td>'0000282693'</td>\n",
       "      <td>'0000282693'</td>\n",
       "      <td>'2016-01-02'</td>\n",
       "      <td>'201601'</td>\n",
       "      <td>NaN</td>\n",
       "      <td>NaN</td>\n",
       "      <td>NaN</td>\n",
       "      <td>NaN</td>\n",
       "    </tr>\n",
       "    <tr>\n",
       "      <th>1</th>\n",
       "      <td>'Seguradora Especializada em Saude'</td>\n",
       "      <td>'48'</td>\n",
       "      <td>'BRADESCO SAÃDE'</td>\n",
       "      <td>'42704626'</td>\n",
       "      <td>'1135485394'</td>\n",
       "      <td>'3280780'</td>\n",
       "      <td>'486879192'</td>\n",
       "      <td>'46069'</td>\n",
       "      <td>'CLINICA ORTOPEDICA PAULISTA LTDA'</td>\n",
       "      <td>'03140417000148'</td>\n",
       "      <td>...</td>\n",
       "      <td>'1.0'</td>\n",
       "      <td>'400.14'</td>\n",
       "      <td>'0000282693'</td>\n",
       "      <td>'0000282693'</td>\n",
       "      <td>'2016-01-02'</td>\n",
       "      <td>'201601'</td>\n",
       "      <td>NaN</td>\n",
       "      <td>NaN</td>\n",
       "      <td>NaN</td>\n",
       "      <td>NaN</td>\n",
       "    </tr>\n",
       "    <tr>\n",
       "      <th>2</th>\n",
       "      <td>'Seguradora Especializada em Saude'</td>\n",
       "      <td>'48'</td>\n",
       "      <td>'BRADESCO SAÃDE'</td>\n",
       "      <td>'42704626'</td>\n",
       "      <td>'1135485394'</td>\n",
       "      <td>'3280780'</td>\n",
       "      <td>'486879192'</td>\n",
       "      <td>'46069'</td>\n",
       "      <td>'CLINICA ORTOPEDICA PAULISTA LTDA'</td>\n",
       "      <td>'03140417000148'</td>\n",
       "      <td>...</td>\n",
       "      <td>'1.0'</td>\n",
       "      <td>'400.14'</td>\n",
       "      <td>'0000282693'</td>\n",
       "      <td>'0000282693'</td>\n",
       "      <td>'2016-01-02'</td>\n",
       "      <td>'201601'</td>\n",
       "      <td>NaN</td>\n",
       "      <td>NaN</td>\n",
       "      <td>NaN</td>\n",
       "      <td>NaN</td>\n",
       "    </tr>\n",
       "    <tr>\n",
       "      <th>3</th>\n",
       "      <td>'Seguradora Especializada em Saude'</td>\n",
       "      <td>'48'</td>\n",
       "      <td>'BRADESCO SAÃDE'</td>\n",
       "      <td>'42704626'</td>\n",
       "      <td>'1135485394'</td>\n",
       "      <td>'3280780'</td>\n",
       "      <td>'486879191'</td>\n",
       "      <td>'46069'</td>\n",
       "      <td>'CLINICA ORTOPEDICA PAULISTA LTDA'</td>\n",
       "      <td>'03140417000148'</td>\n",
       "      <td>...</td>\n",
       "      <td>'1.0'</td>\n",
       "      <td>'400.14'</td>\n",
       "      <td>'0000282693'</td>\n",
       "      <td>'0000282693'</td>\n",
       "      <td>'2016-01-02'</td>\n",
       "      <td>'201601'</td>\n",
       "      <td>NaN</td>\n",
       "      <td>NaN</td>\n",
       "      <td>NaN</td>\n",
       "      <td>NaN</td>\n",
       "    </tr>\n",
       "    <tr>\n",
       "      <th>4</th>\n",
       "      <td>'Seguradora Especializada em Saude'</td>\n",
       "      <td>'48'</td>\n",
       "      <td>'BRADESCO SAÃDE'</td>\n",
       "      <td>'42704626'</td>\n",
       "      <td>'1135485394'</td>\n",
       "      <td>'3280780'</td>\n",
       "      <td>'486879191'</td>\n",
       "      <td>'46069'</td>\n",
       "      <td>'CLINICA ORTOPEDICA PAULISTA LTDA'</td>\n",
       "      <td>'03140417000148'</td>\n",
       "      <td>...</td>\n",
       "      <td>'1.0'</td>\n",
       "      <td>'400.14'</td>\n",
       "      <td>'0000282693'</td>\n",
       "      <td>'0000282693'</td>\n",
       "      <td>'2016-01-02'</td>\n",
       "      <td>'201601'</td>\n",
       "      <td>NaN</td>\n",
       "      <td>NaN</td>\n",
       "      <td>NaN</td>\n",
       "      <td>NaN</td>\n",
       "    </tr>\n",
       "  </tbody>\n",
       "</table>\n",
       "<p>5 rows × 52 columns</p>\n",
       "</div>"
      ],
      "text/plain": [
       "                           'categoria' 'id_cliente'          'cliente'  \\\n",
       "0  'Seguradora Especializada em Saude'         '48'  'BRADESCO SAÃDE'   \n",
       "1  'Seguradora Especializada em Saude'         '48'  'BRADESCO SAÃDE'   \n",
       "2  'Seguradora Especializada em Saude'         '48'  'BRADESCO SAÃDE'   \n",
       "3  'Seguradora Especializada em Saude'         '48'  'BRADESCO SAÃDE'   \n",
       "4  'Seguradora Especializada em Saude'         '48'  'BRADESCO SAÃDE'   \n",
       "\n",
       "    'id_lote'    'id_conta' 'guia_prestador'    'id_item' 'id_prestador'  \\\n",
       "0  '42704626'  '1135485394'        '3280780'  '486879191'        '46069'   \n",
       "1  '42704626'  '1135485394'        '3280780'  '486879192'        '46069'   \n",
       "2  '42704626'  '1135485394'        '3280780'  '486879192'        '46069'   \n",
       "3  '42704626'  '1135485394'        '3280780'  '486879191'        '46069'   \n",
       "4  '42704626'  '1135485394'        '3280780'  '486879191'        '46069'   \n",
       "\n",
       "                          'prestador'            'cnpj'     ...     'valor'  \\\n",
       "0  'CLINICA ORTOPEDICA PAULISTA LTDA'  '03140417000148'     ...       '1.0'   \n",
       "1  'CLINICA ORTOPEDICA PAULISTA LTDA'  '03140417000148'     ...       '1.0'   \n",
       "2  'CLINICA ORTOPEDICA PAULISTA LTDA'  '03140417000148'     ...       '1.0'   \n",
       "3  'CLINICA ORTOPEDICA PAULISTA LTDA'  '03140417000148'     ...       '1.0'   \n",
       "4  'CLINICA ORTOPEDICA PAULISTA LTDA'  '03140417000148'     ...       '1.0'   \n",
       "\n",
       "   'origem' 'cnpj_cpf_codnaoperadora_executante'        'data'     'ano_mes'  \\\n",
       "0  '400.14'                         '0000282693'  '0000282693'  '2016-01-02'   \n",
       "1  '400.14'                         '0000282693'  '0000282693'  '2016-01-02'   \n",
       "2  '400.14'                         '0000282693'  '0000282693'  '2016-01-02'   \n",
       "3  '400.14'                         '0000282693'  '0000282693'  '2016-01-02'   \n",
       "4  '400.14'                         '0000282693'  '0000282693'  '2016-01-02'   \n",
       "\n",
       "  Unnamed: 47 Unnamed: 48 Unnamed: 49 Unnamed: 50 Unnamed: 51  \n",
       "0    '201601'         NaN         NaN         NaN         NaN  \n",
       "1    '201601'         NaN         NaN         NaN         NaN  \n",
       "2    '201601'         NaN         NaN         NaN         NaN  \n",
       "3    '201601'         NaN         NaN         NaN         NaN  \n",
       "4    '201601'         NaN         NaN         NaN         NaN  \n",
       "\n",
       "[5 rows x 52 columns]"
      ]
     },
     "execution_count": 51,
     "metadata": {},
     "output_type": "execute_result"
    }
   ],
   "source": [
    "df.head()"
   ]
  },
  {
   "cell_type": "code",
   "execution_count": 52,
   "metadata": {
    "collapsed": true
   },
   "outputs": [],
   "source": [
    "df['\\'data\\''].loc[df['\\'servico\\''].str.contains(r'^.{4}(?!\\d+).*')] = 'Deslocado'\n",
    "df['\\'tipo_item\\''].loc[df['\\'data\\''] == 'Deslocado'] = df['\\'desc_tipoalta\\''].loc[df['\\'data\\''] == 'Deslocado']\n",
    "df['\\'servico\\''].loc[df['\\'data\\''] == 'Deslocado'] = df['\\'descricao_despesa\\''].loc[df['\\'data\\''] == 'Deslocado']\n",
    "df['\\'descricao_despesa\\''].loc[df['\\'data\\''] == 'Deslocado'] = df['\\'qtde\\''].loc[df['\\'data\\''] == 'Deslocado']\n",
    "df['\\'qtde\\''].loc[df['\\'data\\''] == 'Deslocado'] = df['\\'valor\\''].loc[df['\\'data\\''] == 'Deslocado']\n",
    "df['\\'valor\\''].loc[df['\\'data\\''] == 'Deslocado'] = df['\\'origem\\''].loc[df['\\'data\\''] == 'Deslocado']"
   ]
  },
  {
   "cell_type": "markdown",
   "metadata": {},
   "source": [
    "Selecionando apenas os campos relevantes para esta análise:"
   ]
  },
  {
   "cell_type": "code",
   "execution_count": 53,
   "metadata": {
    "collapsed": true
   },
   "outputs": [],
   "source": [
    "selected_df = pd.concat([df[\"'id_conta'\"], df[\"'servico'\"], df[\"'descricao_despesa'\"], df[\"'tipo_item'\"]], axis=1)"
   ]
  },
  {
   "cell_type": "markdown",
   "metadata": {},
   "source": [
    "Removendo as aspas das labels para facilitar o trabalho:"
   ]
  },
  {
   "cell_type": "code",
   "execution_count": 54,
   "metadata": {
    "collapsed": true
   },
   "outputs": [],
   "source": [
    "selected_df.columns = [\"id_conta\", \"servico\", \"descricao\", \"tipo_item\"]"
   ]
  },
  {
   "cell_type": "markdown",
   "metadata": {},
   "source": [
    "Vamos trabalhar apenas com os id_conta atrelados à mais de um serviço:"
   ]
  },
  {
   "cell_type": "code",
   "execution_count": 55,
   "metadata": {
    "collapsed": true
   },
   "outputs": [],
   "source": [
    "count_df = selected_df.groupby(\"id_conta\").count()"
   ]
  },
  {
   "cell_type": "code",
   "execution_count": 56,
   "metadata": {
    "collapsed": true
   },
   "outputs": [],
   "source": [
    "def get_count(acc_id):\n",
    "    return count_df.lookup([acc_id], [\"servico\"])[0]"
   ]
  },
  {
   "cell_type": "code",
   "execution_count": 57,
   "metadata": {
    "collapsed": true
   },
   "outputs": [],
   "source": [
    "selected_df[\"count\"] = selected_df[\"id_conta\"].map(get_count)"
   ]
  },
  {
   "cell_type": "code",
   "execution_count": 58,
   "metadata": {
    "collapsed": true
   },
   "outputs": [],
   "source": [
    "selected_df = selected_df[selected_df[\"count\"] > 1].drop(\"count\", axis=1)"
   ]
  },
  {
   "cell_type": "markdown",
   "metadata": {},
   "source": [
    "Algumas observações possuem apenas \" no campo serviço, vamos filtra-las também:"
   ]
  },
  {
   "cell_type": "code",
   "execution_count": 59,
   "metadata": {
    "collapsed": true
   },
   "outputs": [],
   "source": [
    "selected_df = selected_df[selected_df[\"servico\"] != '\"']\n",
    "selected_df = selected_df[selected_df[\"servico\"] != \"''\"]"
   ]
  },
  {
   "cell_type": "code",
   "execution_count": 60,
   "metadata": {
    "collapsed": false
   },
   "outputs": [
    {
     "data": {
      "text/html": [
       "<div>\n",
       "<table border=\"1\" class=\"dataframe\">\n",
       "  <thead>\n",
       "    <tr style=\"text-align: right;\">\n",
       "      <th></th>\n",
       "      <th>id_conta</th>\n",
       "      <th>servico</th>\n",
       "      <th>descricao</th>\n",
       "      <th>tipo_item</th>\n",
       "    </tr>\n",
       "  </thead>\n",
       "  <tbody>\n",
       "    <tr>\n",
       "      <th>19</th>\n",
       "      <td>'1135853444'</td>\n",
       "      <td>'30726042'</td>\n",
       "      <td>'Artrotomia - tratamento cirÃºrgico'</td>\n",
       "      <td>'PROCEDIMENTO'</td>\n",
       "    </tr>\n",
       "    <tr>\n",
       "      <th>20</th>\n",
       "      <td>'1135853444'</td>\n",
       "      <td>'30726239'</td>\n",
       "      <td>'Realinhamentos do aparelho extensor - tratame...</td>\n",
       "      <td>'PROCEDIMENTO'</td>\n",
       "    </tr>\n",
       "    <tr>\n",
       "      <th>21</th>\n",
       "      <td>'1135853444'</td>\n",
       "      <td>'30726034'</td>\n",
       "      <td>'Artroplastia total de joelho com implantes - ...</td>\n",
       "      <td>'PROCEDIMENTO'</td>\n",
       "    </tr>\n",
       "    <tr>\n",
       "      <th>22</th>\n",
       "      <td>'1135853446'</td>\n",
       "      <td>'30726042'</td>\n",
       "      <td>'Artrotomia - tratamento cirÃºrgico'</td>\n",
       "      <td>'PROCEDIMENTO'</td>\n",
       "    </tr>\n",
       "    <tr>\n",
       "      <th>23</th>\n",
       "      <td>'1135853446'</td>\n",
       "      <td>'30726239'</td>\n",
       "      <td>'Realinhamentos do aparelho extensor - tratame...</td>\n",
       "      <td>'PROCEDIMENTO'</td>\n",
       "    </tr>\n",
       "  </tbody>\n",
       "</table>\n",
       "</div>"
      ],
      "text/plain": [
       "        id_conta     servico  \\\n",
       "19  '1135853444'  '30726042'   \n",
       "20  '1135853444'  '30726239'   \n",
       "21  '1135853444'  '30726034'   \n",
       "22  '1135853446'  '30726042'   \n",
       "23  '1135853446'  '30726239'   \n",
       "\n",
       "                                            descricao       tipo_item  \n",
       "19               'Artrotomia - tratamento cirÃºrgico'  'PROCEDIMENTO'  \n",
       "20  'Realinhamentos do aparelho extensor - tratame...  'PROCEDIMENTO'  \n",
       "21  'Artroplastia total de joelho com implantes - ...  'PROCEDIMENTO'  \n",
       "22               'Artrotomia - tratamento cirÃºrgico'  'PROCEDIMENTO'  \n",
       "23  'Realinhamentos do aparelho extensor - tratame...  'PROCEDIMENTO'  "
      ]
     },
     "execution_count": 60,
     "metadata": {},
     "output_type": "execute_result"
    }
   ],
   "source": [
    "selected_df.head()"
   ]
  },
  {
   "cell_type": "markdown",
   "metadata": {},
   "source": [
    "O resultado que estamos buscando é uma tabela que mostre, para cada serviço, os serviços que aparecem com mais frequencia junto dele. Para isso, começamos definindo uma função para selecionar apenas os id_conta que contem um dado serviço:"
   ]
  },
  {
   "cell_type": "code",
   "execution_count": 61,
   "metadata": {
    "collapsed": false
   },
   "outputs": [],
   "source": [
    "def select_ids_containing_service(service):\n",
    "    acc_ids = selected_df[selected_df[\"servico\"] == service][\"id_conta\"].values\n",
    "    return selected_df.loc[selected_df[\"id_conta\"].isin(acc_ids)]"
   ]
  },
  {
   "cell_type": "markdown",
   "metadata": {},
   "source": [
    "Agora, definimos uma função para computar as frequencias de cada serviço dentro das dataframes selecionadas pela função acima:"
   ]
  },
  {
   "cell_type": "code",
   "execution_count": 62,
   "metadata": {
    "collapsed": false
   },
   "outputs": [],
   "source": [
    "def get_percentage(service, service_df):\n",
    "    unique_acc_ids = len(service_df[\"id_conta\"].unique())\n",
    "    count_num = len(service_df[service_df[\"servico\"] == service][\"id_conta\"].unique())\n",
    "    return (float(count_num) / unique_acc_ids) * 100.0"
   ]
  },
  {
   "cell_type": "markdown",
   "metadata": {},
   "source": [
    "E computamos a frequencia relativa a cada serviço principal para cada serviço atrelado. Apenas serviços que constam em mais de 1 id_conta são considerados serviços principais. "
   ]
  },
  {
   "cell_type": "code",
   "execution_count": 142,
   "metadata": {
    "collapsed": true
   },
   "outputs": [],
   "source": [
    "rel_freq_dict = {}\n",
    "for service in selected_df[\"servico\"].unique():\n",
    "    rel_freq_dict[service] = []\n",
    "    service_df = select_ids_containing_service(service)\n",
    "    if len(service_df[\"id_conta\"].unique()) == 1: # only working with services in more than a single id\n",
    "        continue\n",
    "    for related_service in service_df[\"servico\"].unique():\n",
    "        if related_service == service or related_service == master: # relation to itself and master is always 100%\n",
    "            continue \n",
    "        relative_freq = get_percentage(related_service, service_df)\n",
    "        rel_freq_dict[service].append((related_service, relative_freq))"
   ]
  },
  {
   "cell_type": "markdown",
   "metadata": {},
   "source": [
    "E montamos a tabela para exibir nossos resultados:"
   ]
  },
  {
   "cell_type": "code",
   "execution_count": 143,
   "metadata": {
    "collapsed": false
   },
   "outputs": [],
   "source": [
    "index = []\n",
    "for main_service in rel_freq_dict.keys():\n",
    "    for related_service, freq in rel_freq_dict[main_service]:\n",
    "        index.append((main_service, related_service))"
   ]
  },
  {
   "cell_type": "code",
   "execution_count": 144,
   "metadata": {
    "collapsed": false
   },
   "outputs": [],
   "source": [
    "mul_index = pd.MultiIndex.from_tuples(index, names=('Servico', 'Servicos Correlatos'))"
   ]
  },
  {
   "cell_type": "code",
   "execution_count": 145,
   "metadata": {
    "collapsed": false
   },
   "outputs": [],
   "source": [
    "corr_df = pd.DataFrame([freq for service in rel_freq_dict.keys() for (rel_serv, freq) in rel_freq_dict[service]], mul_index, [\"%\"])"
   ]
  },
  {
   "cell_type": "markdown",
   "metadata": {},
   "source": [
    "E, para cada serviço principal, ordenamos os serviços relacionados por frequencia relativa:"
   ]
  },
  {
   "cell_type": "code",
   "execution_count": 146,
   "metadata": {
    "collapsed": false
   },
   "outputs": [
    {
     "data": {
      "text/html": [
       "<div>\n",
       "<table border=\"1\" class=\"dataframe\">\n",
       "  <thead>\n",
       "    <tr style=\"text-align: right;\">\n",
       "      <th></th>\n",
       "      <th></th>\n",
       "      <th>%</th>\n",
       "    </tr>\n",
       "    <tr>\n",
       "      <th>Servico</th>\n",
       "      <th>Servicos Correlatos</th>\n",
       "      <th></th>\n",
       "    </tr>\n",
       "  </thead>\n",
       "  <tbody>\n",
       "    <tr>\n",
       "      <th rowspan=\"30\" valign=\"top\">'0000001639'</th>\n",
       "      <th>'70705330'</th>\n",
       "      <td>100.0</td>\n",
       "    </tr>\n",
       "    <tr>\n",
       "      <th>'70176108'</th>\n",
       "      <td>100.0</td>\n",
       "    </tr>\n",
       "    <tr>\n",
       "      <th>'40804054'</th>\n",
       "      <td>100.0</td>\n",
       "    </tr>\n",
       "    <tr>\n",
       "      <th>'90047249'</th>\n",
       "      <td>100.0</td>\n",
       "    </tr>\n",
       "    <tr>\n",
       "      <th>'10102019'</th>\n",
       "      <td>100.0</td>\n",
       "    </tr>\n",
       "    <tr>\n",
       "      <th>'0000027808'</th>\n",
       "      <td>100.0</td>\n",
       "    </tr>\n",
       "    <tr>\n",
       "      <th>'90094654'</th>\n",
       "      <td>100.0</td>\n",
       "    </tr>\n",
       "    <tr>\n",
       "      <th>'90090730'</th>\n",
       "      <td>100.0</td>\n",
       "    </tr>\n",
       "    <tr>\n",
       "      <th>'70360812'</th>\n",
       "      <td>100.0</td>\n",
       "    </tr>\n",
       "    <tr>\n",
       "      <th>'0000128569'</th>\n",
       "      <td>50.0</td>\n",
       "    </tr>\n",
       "    <tr>\n",
       "      <th>'0000154311'</th>\n",
       "      <td>50.0</td>\n",
       "    </tr>\n",
       "    <tr>\n",
       "      <th>'70193622'</th>\n",
       "      <td>50.0</td>\n",
       "    </tr>\n",
       "    <tr>\n",
       "      <th>'90137477'</th>\n",
       "      <td>50.0</td>\n",
       "    </tr>\n",
       "    <tr>\n",
       "      <th>'90045980'</th>\n",
       "      <td>50.0</td>\n",
       "    </tr>\n",
       "    <tr>\n",
       "      <th>'90099419'</th>\n",
       "      <td>50.0</td>\n",
       "    </tr>\n",
       "    <tr>\n",
       "      <th>'70270082'</th>\n",
       "      <td>50.0</td>\n",
       "    </tr>\n",
       "    <tr>\n",
       "      <th>'70139105'</th>\n",
       "      <td>50.0</td>\n",
       "    </tr>\n",
       "    <tr>\n",
       "      <th>'80042414'</th>\n",
       "      <td>50.0</td>\n",
       "    </tr>\n",
       "    <tr>\n",
       "      <th>'20104073'</th>\n",
       "      <td>50.0</td>\n",
       "    </tr>\n",
       "    <tr>\n",
       "      <th>'0000060583'</th>\n",
       "      <td>50.0</td>\n",
       "    </tr>\n",
       "    <tr>\n",
       "      <th>'80053343'</th>\n",
       "      <td>50.0</td>\n",
       "    </tr>\n",
       "    <tr>\n",
       "      <th>'0000167323'</th>\n",
       "      <td>50.0</td>\n",
       "    </tr>\n",
       "    <tr>\n",
       "      <th>'80021042'</th>\n",
       "      <td>50.0</td>\n",
       "    </tr>\n",
       "    <tr>\n",
       "      <th>'80051510'</th>\n",
       "      <td>50.0</td>\n",
       "    </tr>\n",
       "    <tr>\n",
       "      <th>'80052908'</th>\n",
       "      <td>50.0</td>\n",
       "    </tr>\n",
       "    <tr>\n",
       "      <th>'70349690'</th>\n",
       "      <td>50.0</td>\n",
       "    </tr>\n",
       "    <tr>\n",
       "      <th>'70139172'</th>\n",
       "      <td>50.0</td>\n",
       "    </tr>\n",
       "    <tr>\n",
       "      <th>'0000048140'</th>\n",
       "      <td>50.0</td>\n",
       "    </tr>\n",
       "    <tr>\n",
       "      <th>'90184378'</th>\n",
       "      <td>50.0</td>\n",
       "    </tr>\n",
       "    <tr>\n",
       "      <th>'70090050'</th>\n",
       "      <td>50.0</td>\n",
       "    </tr>\n",
       "    <tr>\n",
       "      <th>...</th>\n",
       "      <th>...</th>\n",
       "      <td>...</td>\n",
       "    </tr>\n",
       "    <tr>\n",
       "      <th rowspan=\"30\" valign=\"top\">'99999999'</th>\n",
       "      <th>'90142063'</th>\n",
       "      <td>50.0</td>\n",
       "    </tr>\n",
       "    <tr>\n",
       "      <th>'0000167323'</th>\n",
       "      <td>50.0</td>\n",
       "    </tr>\n",
       "    <tr>\n",
       "      <th>'20104073'</th>\n",
       "      <td>50.0</td>\n",
       "    </tr>\n",
       "    <tr>\n",
       "      <th>'40804054'</th>\n",
       "      <td>50.0</td>\n",
       "    </tr>\n",
       "    <tr>\n",
       "      <th>'80021042'</th>\n",
       "      <td>50.0</td>\n",
       "    </tr>\n",
       "    <tr>\n",
       "      <th>'70090050'</th>\n",
       "      <td>50.0</td>\n",
       "    </tr>\n",
       "    <tr>\n",
       "      <th>'80041043'</th>\n",
       "      <td>50.0</td>\n",
       "    </tr>\n",
       "    <tr>\n",
       "      <th>'70777730'</th>\n",
       "      <td>50.0</td>\n",
       "    </tr>\n",
       "    <tr>\n",
       "      <th>'90018591'</th>\n",
       "      <td>50.0</td>\n",
       "    </tr>\n",
       "    <tr>\n",
       "      <th>'0000027825'</th>\n",
       "      <td>50.0</td>\n",
       "    </tr>\n",
       "    <tr>\n",
       "      <th>'0000044131'</th>\n",
       "      <td>50.0</td>\n",
       "    </tr>\n",
       "    <tr>\n",
       "      <th>'70799172'</th>\n",
       "      <td>50.0</td>\n",
       "    </tr>\n",
       "    <tr>\n",
       "      <th>'80011012'</th>\n",
       "      <td>50.0</td>\n",
       "    </tr>\n",
       "    <tr>\n",
       "      <th>'80053920'</th>\n",
       "      <td>50.0</td>\n",
       "    </tr>\n",
       "    <tr>\n",
       "      <th>'80053904'</th>\n",
       "      <td>50.0</td>\n",
       "    </tr>\n",
       "    <tr>\n",
       "      <th>'0000048140'</th>\n",
       "      <td>50.0</td>\n",
       "    </tr>\n",
       "    <tr>\n",
       "      <th>'80042414'</th>\n",
       "      <td>50.0</td>\n",
       "    </tr>\n",
       "    <tr>\n",
       "      <th>'0000154311'</th>\n",
       "      <td>50.0</td>\n",
       "    </tr>\n",
       "    <tr>\n",
       "      <th>'0000128569'</th>\n",
       "      <td>50.0</td>\n",
       "    </tr>\n",
       "    <tr>\n",
       "      <th>'0000027808'</th>\n",
       "      <td>50.0</td>\n",
       "    </tr>\n",
       "    <tr>\n",
       "      <th>'70139105'</th>\n",
       "      <td>50.0</td>\n",
       "    </tr>\n",
       "    <tr>\n",
       "      <th>'70270082'</th>\n",
       "      <td>50.0</td>\n",
       "    </tr>\n",
       "    <tr>\n",
       "      <th>'90094654'</th>\n",
       "      <td>50.0</td>\n",
       "    </tr>\n",
       "    <tr>\n",
       "      <th>'90099419'</th>\n",
       "      <td>50.0</td>\n",
       "    </tr>\n",
       "    <tr>\n",
       "      <th>'90045980'</th>\n",
       "      <td>50.0</td>\n",
       "    </tr>\n",
       "    <tr>\n",
       "      <th>'90137477'</th>\n",
       "      <td>50.0</td>\n",
       "    </tr>\n",
       "    <tr>\n",
       "      <th>'70193622'</th>\n",
       "      <td>50.0</td>\n",
       "    </tr>\n",
       "    <tr>\n",
       "      <th>'70139172'</th>\n",
       "      <td>50.0</td>\n",
       "    </tr>\n",
       "    <tr>\n",
       "      <th>'90099370'</th>\n",
       "      <td>50.0</td>\n",
       "    </tr>\n",
       "    <tr>\n",
       "      <th>'90184378'</th>\n",
       "      <td>50.0</td>\n",
       "    </tr>\n",
       "  </tbody>\n",
       "</table>\n",
       "<p>194376 rows × 1 columns</p>\n",
       "</div>"
      ],
      "text/plain": [
       "                                      %\n",
       "Servico      Servicos Correlatos       \n",
       "'0000001639' '70705330'           100.0\n",
       "             '70176108'           100.0\n",
       "             '40804054'           100.0\n",
       "             '90047249'           100.0\n",
       "             '10102019'           100.0\n",
       "             '0000027808'         100.0\n",
       "             '90094654'           100.0\n",
       "             '90090730'           100.0\n",
       "             '70360812'           100.0\n",
       "             '0000128569'          50.0\n",
       "             '0000154311'          50.0\n",
       "             '70193622'            50.0\n",
       "             '90137477'            50.0\n",
       "             '90045980'            50.0\n",
       "             '90099419'            50.0\n",
       "             '70270082'            50.0\n",
       "             '70139105'            50.0\n",
       "             '80042414'            50.0\n",
       "             '20104073'            50.0\n",
       "             '0000060583'          50.0\n",
       "             '80053343'            50.0\n",
       "             '0000167323'          50.0\n",
       "             '80021042'            50.0\n",
       "             '80051510'            50.0\n",
       "             '80052908'            50.0\n",
       "             '70349690'            50.0\n",
       "             '70139172'            50.0\n",
       "             '0000048140'          50.0\n",
       "             '90184378'            50.0\n",
       "             '70090050'            50.0\n",
       "...                                 ...\n",
       "'99999999'   '90142063'            50.0\n",
       "             '0000167323'          50.0\n",
       "             '20104073'            50.0\n",
       "             '40804054'            50.0\n",
       "             '80021042'            50.0\n",
       "             '70090050'            50.0\n",
       "             '80041043'            50.0\n",
       "             '70777730'            50.0\n",
       "             '90018591'            50.0\n",
       "             '0000027825'          50.0\n",
       "             '0000044131'          50.0\n",
       "             '70799172'            50.0\n",
       "             '80011012'            50.0\n",
       "             '80053920'            50.0\n",
       "             '80053904'            50.0\n",
       "             '0000048140'          50.0\n",
       "             '80042414'            50.0\n",
       "             '0000154311'          50.0\n",
       "             '0000128569'          50.0\n",
       "             '0000027808'          50.0\n",
       "             '70139105'            50.0\n",
       "             '70270082'            50.0\n",
       "             '90094654'            50.0\n",
       "             '90099419'            50.0\n",
       "             '90045980'            50.0\n",
       "             '90137477'            50.0\n",
       "             '70193622'            50.0\n",
       "             '70139172'            50.0\n",
       "             '90099370'            50.0\n",
       "             '90184378'            50.0\n",
       "\n",
       "[194376 rows x 1 columns]"
      ]
     },
     "execution_count": 146,
     "metadata": {},
     "output_type": "execute_result"
    }
   ],
   "source": [
    "sorted_df = corr_df.sort_values('%', ascending=False).sort_index(level='Servico', sort_remaining=False)\n",
    "sorted_df"
   ]
  },
  {
   "cell_type": "markdown",
   "metadata": {},
   "source": [
    "Vamos agora preparar visualizações mais claras dos resultados. Primeiro, uma função para pegar a descrição de cada serviço para facilitar a compreensão: "
   ]
  },
  {
   "cell_type": "code",
   "execution_count": 147,
   "metadata": {
    "collapsed": true
   },
   "outputs": [],
   "source": [
    "def get_description(service):\n",
    "    return selected_df[selected_df[\"servico\"] == service][\"descricao\"].iloc[0]"
   ]
  },
  {
   "cell_type": "markdown",
   "metadata": {},
   "source": [
    "E agora selecionamos os 6 serviços que aparecem mais frequentemente junto ao master:"
   ]
  },
  {
   "cell_type": "code",
   "execution_count": 150,
   "metadata": {
    "collapsed": false
   },
   "outputs": [],
   "source": [
    "top_services = list(sorted_df.loc[master].head(6).index) # first item is the master itself"
   ]
  },
  {
   "cell_type": "markdown",
   "metadata": {},
   "source": [
    "E vemos quais foram os serviços que mais apareceram junto a cada um deles:"
   ]
  },
  {
   "cell_type": "code",
   "execution_count": 151,
   "metadata": {
    "collapsed": false
   },
   "outputs": [
    {
     "name": "stdout",
     "output_type": "stream",
     "text": [
      "--------- '40304361': 'HEMOGRAMA COM CONTAGEM DE PLAQUETAS OU FRAES ERITR' ---------\n"
     ]
    },
    {
     "data": {
      "text/html": [
       "<div>\n",
       "<table border=\"1\" class=\"dataframe\">\n",
       "  <thead>\n",
       "    <tr style=\"text-align: right;\">\n",
       "      <th></th>\n",
       "      <th>%</th>\n",
       "      <th>Descricao</th>\n",
       "    </tr>\n",
       "    <tr>\n",
       "      <th>Servicos Correlatos</th>\n",
       "      <th></th>\n",
       "      <th></th>\n",
       "    </tr>\n",
       "  </thead>\n",
       "  <tbody>\n",
       "    <tr>\n",
       "      <th>'40301630'</th>\n",
       "      <td>100.000000</td>\n",
       "      <td>'CREATININA'</td>\n",
       "    </tr>\n",
       "    <tr>\n",
       "      <th>'40302580'</th>\n",
       "      <td>100.000000</td>\n",
       "      <td>'URIA'</td>\n",
       "    </tr>\n",
       "    <tr>\n",
       "      <th>'40302318'</th>\n",
       "      <td>95.454545</td>\n",
       "      <td>'POTSSIO'</td>\n",
       "    </tr>\n",
       "    <tr>\n",
       "      <th>'40302423'</th>\n",
       "      <td>95.454545</td>\n",
       "      <td>'SDIO'</td>\n",
       "    </tr>\n",
       "    <tr>\n",
       "      <th>'40302237'</th>\n",
       "      <td>81.818182</td>\n",
       "      <td>'MAGNSIO'</td>\n",
       "    </tr>\n",
       "  </tbody>\n",
       "</table>\n",
       "</div>"
      ],
      "text/plain": [
       "                              %     Descricao\n",
       "Servicos Correlatos                          \n",
       "'40301630'           100.000000  'CREATININA'\n",
       "'40302580'           100.000000        'URIA'\n",
       "'40302318'            95.454545     'POTSSIO'\n",
       "'40302423'            95.454545        'SDIO'\n",
       "'40302237'            81.818182     'MAGNSIO'"
      ]
     },
     "metadata": {},
     "output_type": "display_data"
    },
    {
     "name": "stdout",
     "output_type": "stream",
     "text": [
      "\n",
      "--------- '40302580': 'URIA' ---------\n"
     ]
    },
    {
     "data": {
      "text/html": [
       "<div>\n",
       "<table border=\"1\" class=\"dataframe\">\n",
       "  <thead>\n",
       "    <tr style=\"text-align: right;\">\n",
       "      <th></th>\n",
       "      <th>%</th>\n",
       "      <th>Descricao</th>\n",
       "    </tr>\n",
       "    <tr>\n",
       "      <th>Servicos Correlatos</th>\n",
       "      <th></th>\n",
       "      <th></th>\n",
       "    </tr>\n",
       "  </thead>\n",
       "  <tbody>\n",
       "    <tr>\n",
       "      <th>'40304361'</th>\n",
       "      <td>100.000000</td>\n",
       "      <td>'HEMOGRAMA COM CONTAGEM DE PLAQUETAS OU FRAES ...</td>\n",
       "    </tr>\n",
       "    <tr>\n",
       "      <th>'40301630'</th>\n",
       "      <td>100.000000</td>\n",
       "      <td>'CREATININA'</td>\n",
       "    </tr>\n",
       "    <tr>\n",
       "      <th>'40302318'</th>\n",
       "      <td>95.454545</td>\n",
       "      <td>'POTSSIO'</td>\n",
       "    </tr>\n",
       "    <tr>\n",
       "      <th>'40302423'</th>\n",
       "      <td>95.454545</td>\n",
       "      <td>'SDIO'</td>\n",
       "    </tr>\n",
       "    <tr>\n",
       "      <th>'40304590'</th>\n",
       "      <td>81.818182</td>\n",
       "      <td>'Tempo de protrombina - determinacao'</td>\n",
       "    </tr>\n",
       "  </tbody>\n",
       "</table>\n",
       "</div>"
      ],
      "text/plain": [
       "                              %  \\\n",
       "Servicos Correlatos               \n",
       "'40304361'           100.000000   \n",
       "'40301630'           100.000000   \n",
       "'40302318'            95.454545   \n",
       "'40302423'            95.454545   \n",
       "'40304590'            81.818182   \n",
       "\n",
       "                                                             Descricao  \n",
       "Servicos Correlatos                                                     \n",
       "'40304361'           'HEMOGRAMA COM CONTAGEM DE PLAQUETAS OU FRAES ...  \n",
       "'40301630'                                                'CREATININA'  \n",
       "'40302318'                                                   'POTSSIO'  \n",
       "'40302423'                                                      'SDIO'  \n",
       "'40304590'                       'Tempo de protrombina - determinacao'  "
      ]
     },
     "metadata": {},
     "output_type": "display_data"
    },
    {
     "name": "stdout",
     "output_type": "stream",
     "text": [
      "\n",
      "--------- '90196031': 'DIPIRONA 1G AMPOLA 2ML' ---------\n"
     ]
    },
    {
     "data": {
      "text/html": [
       "<div>\n",
       "<table border=\"1\" class=\"dataframe\">\n",
       "  <thead>\n",
       "    <tr style=\"text-align: right;\">\n",
       "      <th></th>\n",
       "      <th>%</th>\n",
       "      <th>Descricao</th>\n",
       "    </tr>\n",
       "    <tr>\n",
       "      <th>Servicos Correlatos</th>\n",
       "      <th></th>\n",
       "      <th></th>\n",
       "    </tr>\n",
       "  </thead>\n",
       "  <tbody>\n",
       "    <tr>\n",
       "      <th>'90008332'</th>\n",
       "      <td>81.818182</td>\n",
       "      <td>'CEFAZOLINA 1G FRASCO'</td>\n",
       "    </tr>\n",
       "    <tr>\n",
       "      <th>'60023180'</th>\n",
       "      <td>63.636364</td>\n",
       "      <td>'TAXA DE SALA DE RECUPERACAO POSANESTESICA'</td>\n",
       "    </tr>\n",
       "    <tr>\n",
       "      <th>'90003551'</th>\n",
       "      <td>54.545455</td>\n",
       "      <td>'DEXAMETASONA 4MG/ML FRASCO 2</td>\n",
       "    </tr>\n",
       "    <tr>\n",
       "      <th>'70014370'</th>\n",
       "      <td>54.545455</td>\n",
       "      <td>'AGULHA DESC. 40 X 12 (BD)'</td>\n",
       "    </tr>\n",
       "    <tr>\n",
       "      <th>'90184378'</th>\n",
       "      <td>54.545455</td>\n",
       "      <td>'MIDAZOLAM 5MG AMP. 5ML'</td>\n",
       "    </tr>\n",
       "  </tbody>\n",
       "</table>\n",
       "</div>"
      ],
      "text/plain": [
       "                             %                                    Descricao\n",
       "Servicos Correlatos                                                        \n",
       "'90008332'           81.818182                       'CEFAZOLINA 1G FRASCO'\n",
       "'60023180'           63.636364  'TAXA DE SALA DE RECUPERACAO POSANESTESICA'\n",
       "'90003551'           54.545455                'DEXAMETASONA 4MG/ML FRASCO 2\n",
       "'70014370'           54.545455                  'AGULHA DESC. 40 X 12 (BD)'\n",
       "'90184378'           54.545455                     'MIDAZOLAM 5MG AMP. 5ML'"
      ]
     },
     "metadata": {},
     "output_type": "display_data"
    },
    {
     "name": "stdout",
     "output_type": "stream",
     "text": [
      "\n",
      "--------- '40301630': 'CREATININA' ---------\n"
     ]
    },
    {
     "data": {
      "text/html": [
       "<div>\n",
       "<table border=\"1\" class=\"dataframe\">\n",
       "  <thead>\n",
       "    <tr style=\"text-align: right;\">\n",
       "      <th></th>\n",
       "      <th>%</th>\n",
       "      <th>Descricao</th>\n",
       "    </tr>\n",
       "    <tr>\n",
       "      <th>Servicos Correlatos</th>\n",
       "      <th></th>\n",
       "      <th></th>\n",
       "    </tr>\n",
       "  </thead>\n",
       "  <tbody>\n",
       "    <tr>\n",
       "      <th>'40302580'</th>\n",
       "      <td>100.000000</td>\n",
       "      <td>'URIA'</td>\n",
       "    </tr>\n",
       "    <tr>\n",
       "      <th>'40304361'</th>\n",
       "      <td>100.000000</td>\n",
       "      <td>'HEMOGRAMA COM CONTAGEM DE PLAQUETAS OU FRAES ...</td>\n",
       "    </tr>\n",
       "    <tr>\n",
       "      <th>'40302318'</th>\n",
       "      <td>95.454545</td>\n",
       "      <td>'POTSSIO'</td>\n",
       "    </tr>\n",
       "    <tr>\n",
       "      <th>'40302423'</th>\n",
       "      <td>95.454545</td>\n",
       "      <td>'SDIO'</td>\n",
       "    </tr>\n",
       "    <tr>\n",
       "      <th>'40304590'</th>\n",
       "      <td>81.818182</td>\n",
       "      <td>'Tempo de protrombina - determinacao'</td>\n",
       "    </tr>\n",
       "  </tbody>\n",
       "</table>\n",
       "</div>"
      ],
      "text/plain": [
       "                              %  \\\n",
       "Servicos Correlatos               \n",
       "'40302580'           100.000000   \n",
       "'40304361'           100.000000   \n",
       "'40302318'            95.454545   \n",
       "'40302423'            95.454545   \n",
       "'40304590'            81.818182   \n",
       "\n",
       "                                                             Descricao  \n",
       "Servicos Correlatos                                                     \n",
       "'40302580'                                                      'URIA'  \n",
       "'40304361'           'HEMOGRAMA COM CONTAGEM DE PLAQUETAS OU FRAES ...  \n",
       "'40302318'                                                   'POTSSIO'  \n",
       "'40302423'                                                      'SDIO'  \n",
       "'40304590'                       'Tempo de protrombina - determinacao'  "
      ]
     },
     "metadata": {},
     "output_type": "display_data"
    },
    {
     "name": "stdout",
     "output_type": "stream",
     "text": [
      "\n",
      "--------- '40302423': 'SDIO' ---------\n"
     ]
    },
    {
     "data": {
      "text/html": [
       "<div>\n",
       "<table border=\"1\" class=\"dataframe\">\n",
       "  <thead>\n",
       "    <tr style=\"text-align: right;\">\n",
       "      <th></th>\n",
       "      <th>%</th>\n",
       "      <th>Descricao</th>\n",
       "    </tr>\n",
       "    <tr>\n",
       "      <th>Servicos Correlatos</th>\n",
       "      <th></th>\n",
       "      <th></th>\n",
       "    </tr>\n",
       "  </thead>\n",
       "  <tbody>\n",
       "    <tr>\n",
       "      <th>'40301630'</th>\n",
       "      <td>100.000000</td>\n",
       "      <td>'CREATININA'</td>\n",
       "    </tr>\n",
       "    <tr>\n",
       "      <th>'40304361'</th>\n",
       "      <td>100.000000</td>\n",
       "      <td>'HEMOGRAMA COM CONTAGEM DE PLAQUETAS OU FRAES ...</td>\n",
       "    </tr>\n",
       "    <tr>\n",
       "      <th>'40302580'</th>\n",
       "      <td>100.000000</td>\n",
       "      <td>'URIA'</td>\n",
       "    </tr>\n",
       "    <tr>\n",
       "      <th>'40302318'</th>\n",
       "      <td>95.238095</td>\n",
       "      <td>'POTSSIO'</td>\n",
       "    </tr>\n",
       "    <tr>\n",
       "      <th>'40302237'</th>\n",
       "      <td>80.952381</td>\n",
       "      <td>'MAGNSIO'</td>\n",
       "    </tr>\n",
       "  </tbody>\n",
       "</table>\n",
       "</div>"
      ],
      "text/plain": [
       "                              %  \\\n",
       "Servicos Correlatos               \n",
       "'40301630'           100.000000   \n",
       "'40304361'           100.000000   \n",
       "'40302580'           100.000000   \n",
       "'40302318'            95.238095   \n",
       "'40302237'            80.952381   \n",
       "\n",
       "                                                             Descricao  \n",
       "Servicos Correlatos                                                     \n",
       "'40301630'                                                'CREATININA'  \n",
       "'40304361'           'HEMOGRAMA COM CONTAGEM DE PLAQUETAS OU FRAES ...  \n",
       "'40302580'                                                      'URIA'  \n",
       "'40302318'                                                   'POTSSIO'  \n",
       "'40302237'                                                   'MAGNSIO'  "
      ]
     },
     "metadata": {},
     "output_type": "display_data"
    },
    {
     "name": "stdout",
     "output_type": "stream",
     "text": [
      "\n",
      "--------- '40302318': 'POTSSIO' ---------\n"
     ]
    },
    {
     "data": {
      "text/html": [
       "<div>\n",
       "<table border=\"1\" class=\"dataframe\">\n",
       "  <thead>\n",
       "    <tr style=\"text-align: right;\">\n",
       "      <th></th>\n",
       "      <th>%</th>\n",
       "      <th>Descricao</th>\n",
       "    </tr>\n",
       "    <tr>\n",
       "      <th>Servicos Correlatos</th>\n",
       "      <th></th>\n",
       "      <th></th>\n",
       "    </tr>\n",
       "  </thead>\n",
       "  <tbody>\n",
       "    <tr>\n",
       "      <th>'40301630'</th>\n",
       "      <td>100.000000</td>\n",
       "      <td>'CREATININA'</td>\n",
       "    </tr>\n",
       "    <tr>\n",
       "      <th>'40304361'</th>\n",
       "      <td>100.000000</td>\n",
       "      <td>'HEMOGRAMA COM CONTAGEM DE PLAQUETAS OU FRAES ...</td>\n",
       "    </tr>\n",
       "    <tr>\n",
       "      <th>'40302580'</th>\n",
       "      <td>100.000000</td>\n",
       "      <td>'URIA'</td>\n",
       "    </tr>\n",
       "    <tr>\n",
       "      <th>'40302423'</th>\n",
       "      <td>95.238095</td>\n",
       "      <td>'SDIO'</td>\n",
       "    </tr>\n",
       "    <tr>\n",
       "      <th>'40302237'</th>\n",
       "      <td>80.952381</td>\n",
       "      <td>'MAGNSIO'</td>\n",
       "    </tr>\n",
       "  </tbody>\n",
       "</table>\n",
       "</div>"
      ],
      "text/plain": [
       "                              %  \\\n",
       "Servicos Correlatos               \n",
       "'40301630'           100.000000   \n",
       "'40304361'           100.000000   \n",
       "'40302580'           100.000000   \n",
       "'40302423'            95.238095   \n",
       "'40302237'            80.952381   \n",
       "\n",
       "                                                             Descricao  \n",
       "Servicos Correlatos                                                     \n",
       "'40301630'                                                'CREATININA'  \n",
       "'40304361'           'HEMOGRAMA COM CONTAGEM DE PLAQUETAS OU FRAES ...  \n",
       "'40302580'                                                      'URIA'  \n",
       "'40302423'                                                      'SDIO'  \n",
       "'40302237'                                                   'MAGNSIO'  "
      ]
     },
     "metadata": {},
     "output_type": "display_data"
    },
    {
     "name": "stdout",
     "output_type": "stream",
     "text": [
      "\n"
     ]
    }
   ],
   "source": [
    "for service in top_services:\n",
    "    top_service_df = sorted_df.loc[service].head(5)\n",
    "    top_service_df[\"Descricao\"] = [get_description(item) for item in top_service_df.index]\n",
    "    print \"--------- \" + service + \": \" + get_description(service) +  \" ---------\" \n",
    "    display(top_service_df)\n",
    "    print \"\""
   ]
  }
 ],
 "metadata": {
  "anaconda-cloud": {},
  "kernelspec": {
   "display_name": "Python [conda root]",
   "language": "python",
   "name": "conda-root-py"
  },
  "language_info": {
   "codemirror_mode": {
    "name": "ipython",
    "version": 2
   },
   "file_extension": ".py",
   "mimetype": "text/x-python",
   "name": "python",
   "nbconvert_exporter": "python",
   "pygments_lexer": "ipython2",
   "version": "2.7.12"
  }
 },
 "nbformat": 4,
 "nbformat_minor": 1
}
